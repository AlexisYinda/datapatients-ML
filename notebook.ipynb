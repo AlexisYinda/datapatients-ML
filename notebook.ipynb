{
 "cells": [
  {
   "cell_type": "code",
   "execution_count": 1,
   "id": "c7a2fd08-5692-47a4-b17b-610847b1cdeb",
   "metadata": {},
   "outputs": [],
   "source": [
    "import pandas as pd\n",
    "import numpy as np\n",
    "import os\n",
    "import requests\n",
    "import matplotlib.pyplot as plt\n",
    "import seaborn as sns\n",
    "\n",
    "%matplotlib inline"
   ]
  },
  {
   "cell_type": "code",
   "execution_count": 3,
   "id": "71500b1a-6b19-49a2-bc3f-036193aca0d5",
   "metadata": {},
   "outputs": [],
   "source": [
    "# Get the current working directory\n",
    "#curent_directory = os.getcwd()\n",
    "#print(\"The current directory is : \", curent_directory)\n",
    "# List all files and folders in the current directory\n",
    "#entries = os.listdir(curent_directory)\n",
    "\n",
    "#for a in entries :\n",
    "   # print(a) \n",
    "    #print()\n",
    "# Returns ['my_data, 'airbnb_data.csv'] "
   ]
  },
  {
   "cell_type": "code",
   "execution_count": 5,
   "id": "6ee5dad4-2be7-4078-b6a0-870a7112e073",
   "metadata": {},
   "outputs": [],
   "source": [
    "file_path = 'Patients-Data-Heart-Disease-Prediction.xlsx'  # BE PATIENT, IT'S A LARGE FILE, IT TAKES MUCH TIME LOADING\n",
    "df = pd.read_excel(file_path)"
   ]
  },
  {
   "cell_type": "code",
   "execution_count": 13,
   "id": "fb6cf1c6-09d1-46fb-927a-c172ca72cb53",
   "metadata": {},
   "outputs": [
    {
     "data": {
      "text/html": [
       "<div>\n",
       "<style scoped>\n",
       "    .dataframe tbody tr th:only-of-type {\n",
       "        vertical-align: middle;\n",
       "    }\n",
       "\n",
       "    .dataframe tbody tr th {\n",
       "        vertical-align: top;\n",
       "    }\n",
       "\n",
       "    .dataframe thead th {\n",
       "        text-align: right;\n",
       "    }\n",
       "</style>\n",
       "<table border=\"1\" class=\"dataframe\">\n",
       "  <thead>\n",
       "    <tr style=\"text-align: right;\">\n",
       "      <th></th>\n",
       "      <th>PatientID</th>\n",
       "      <th>State</th>\n",
       "      <th>Sex</th>\n",
       "      <th>GeneralHealth</th>\n",
       "      <th>AgeCategory</th>\n",
       "      <th>HeightInMeters</th>\n",
       "      <th>WeightInKilograms</th>\n",
       "      <th>BMI</th>\n",
       "      <th>HadHeartAttack</th>\n",
       "      <th>HadAngina</th>\n",
       "      <th>...</th>\n",
       "      <th>ECigaretteUsage</th>\n",
       "      <th>ChestScan</th>\n",
       "      <th>RaceEthnicityCategory</th>\n",
       "      <th>AlcoholDrinkers</th>\n",
       "      <th>HIVTesting</th>\n",
       "      <th>FluVaxLast12</th>\n",
       "      <th>PneumoVaxEver</th>\n",
       "      <th>TetanusLast10Tdap</th>\n",
       "      <th>HighRiskLastYear</th>\n",
       "      <th>CovidPos</th>\n",
       "    </tr>\n",
       "  </thead>\n",
       "  <tbody>\n",
       "    <tr>\n",
       "      <th>0</th>\n",
       "      <td>1</td>\n",
       "      <td>Alabama</td>\n",
       "      <td>Female</td>\n",
       "      <td>Fair</td>\n",
       "      <td>Age 75 to 79</td>\n",
       "      <td>1.63</td>\n",
       "      <td>84.820000</td>\n",
       "      <td>32.099998</td>\n",
       "      <td>0</td>\n",
       "      <td>1</td>\n",
       "      <td>...</td>\n",
       "      <td>Never used e-cigarettes in my entire life</td>\n",
       "      <td>1</td>\n",
       "      <td>White only, Non-Hispanic</td>\n",
       "      <td>0</td>\n",
       "      <td>0</td>\n",
       "      <td>0</td>\n",
       "      <td>1</td>\n",
       "      <td>No, did not receive any tetanus shot in the pa...</td>\n",
       "      <td>0</td>\n",
       "      <td>1</td>\n",
       "    </tr>\n",
       "    <tr>\n",
       "      <th>1</th>\n",
       "      <td>2</td>\n",
       "      <td>Alabama</td>\n",
       "      <td>Female</td>\n",
       "      <td>Very good</td>\n",
       "      <td>Age 65 to 69</td>\n",
       "      <td>1.60</td>\n",
       "      <td>71.669998</td>\n",
       "      <td>27.990000</td>\n",
       "      <td>0</td>\n",
       "      <td>0</td>\n",
       "      <td>...</td>\n",
       "      <td>Never used e-cigarettes in my entire life</td>\n",
       "      <td>0</td>\n",
       "      <td>White only, Non-Hispanic</td>\n",
       "      <td>0</td>\n",
       "      <td>0</td>\n",
       "      <td>1</td>\n",
       "      <td>1</td>\n",
       "      <td>Yes, received Tdap</td>\n",
       "      <td>0</td>\n",
       "      <td>0</td>\n",
       "    </tr>\n",
       "    <tr>\n",
       "      <th>2</th>\n",
       "      <td>3</td>\n",
       "      <td>Alabama</td>\n",
       "      <td>Male</td>\n",
       "      <td>Excellent</td>\n",
       "      <td>Age 60 to 64</td>\n",
       "      <td>1.78</td>\n",
       "      <td>71.209999</td>\n",
       "      <td>22.530001</td>\n",
       "      <td>0</td>\n",
       "      <td>0</td>\n",
       "      <td>...</td>\n",
       "      <td>Never used e-cigarettes in my entire life</td>\n",
       "      <td>0</td>\n",
       "      <td>White only, Non-Hispanic</td>\n",
       "      <td>1</td>\n",
       "      <td>0</td>\n",
       "      <td>0</td>\n",
       "      <td>0</td>\n",
       "      <td>Yes, received tetanus shot but not sure what type</td>\n",
       "      <td>0</td>\n",
       "      <td>0</td>\n",
       "    </tr>\n",
       "    <tr>\n",
       "      <th>3</th>\n",
       "      <td>4</td>\n",
       "      <td>Alabama</td>\n",
       "      <td>Male</td>\n",
       "      <td>Very good</td>\n",
       "      <td>Age 70 to 74</td>\n",
       "      <td>1.78</td>\n",
       "      <td>95.250000</td>\n",
       "      <td>30.129999</td>\n",
       "      <td>0</td>\n",
       "      <td>0</td>\n",
       "      <td>...</td>\n",
       "      <td>Never used e-cigarettes in my entire life</td>\n",
       "      <td>0</td>\n",
       "      <td>White only, Non-Hispanic</td>\n",
       "      <td>0</td>\n",
       "      <td>0</td>\n",
       "      <td>1</td>\n",
       "      <td>1</td>\n",
       "      <td>Yes, received tetanus shot but not sure what type</td>\n",
       "      <td>0</td>\n",
       "      <td>0</td>\n",
       "    </tr>\n",
       "    <tr>\n",
       "      <th>4</th>\n",
       "      <td>5</td>\n",
       "      <td>Alabama</td>\n",
       "      <td>Female</td>\n",
       "      <td>Good</td>\n",
       "      <td>Age 50 to 54</td>\n",
       "      <td>1.68</td>\n",
       "      <td>78.019997</td>\n",
       "      <td>27.760000</td>\n",
       "      <td>0</td>\n",
       "      <td>0</td>\n",
       "      <td>...</td>\n",
       "      <td>Never used e-cigarettes in my entire life</td>\n",
       "      <td>1</td>\n",
       "      <td>Black only, Non-Hispanic</td>\n",
       "      <td>0</td>\n",
       "      <td>0</td>\n",
       "      <td>1</td>\n",
       "      <td>0</td>\n",
       "      <td>No, did not receive any tetanus shot in the pa...</td>\n",
       "      <td>0</td>\n",
       "      <td>0</td>\n",
       "    </tr>\n",
       "  </tbody>\n",
       "</table>\n",
       "<p>5 rows × 35 columns</p>\n",
       "</div>"
      ],
      "text/plain": [
       "   PatientID    State     Sex GeneralHealth   AgeCategory  HeightInMeters  \\\n",
       "0          1  Alabama  Female          Fair  Age 75 to 79            1.63   \n",
       "1          2  Alabama  Female     Very good  Age 65 to 69            1.60   \n",
       "2          3  Alabama    Male     Excellent  Age 60 to 64            1.78   \n",
       "3          4  Alabama    Male     Very good  Age 70 to 74            1.78   \n",
       "4          5  Alabama  Female          Good  Age 50 to 54            1.68   \n",
       "\n",
       "   WeightInKilograms        BMI  HadHeartAttack  HadAngina  ...  \\\n",
       "0          84.820000  32.099998               0          1  ...   \n",
       "1          71.669998  27.990000               0          0  ...   \n",
       "2          71.209999  22.530001               0          0  ...   \n",
       "3          95.250000  30.129999               0          0  ...   \n",
       "4          78.019997  27.760000               0          0  ...   \n",
       "\n",
       "                             ECigaretteUsage  ChestScan  \\\n",
       "0  Never used e-cigarettes in my entire life          1   \n",
       "1  Never used e-cigarettes in my entire life          0   \n",
       "2  Never used e-cigarettes in my entire life          0   \n",
       "3  Never used e-cigarettes in my entire life          0   \n",
       "4  Never used e-cigarettes in my entire life          1   \n",
       "\n",
       "      RaceEthnicityCategory  AlcoholDrinkers  HIVTesting  FluVaxLast12  \\\n",
       "0  White only, Non-Hispanic                0           0             0   \n",
       "1  White only, Non-Hispanic                0           0             1   \n",
       "2  White only, Non-Hispanic                1           0             0   \n",
       "3  White only, Non-Hispanic                0           0             1   \n",
       "4  Black only, Non-Hispanic                0           0             1   \n",
       "\n",
       "   PneumoVaxEver                                  TetanusLast10Tdap  \\\n",
       "0              1  No, did not receive any tetanus shot in the pa...   \n",
       "1              1                                 Yes, received Tdap   \n",
       "2              0  Yes, received tetanus shot but not sure what type   \n",
       "3              1  Yes, received tetanus shot but not sure what type   \n",
       "4              0  No, did not receive any tetanus shot in the pa...   \n",
       "\n",
       "   HighRiskLastYear  CovidPos  \n",
       "0                 0         1  \n",
       "1                 0         0  \n",
       "2                 0         0  \n",
       "3                 0         0  \n",
       "4                 0         0  \n",
       "\n",
       "[5 rows x 35 columns]"
      ]
     },
     "execution_count": 13,
     "metadata": {},
     "output_type": "execute_result"
    }
   ],
   "source": [
    "df.head()"
   ]
  },
  {
   "cell_type": "code",
   "execution_count": 5,
   "id": "13e95c67-f5b3-40be-a9e8-153e184c8d8f",
   "metadata": {},
   "outputs": [
    {
     "data": {
      "text/plain": [
       "(237630, 35)"
      ]
     },
     "execution_count": 5,
     "metadata": {},
     "output_type": "execute_result"
    }
   ],
   "source": [
    "df.shape"
   ]
  },
  {
   "cell_type": "code",
   "execution_count": 7,
   "id": "36b6139e-2463-4628-885b-3821cb9e4f84",
   "metadata": {},
   "outputs": [
    {
     "data": {
      "text/plain": [
       "Index(['PatientID', 'State', 'Sex', 'GeneralHealth', 'AgeCategory',\n",
       "       'HeightInMeters', 'WeightInKilograms', 'BMI', 'HadHeartAttack',\n",
       "       'HadAngina', 'HadStroke', 'HadAsthma', 'HadSkinCancer', 'HadCOPD',\n",
       "       'HadDepressiveDisorder', 'HadKidneyDisease', 'HadArthritis',\n",
       "       'HadDiabetes', 'DeafOrHardOfHearing', 'BlindOrVisionDifficulty',\n",
       "       'DifficultyConcentrating', 'DifficultyWalking',\n",
       "       'DifficultyDressingBathing', 'DifficultyErrands', 'SmokerStatus',\n",
       "       'ECigaretteUsage', 'ChestScan', 'RaceEthnicityCategory',\n",
       "       'AlcoholDrinkers', 'HIVTesting', 'FluVaxLast12', 'PneumoVaxEver',\n",
       "       'TetanusLast10Tdap', 'HighRiskLastYear', 'CovidPos'],\n",
       "      dtype='object')"
      ]
     },
     "execution_count": 7,
     "metadata": {},
     "output_type": "execute_result"
    }
   ],
   "source": [
    "df.columns"
   ]
  },
  {
   "cell_type": "code",
   "execution_count": 25,
   "id": "563ea714-229a-4018-8b97-d6b7a01cfb78",
   "metadata": {},
   "outputs": [
    {
     "data": {
      "text/plain": [
       "[{'PatientID': 20,\n",
       "  'State': 'Alabama',\n",
       "  'Sex': 'Male',\n",
       "  'GeneralHealth': 'Good',\n",
       "  'AgeCategory': 'Age 40 to 44',\n",
       "  'HeightInMeters': 1.70000004768372,\n",
       "  'WeightInKilograms': 78.0199966430664,\n",
       "  'BMI': 26.9400005340576,\n",
       "  'HadHeartAttack': 0,\n",
       "  'HadAngina': 0,\n",
       "  'HadStroke': 0,\n",
       "  'HadAsthma': 0,\n",
       "  'HadSkinCancer': 0,\n",
       "  'HadCOPD': 0,\n",
       "  'HadDepressiveDisorder': 0,\n",
       "  'HadKidneyDisease': 0,\n",
       "  'HadArthritis': 1,\n",
       "  'HadDiabetes': 'No',\n",
       "  'DeafOrHardOfHearing': 1,\n",
       "  'BlindOrVisionDifficulty': 0,\n",
       "  'DifficultyConcentrating': 0,\n",
       "  'DifficultyWalking': 0,\n",
       "  'DifficultyDressingBathing': 0,\n",
       "  'DifficultyErrands': 0,\n",
       "  'SmokerStatus': 'Former smoker',\n",
       "  'ECigaretteUsage': 'Never used e-cigarettes in my entire life',\n",
       "  'ChestScan': 1,\n",
       "  'RaceEthnicityCategory': 'White only, Non-Hispanic',\n",
       "  'AlcoholDrinkers': 0,\n",
       "  'HIVTesting': 0,\n",
       "  'FluVaxLast12': 0,\n",
       "  'PneumoVaxEver': 0,\n",
       "  'TetanusLast10Tdap': 'No, did not receive any tetanus shot in the past 10 years',\n",
       "  'HighRiskLastYear': 0,\n",
       "  'CovidPos': 1}]"
      ]
     },
     "execution_count": 25,
     "metadata": {},
     "output_type": "execute_result"
    }
   ],
   "source": [
    "(df[19:20]).to_dict(orient='records')"
   ]
  },
  {
   "cell_type": "code",
   "execution_count": 19,
   "id": "b1cc91e5-bf12-4483-a16e-d4d7c52d278a",
   "metadata": {},
   "outputs": [],
   "source": [
    "# Using lower() + string slicing\n",
    "# Lowercase first character of String\n",
    "#res = test_str[0].lower() + test_str[1:]\n",
    "#df.columns = df.columns.str.lower().str.replace(' ', '_')\n",
    "\n",
    "#df1 = df.copy()\n",
    "# Lowercase first character of String\n",
    "#for a in df1.columns :\n",
    "#    a = a[0].lower() + a[1:]\n",
    "#    print(a)\n",
    "    "
   ]
  },
  {
   "cell_type": "code",
   "execution_count": 21,
   "id": "8fdd317a-6591-43e7-a056-0d538085b2b7",
   "metadata": {},
   "outputs": [],
   "source": [
    "#df1.columns"
   ]
  },
  {
   "cell_type": "markdown",
   "id": "c39b2816-dad5-4f7e-84dd-fefae8b6fa0b",
   "metadata": {},
   "source": [
    "### Preparing the dataset "
   ]
  },
  {
   "cell_type": "markdown",
   "id": "54bbe1c9-7f52-404c-a547-23aa9a9bf780",
   "metadata": {},
   "source": [
    "**First, we'll normalize the names of the columns:**"
   ]
  },
  {
   "cell_type": "code",
   "execution_count": 25,
   "id": "8d3208c5-c783-4141-9a2c-1b15fa183524",
   "metadata": {},
   "outputs": [],
   "source": [
    "# Lowercase first character of String\n",
    "#for a in df.columns :\n",
    "#    a = a[0].lower() + a[1:]"
   ]
  },
  {
   "cell_type": "code",
   "execution_count": 35,
   "id": "29f87931-3a69-4459-9474-367e8ca824f0",
   "metadata": {},
   "outputs": [],
   "source": [
    "df.columns = df.columns.str.lower().str.replace(' ', '_')\n",
    "categorical_columns = list(df.dtypes[df.dtypes == 'object'].index)\n",
    "\n",
    "for c in categorical_columns:\n",
    "    df[c] = df[c].str.lower().str.replace(' ', '_')"
   ]
  },
  {
   "cell_type": "code",
   "execution_count": 29,
   "id": "a51dfce2-0524-4d88-9b60-ac15c0f8ba98",
   "metadata": {},
   "outputs": [
    {
     "data": {
      "text/plain": [
       "Index(['patientid', 'state', 'sex', 'generalhealth', 'agecategory',\n",
       "       'heightinmeters', 'weightinkilograms', 'bmi', 'hadheartattack',\n",
       "       'hadangina', 'hadstroke', 'hadasthma', 'hadskincancer', 'hadcopd',\n",
       "       'haddepressivedisorder', 'hadkidneydisease', 'hadarthritis',\n",
       "       'haddiabetes', 'deaforhardofhearing', 'blindorvisiondifficulty',\n",
       "       'difficultyconcentrating', 'difficultywalking',\n",
       "       'difficultydressingbathing', 'difficultyerrands', 'smokerstatus',\n",
       "       'ecigaretteusage', 'chestscan', 'raceethnicitycategory',\n",
       "       'alcoholdrinkers', 'hivtesting', 'fluvaxlast12', 'pneumovaxever',\n",
       "       'tetanuslast10tdap', 'highrisklastyear', 'covidpos'],\n",
       "      dtype='object')"
      ]
     },
     "execution_count": 29,
     "metadata": {},
     "output_type": "execute_result"
    }
   ],
   "source": [
    "df.columns"
   ]
  },
  {
   "cell_type": "code",
   "execution_count": 31,
   "id": "bd6e5604-c7fa-42dd-87ee-bcfd62ff067e",
   "metadata": {},
   "outputs": [
    {
     "data": {
      "text/plain": [
       "['state',\n",
       " 'sex',\n",
       " 'generalhealth',\n",
       " 'agecategory',\n",
       " 'haddiabetes',\n",
       " 'smokerstatus',\n",
       " 'ecigaretteusage',\n",
       " 'raceethnicitycategory',\n",
       " 'tetanuslast10tdap']"
      ]
     },
     "execution_count": 31,
     "metadata": {},
     "output_type": "execute_result"
    }
   ],
   "source": [
    "categorical_columns"
   ]
  },
  {
   "cell_type": "code",
   "execution_count": 33,
   "id": "5c866dfd-3956-4397-a85a-64d2da62d78a",
   "metadata": {},
   "outputs": [
    {
     "data": {
      "text/html": [
       "<div>\n",
       "<style scoped>\n",
       "    .dataframe tbody tr th:only-of-type {\n",
       "        vertical-align: middle;\n",
       "    }\n",
       "\n",
       "    .dataframe tbody tr th {\n",
       "        vertical-align: top;\n",
       "    }\n",
       "\n",
       "    .dataframe thead th {\n",
       "        text-align: right;\n",
       "    }\n",
       "</style>\n",
       "<table border=\"1\" class=\"dataframe\">\n",
       "  <thead>\n",
       "    <tr style=\"text-align: right;\">\n",
       "      <th></th>\n",
       "      <th>patientid</th>\n",
       "      <th>state</th>\n",
       "      <th>sex</th>\n",
       "      <th>generalhealth</th>\n",
       "      <th>agecategory</th>\n",
       "      <th>heightinmeters</th>\n",
       "      <th>weightinkilograms</th>\n",
       "      <th>bmi</th>\n",
       "      <th>hadheartattack</th>\n",
       "      <th>hadangina</th>\n",
       "      <th>...</th>\n",
       "      <th>ecigaretteusage</th>\n",
       "      <th>chestscan</th>\n",
       "      <th>raceethnicitycategory</th>\n",
       "      <th>alcoholdrinkers</th>\n",
       "      <th>hivtesting</th>\n",
       "      <th>fluvaxlast12</th>\n",
       "      <th>pneumovaxever</th>\n",
       "      <th>tetanuslast10tdap</th>\n",
       "      <th>highrisklastyear</th>\n",
       "      <th>covidpos</th>\n",
       "    </tr>\n",
       "  </thead>\n",
       "  <tbody>\n",
       "    <tr>\n",
       "      <th>0</th>\n",
       "      <td>1</td>\n",
       "      <td>alabama</td>\n",
       "      <td>female</td>\n",
       "      <td>fair</td>\n",
       "      <td>age_75_to_79</td>\n",
       "      <td>1.63</td>\n",
       "      <td>84.820000</td>\n",
       "      <td>32.099998</td>\n",
       "      <td>0</td>\n",
       "      <td>1</td>\n",
       "      <td>...</td>\n",
       "      <td>never_used_e-cigarettes_in_my_entire_life</td>\n",
       "      <td>1</td>\n",
       "      <td>white_only,_non-hispanic</td>\n",
       "      <td>0</td>\n",
       "      <td>0</td>\n",
       "      <td>0</td>\n",
       "      <td>1</td>\n",
       "      <td>no,_did_not_receive_any_tetanus_shot_in_the_pa...</td>\n",
       "      <td>0</td>\n",
       "      <td>1</td>\n",
       "    </tr>\n",
       "    <tr>\n",
       "      <th>1</th>\n",
       "      <td>2</td>\n",
       "      <td>alabama</td>\n",
       "      <td>female</td>\n",
       "      <td>very_good</td>\n",
       "      <td>age_65_to_69</td>\n",
       "      <td>1.60</td>\n",
       "      <td>71.669998</td>\n",
       "      <td>27.990000</td>\n",
       "      <td>0</td>\n",
       "      <td>0</td>\n",
       "      <td>...</td>\n",
       "      <td>never_used_e-cigarettes_in_my_entire_life</td>\n",
       "      <td>0</td>\n",
       "      <td>white_only,_non-hispanic</td>\n",
       "      <td>0</td>\n",
       "      <td>0</td>\n",
       "      <td>1</td>\n",
       "      <td>1</td>\n",
       "      <td>yes,_received_tdap</td>\n",
       "      <td>0</td>\n",
       "      <td>0</td>\n",
       "    </tr>\n",
       "    <tr>\n",
       "      <th>2</th>\n",
       "      <td>3</td>\n",
       "      <td>alabama</td>\n",
       "      <td>male</td>\n",
       "      <td>excellent</td>\n",
       "      <td>age_60_to_64</td>\n",
       "      <td>1.78</td>\n",
       "      <td>71.209999</td>\n",
       "      <td>22.530001</td>\n",
       "      <td>0</td>\n",
       "      <td>0</td>\n",
       "      <td>...</td>\n",
       "      <td>never_used_e-cigarettes_in_my_entire_life</td>\n",
       "      <td>0</td>\n",
       "      <td>white_only,_non-hispanic</td>\n",
       "      <td>1</td>\n",
       "      <td>0</td>\n",
       "      <td>0</td>\n",
       "      <td>0</td>\n",
       "      <td>yes,_received_tetanus_shot_but_not_sure_what_type</td>\n",
       "      <td>0</td>\n",
       "      <td>0</td>\n",
       "    </tr>\n",
       "    <tr>\n",
       "      <th>3</th>\n",
       "      <td>4</td>\n",
       "      <td>alabama</td>\n",
       "      <td>male</td>\n",
       "      <td>very_good</td>\n",
       "      <td>age_70_to_74</td>\n",
       "      <td>1.78</td>\n",
       "      <td>95.250000</td>\n",
       "      <td>30.129999</td>\n",
       "      <td>0</td>\n",
       "      <td>0</td>\n",
       "      <td>...</td>\n",
       "      <td>never_used_e-cigarettes_in_my_entire_life</td>\n",
       "      <td>0</td>\n",
       "      <td>white_only,_non-hispanic</td>\n",
       "      <td>0</td>\n",
       "      <td>0</td>\n",
       "      <td>1</td>\n",
       "      <td>1</td>\n",
       "      <td>yes,_received_tetanus_shot_but_not_sure_what_type</td>\n",
       "      <td>0</td>\n",
       "      <td>0</td>\n",
       "    </tr>\n",
       "    <tr>\n",
       "      <th>4</th>\n",
       "      <td>5</td>\n",
       "      <td>alabama</td>\n",
       "      <td>female</td>\n",
       "      <td>good</td>\n",
       "      <td>age_50_to_54</td>\n",
       "      <td>1.68</td>\n",
       "      <td>78.019997</td>\n",
       "      <td>27.760000</td>\n",
       "      <td>0</td>\n",
       "      <td>0</td>\n",
       "      <td>...</td>\n",
       "      <td>never_used_e-cigarettes_in_my_entire_life</td>\n",
       "      <td>1</td>\n",
       "      <td>black_only,_non-hispanic</td>\n",
       "      <td>0</td>\n",
       "      <td>0</td>\n",
       "      <td>1</td>\n",
       "      <td>0</td>\n",
       "      <td>no,_did_not_receive_any_tetanus_shot_in_the_pa...</td>\n",
       "      <td>0</td>\n",
       "      <td>0</td>\n",
       "    </tr>\n",
       "    <tr>\n",
       "      <th>...</th>\n",
       "      <td>...</td>\n",
       "      <td>...</td>\n",
       "      <td>...</td>\n",
       "      <td>...</td>\n",
       "      <td>...</td>\n",
       "      <td>...</td>\n",
       "      <td>...</td>\n",
       "      <td>...</td>\n",
       "      <td>...</td>\n",
       "      <td>...</td>\n",
       "      <td>...</td>\n",
       "      <td>...</td>\n",
       "      <td>...</td>\n",
       "      <td>...</td>\n",
       "      <td>...</td>\n",
       "      <td>...</td>\n",
       "      <td>...</td>\n",
       "      <td>...</td>\n",
       "      <td>...</td>\n",
       "      <td>...</td>\n",
       "      <td>...</td>\n",
       "    </tr>\n",
       "    <tr>\n",
       "      <th>237625</th>\n",
       "      <td>237626</td>\n",
       "      <td>puerto_rico</td>\n",
       "      <td>female</td>\n",
       "      <td>good</td>\n",
       "      <td>age_60_to_64</td>\n",
       "      <td>1.57</td>\n",
       "      <td>90.720001</td>\n",
       "      <td>36.580002</td>\n",
       "      <td>0</td>\n",
       "      <td>0</td>\n",
       "      <td>...</td>\n",
       "      <td>not_at_all_(right_now)</td>\n",
       "      <td>0</td>\n",
       "      <td>hispanic</td>\n",
       "      <td>0</td>\n",
       "      <td>0</td>\n",
       "      <td>1</td>\n",
       "      <td>0</td>\n",
       "      <td>no,_did_not_receive_any_tetanus_shot_in_the_pa...</td>\n",
       "      <td>0</td>\n",
       "      <td>0</td>\n",
       "    </tr>\n",
       "    <tr>\n",
       "      <th>237626</th>\n",
       "      <td>237627</td>\n",
       "      <td>puerto_rico</td>\n",
       "      <td>female</td>\n",
       "      <td>good</td>\n",
       "      <td>age_55_to_59</td>\n",
       "      <td>1.70</td>\n",
       "      <td>72.570000</td>\n",
       "      <td>25.059999</td>\n",
       "      <td>0</td>\n",
       "      <td>1</td>\n",
       "      <td>...</td>\n",
       "      <td>not_at_all_(right_now)</td>\n",
       "      <td>0</td>\n",
       "      <td>hispanic</td>\n",
       "      <td>0</td>\n",
       "      <td>1</td>\n",
       "      <td>0</td>\n",
       "      <td>0</td>\n",
       "      <td>yes,_received_tdap</td>\n",
       "      <td>0</td>\n",
       "      <td>0</td>\n",
       "    </tr>\n",
       "    <tr>\n",
       "      <th>237627</th>\n",
       "      <td>237628</td>\n",
       "      <td>puerto_rico</td>\n",
       "      <td>male</td>\n",
       "      <td>fair</td>\n",
       "      <td>age_45_to_49</td>\n",
       "      <td>1.75</td>\n",
       "      <td>70.309998</td>\n",
       "      <td>22.889999</td>\n",
       "      <td>1</td>\n",
       "      <td>1</td>\n",
       "      <td>...</td>\n",
       "      <td>not_at_all_(right_now)</td>\n",
       "      <td>1</td>\n",
       "      <td>hispanic</td>\n",
       "      <td>0</td>\n",
       "      <td>1</td>\n",
       "      <td>1</td>\n",
       "      <td>1</td>\n",
       "      <td>yes,_received_tdap</td>\n",
       "      <td>1</td>\n",
       "      <td>0</td>\n",
       "    </tr>\n",
       "    <tr>\n",
       "      <th>237628</th>\n",
       "      <td>237629</td>\n",
       "      <td>puerto_rico</td>\n",
       "      <td>female</td>\n",
       "      <td>very_good</td>\n",
       "      <td>age_25_to_29</td>\n",
       "      <td>1.57</td>\n",
       "      <td>46.720001</td>\n",
       "      <td>18.840000</td>\n",
       "      <td>0</td>\n",
       "      <td>0</td>\n",
       "      <td>...</td>\n",
       "      <td>never_used_e-cigarettes_in_my_entire_life</td>\n",
       "      <td>0</td>\n",
       "      <td>hispanic</td>\n",
       "      <td>0</td>\n",
       "      <td>1</td>\n",
       "      <td>0</td>\n",
       "      <td>0</td>\n",
       "      <td>no,_did_not_receive_any_tetanus_shot_in_the_pa...</td>\n",
       "      <td>0</td>\n",
       "      <td>1</td>\n",
       "    </tr>\n",
       "    <tr>\n",
       "      <th>237629</th>\n",
       "      <td>237630</td>\n",
       "      <td>puerto_rico</td>\n",
       "      <td>female</td>\n",
       "      <td>good</td>\n",
       "      <td>age_30_to_34</td>\n",
       "      <td>1.60</td>\n",
       "      <td>83.010002</td>\n",
       "      <td>32.419998</td>\n",
       "      <td>0</td>\n",
       "      <td>0</td>\n",
       "      <td>...</td>\n",
       "      <td>never_used_e-cigarettes_in_my_entire_life</td>\n",
       "      <td>1</td>\n",
       "      <td>hispanic</td>\n",
       "      <td>0</td>\n",
       "      <td>1</td>\n",
       "      <td>0</td>\n",
       "      <td>0</td>\n",
       "      <td>no,_did_not_receive_any_tetanus_shot_in_the_pa...</td>\n",
       "      <td>0</td>\n",
       "      <td>0</td>\n",
       "    </tr>\n",
       "  </tbody>\n",
       "</table>\n",
       "<p>237630 rows × 35 columns</p>\n",
       "</div>"
      ],
      "text/plain": [
       "        patientid        state     sex generalhealth   agecategory  \\\n",
       "0               1      alabama  female          fair  age_75_to_79   \n",
       "1               2      alabama  female     very_good  age_65_to_69   \n",
       "2               3      alabama    male     excellent  age_60_to_64   \n",
       "3               4      alabama    male     very_good  age_70_to_74   \n",
       "4               5      alabama  female          good  age_50_to_54   \n",
       "...           ...          ...     ...           ...           ...   \n",
       "237625     237626  puerto_rico  female          good  age_60_to_64   \n",
       "237626     237627  puerto_rico  female          good  age_55_to_59   \n",
       "237627     237628  puerto_rico    male          fair  age_45_to_49   \n",
       "237628     237629  puerto_rico  female     very_good  age_25_to_29   \n",
       "237629     237630  puerto_rico  female          good  age_30_to_34   \n",
       "\n",
       "        heightinmeters  weightinkilograms        bmi  hadheartattack  \\\n",
       "0                 1.63          84.820000  32.099998               0   \n",
       "1                 1.60          71.669998  27.990000               0   \n",
       "2                 1.78          71.209999  22.530001               0   \n",
       "3                 1.78          95.250000  30.129999               0   \n",
       "4                 1.68          78.019997  27.760000               0   \n",
       "...                ...                ...        ...             ...   \n",
       "237625            1.57          90.720001  36.580002               0   \n",
       "237626            1.70          72.570000  25.059999               0   \n",
       "237627            1.75          70.309998  22.889999               1   \n",
       "237628            1.57          46.720001  18.840000               0   \n",
       "237629            1.60          83.010002  32.419998               0   \n",
       "\n",
       "        hadangina  ...                            ecigaretteusage  chestscan  \\\n",
       "0               1  ...  never_used_e-cigarettes_in_my_entire_life          1   \n",
       "1               0  ...  never_used_e-cigarettes_in_my_entire_life          0   \n",
       "2               0  ...  never_used_e-cigarettes_in_my_entire_life          0   \n",
       "3               0  ...  never_used_e-cigarettes_in_my_entire_life          0   \n",
       "4               0  ...  never_used_e-cigarettes_in_my_entire_life          1   \n",
       "...           ...  ...                                        ...        ...   \n",
       "237625          0  ...                     not_at_all_(right_now)          0   \n",
       "237626          1  ...                     not_at_all_(right_now)          0   \n",
       "237627          1  ...                     not_at_all_(right_now)          1   \n",
       "237628          0  ...  never_used_e-cigarettes_in_my_entire_life          0   \n",
       "237629          0  ...  never_used_e-cigarettes_in_my_entire_life          1   \n",
       "\n",
       "           raceethnicitycategory  alcoholdrinkers  hivtesting  fluvaxlast12  \\\n",
       "0       white_only,_non-hispanic                0           0             0   \n",
       "1       white_only,_non-hispanic                0           0             1   \n",
       "2       white_only,_non-hispanic                1           0             0   \n",
       "3       white_only,_non-hispanic                0           0             1   \n",
       "4       black_only,_non-hispanic                0           0             1   \n",
       "...                          ...              ...         ...           ...   \n",
       "237625                  hispanic                0           0             1   \n",
       "237626                  hispanic                0           1             0   \n",
       "237627                  hispanic                0           1             1   \n",
       "237628                  hispanic                0           1             0   \n",
       "237629                  hispanic                0           1             0   \n",
       "\n",
       "        pneumovaxever                                  tetanuslast10tdap  \\\n",
       "0                   1  no,_did_not_receive_any_tetanus_shot_in_the_pa...   \n",
       "1                   1                                 yes,_received_tdap   \n",
       "2                   0  yes,_received_tetanus_shot_but_not_sure_what_type   \n",
       "3                   1  yes,_received_tetanus_shot_but_not_sure_what_type   \n",
       "4                   0  no,_did_not_receive_any_tetanus_shot_in_the_pa...   \n",
       "...               ...                                                ...   \n",
       "237625              0  no,_did_not_receive_any_tetanus_shot_in_the_pa...   \n",
       "237626              0                                 yes,_received_tdap   \n",
       "237627              1                                 yes,_received_tdap   \n",
       "237628              0  no,_did_not_receive_any_tetanus_shot_in_the_pa...   \n",
       "237629              0  no,_did_not_receive_any_tetanus_shot_in_the_pa...   \n",
       "\n",
       "        highrisklastyear  covidpos  \n",
       "0                      0         1  \n",
       "1                      0         0  \n",
       "2                      0         0  \n",
       "3                      0         0  \n",
       "4                      0         0  \n",
       "...                  ...       ...  \n",
       "237625                 0         0  \n",
       "237626                 0         0  \n",
       "237627                 1         0  \n",
       "237628                 0         1  \n",
       "237629                 0         0  \n",
       "\n",
       "[237630 rows x 35 columns]"
      ]
     },
     "execution_count": 33,
     "metadata": {},
     "output_type": "execute_result"
    }
   ],
   "source": [
    "df"
   ]
  },
  {
   "cell_type": "code",
   "execution_count": 35,
   "id": "254cbc85-9d2b-43cc-bad0-3b5bc92c8a68",
   "metadata": {},
   "outputs": [
    {
     "data": {
      "text/plain": [
       "patientid                      int64\n",
       "state                         object\n",
       "sex                           object\n",
       "generalhealth                 object\n",
       "agecategory                   object\n",
       "heightinmeters               float64\n",
       "weightinkilograms            float64\n",
       "bmi                          float64\n",
       "hadheartattack                 int64\n",
       "hadangina                      int64\n",
       "hadstroke                      int64\n",
       "hadasthma                      int64\n",
       "hadskincancer                  int64\n",
       "hadcopd                        int64\n",
       "haddepressivedisorder          int64\n",
       "hadkidneydisease               int64\n",
       "hadarthritis                   int64\n",
       "haddiabetes                   object\n",
       "deaforhardofhearing            int64\n",
       "blindorvisiondifficulty        int64\n",
       "difficultyconcentrating        int64\n",
       "difficultywalking              int64\n",
       "difficultydressingbathing      int64\n",
       "difficultyerrands              int64\n",
       "smokerstatus                  object\n",
       "ecigaretteusage               object\n",
       "chestscan                      int64\n",
       "raceethnicitycategory         object\n",
       "alcoholdrinkers                int64\n",
       "hivtesting                     int64\n",
       "fluvaxlast12                   int64\n",
       "pneumovaxever                  int64\n",
       "tetanuslast10tdap             object\n",
       "highrisklastyear               int64\n",
       "covidpos                       int64\n",
       "dtype: object"
      ]
     },
     "execution_count": 35,
     "metadata": {},
     "output_type": "execute_result"
    }
   ],
   "source": [
    "df.dtypes"
   ]
  },
  {
   "cell_type": "code",
   "execution_count": 37,
   "id": "514d0367-83fa-499b-b678-e81e733ed67c",
   "metadata": {},
   "outputs": [
    {
     "data": {
      "text/plain": [
       "patientid                      int64\n",
       "heightinmeters               float64\n",
       "weightinkilograms            float64\n",
       "bmi                          float64\n",
       "hadheartattack                 int64\n",
       "hadangina                      int64\n",
       "hadstroke                      int64\n",
       "hadasthma                      int64\n",
       "hadskincancer                  int64\n",
       "hadcopd                        int64\n",
       "haddepressivedisorder          int64\n",
       "hadkidneydisease               int64\n",
       "hadarthritis                   int64\n",
       "deaforhardofhearing            int64\n",
       "blindorvisiondifficulty        int64\n",
       "difficultyconcentrating        int64\n",
       "difficultywalking              int64\n",
       "difficultydressingbathing      int64\n",
       "difficultyerrands              int64\n",
       "chestscan                      int64\n",
       "alcoholdrinkers                int64\n",
       "hivtesting                     int64\n",
       "fluvaxlast12                   int64\n",
       "pneumovaxever                  int64\n",
       "highrisklastyear               int64\n",
       "covidpos                       int64\n",
       "dtype: object"
      ]
     },
     "execution_count": 37,
     "metadata": {},
     "output_type": "execute_result"
    }
   ],
   "source": [
    "df.dtypes[df.dtypes != 'object']"
   ]
  },
  {
   "cell_type": "code",
   "execution_count": 39,
   "id": "645681a6-1e6d-45c8-9dec-153538ad739c",
   "metadata": {},
   "outputs": [
    {
     "data": {
      "text/plain": [
       "patientid                    0\n",
       "state                        0\n",
       "sex                          0\n",
       "generalhealth                0\n",
       "agecategory                  0\n",
       "heightinmeters               0\n",
       "weightinkilograms            0\n",
       "bmi                          0\n",
       "hadheartattack               0\n",
       "hadangina                    0\n",
       "hadstroke                    0\n",
       "hadasthma                    0\n",
       "hadskincancer                0\n",
       "hadcopd                      0\n",
       "haddepressivedisorder        0\n",
       "hadkidneydisease             0\n",
       "hadarthritis                 0\n",
       "haddiabetes                  0\n",
       "deaforhardofhearing          0\n",
       "blindorvisiondifficulty      0\n",
       "difficultyconcentrating      0\n",
       "difficultywalking            0\n",
       "difficultydressingbathing    0\n",
       "difficultyerrands            0\n",
       "smokerstatus                 0\n",
       "ecigaretteusage              0\n",
       "chestscan                    0\n",
       "raceethnicitycategory        0\n",
       "alcoholdrinkers              0\n",
       "hivtesting                   0\n",
       "fluvaxlast12                 0\n",
       "pneumovaxever                0\n",
       "tetanuslast10tdap            0\n",
       "highrisklastyear             0\n",
       "covidpos                     0\n",
       "dtype: int64"
      ]
     },
     "execution_count": 39,
     "metadata": {},
     "output_type": "execute_result"
    }
   ],
   "source": [
    "df.isnull().sum()"
   ]
  },
  {
   "cell_type": "code",
   "execution_count": 41,
   "id": "3f023c07-a2aa-4de2-9880-9905aef9df1f",
   "metadata": {},
   "outputs": [
    {
     "data": {
      "text/plain": [
       "0         0\n",
       "1         0\n",
       "2         0\n",
       "3         0\n",
       "4         0\n",
       "         ..\n",
       "237625    0\n",
       "237626    0\n",
       "237627    1\n",
       "237628    0\n",
       "237629    0\n",
       "Name: hadheartattack, Length: 237630, dtype: int64"
      ]
     },
     "execution_count": 41,
     "metadata": {},
     "output_type": "execute_result"
    }
   ],
   "source": [
    "df.hadheartattack"
   ]
  },
  {
   "cell_type": "code",
   "execution_count": 45,
   "id": "2cd8c2ce-ada8-4575-9997-63c310c07045",
   "metadata": {},
   "outputs": [
    {
     "data": {
      "text/plain": [
       "1"
      ]
     },
     "execution_count": 45,
     "metadata": {},
     "output_type": "execute_result"
    }
   ],
   "source": [
    "df.hadheartattack.max()"
   ]
  },
  {
   "cell_type": "code",
   "execution_count": 43,
   "id": "e6e3481d-13ac-4bce-8d07-c3f2d5830e14",
   "metadata": {},
   "outputs": [
    {
     "data": {
      "text/plain": [
       "0"
      ]
     },
     "execution_count": 43,
     "metadata": {},
     "output_type": "execute_result"
    }
   ],
   "source": [
    "df.hadheartattack.min()"
   ]
  },
  {
   "cell_type": "code",
   "execution_count": 14,
   "id": "1d8a108d-23e2-47a1-8a80-ba2a6a33e2fb",
   "metadata": {},
   "outputs": [],
   "source": [
    "import sklearn"
   ]
  },
  {
   "cell_type": "code",
   "execution_count": 16,
   "id": "f82f9d6f-afb1-4417-aa85-c007f9cce70e",
   "metadata": {},
   "outputs": [
    {
     "name": "stdout",
     "output_type": "stream",
     "text": [
      "The scikit-learn version is 1.4.2.\n"
     ]
    }
   ],
   "source": [
    "print('The scikit-learn version is {}.'.format(sklearn.__version__))"
   ]
  },
  {
   "cell_type": "code",
   "execution_count": null,
   "id": "0604975e-1ec8-4eb4-baed-3ede463a5482",
   "metadata": {},
   "outputs": [],
   "source": []
  },
  {
   "cell_type": "markdown",
   "id": "02df24e3-5696-48de-bb1d-5f83117b9012",
   "metadata": {},
   "source": [
    "## 3.3 Setting up the validation framework\n",
    "\n",
    "* Perform the train/validation/test split with Scikit-Learn"
   ]
  },
  {
   "cell_type": "code",
   "execution_count": 10,
   "id": "f47e94d3-cc0a-4d11-83f8-841d2b61c011",
   "metadata": {},
   "outputs": [],
   "source": [
    "from sklearn.model_selection import train_test_split"
   ]
  },
  {
   "cell_type": "code",
   "execution_count": 37,
   "id": "a4576e11-9b2c-49cd-a508-3ff16a4888e8",
   "metadata": {},
   "outputs": [],
   "source": [
    "df_full_train, df_test = train_test_split(df, test_size=0.2, random_state=1)\n",
    "df_train, df_val = train_test_split(df_full_train, test_size=0.25, random_state=1)"
   ]
  },
  {
   "cell_type": "code",
   "execution_count": 31,
   "id": "85779e58-2808-45ee-aa9e-7dcdb16e0ac9",
   "metadata": {},
   "outputs": [
    {
     "data": {
      "text/plain": [
       "(142578, 47526, 47526)"
      ]
     },
     "execution_count": 31,
     "metadata": {},
     "output_type": "execute_result"
    }
   ],
   "source": [
    "len(df_train), len(df_val), len(df_test)"
   ]
  },
  {
   "cell_type": "code",
   "execution_count": 39,
   "id": "c0b1465f-9e09-4639-871c-130ce4db7186",
   "metadata": {},
   "outputs": [
    {
     "data": {
      "text/html": [
       "<div>\n",
       "<style scoped>\n",
       "    .dataframe tbody tr th:only-of-type {\n",
       "        vertical-align: middle;\n",
       "    }\n",
       "\n",
       "    .dataframe tbody tr th {\n",
       "        vertical-align: top;\n",
       "    }\n",
       "\n",
       "    .dataframe thead th {\n",
       "        text-align: right;\n",
       "    }\n",
       "</style>\n",
       "<table border=\"1\" class=\"dataframe\">\n",
       "  <thead>\n",
       "    <tr style=\"text-align: right;\">\n",
       "      <th></th>\n",
       "      <th>patientid</th>\n",
       "      <th>state</th>\n",
       "      <th>sex</th>\n",
       "      <th>generalhealth</th>\n",
       "      <th>agecategory</th>\n",
       "      <th>heightinmeters</th>\n",
       "      <th>weightinkilograms</th>\n",
       "      <th>bmi</th>\n",
       "      <th>hadheartattack</th>\n",
       "      <th>hadangina</th>\n",
       "      <th>...</th>\n",
       "      <th>ecigaretteusage</th>\n",
       "      <th>chestscan</th>\n",
       "      <th>raceethnicitycategory</th>\n",
       "      <th>alcoholdrinkers</th>\n",
       "      <th>hivtesting</th>\n",
       "      <th>fluvaxlast12</th>\n",
       "      <th>pneumovaxever</th>\n",
       "      <th>tetanuslast10tdap</th>\n",
       "      <th>highrisklastyear</th>\n",
       "      <th>covidpos</th>\n",
       "    </tr>\n",
       "  </thead>\n",
       "  <tbody>\n",
       "    <tr>\n",
       "      <th>235568</th>\n",
       "      <td>235569</td>\n",
       "      <td>puerto_rico</td>\n",
       "      <td>female</td>\n",
       "      <td>fair</td>\n",
       "      <td>age_55_to_59</td>\n",
       "      <td>1.63</td>\n",
       "      <td>95.250000</td>\n",
       "      <td>36.049999</td>\n",
       "      <td>0</td>\n",
       "      <td>1</td>\n",
       "      <td>...</td>\n",
       "      <td>not_at_all_(right_now)</td>\n",
       "      <td>1</td>\n",
       "      <td>hispanic</td>\n",
       "      <td>1</td>\n",
       "      <td>1</td>\n",
       "      <td>0</td>\n",
       "      <td>1</td>\n",
       "      <td>yes,_received_tetanus_shot_but_not_sure_what_type</td>\n",
       "      <td>0</td>\n",
       "      <td>1</td>\n",
       "    </tr>\n",
       "    <tr>\n",
       "      <th>67428</th>\n",
       "      <td>67429</td>\n",
       "      <td>kansas</td>\n",
       "      <td>male</td>\n",
       "      <td>very_good</td>\n",
       "      <td>age_18_to_24</td>\n",
       "      <td>1.88</td>\n",
       "      <td>83.910004</td>\n",
       "      <td>23.750000</td>\n",
       "      <td>0</td>\n",
       "      <td>0</td>\n",
       "      <td>...</td>\n",
       "      <td>not_at_all_(right_now)</td>\n",
       "      <td>0</td>\n",
       "      <td>white_only,_non-hispanic</td>\n",
       "      <td>1</td>\n",
       "      <td>0</td>\n",
       "      <td>0</td>\n",
       "      <td>0</td>\n",
       "      <td>yes,_received_tetanus_shot_but_not_sure_what_type</td>\n",
       "      <td>0</td>\n",
       "      <td>0</td>\n",
       "    </tr>\n",
       "    <tr>\n",
       "      <th>6792</th>\n",
       "      <td>6793</td>\n",
       "      <td>arizona</td>\n",
       "      <td>male</td>\n",
       "      <td>poor</td>\n",
       "      <td>age_60_to_64</td>\n",
       "      <td>1.68</td>\n",
       "      <td>77.110001</td>\n",
       "      <td>27.440001</td>\n",
       "      <td>0</td>\n",
       "      <td>0</td>\n",
       "      <td>...</td>\n",
       "      <td>never_used_e-cigarettes_in_my_entire_life</td>\n",
       "      <td>1</td>\n",
       "      <td>hispanic</td>\n",
       "      <td>0</td>\n",
       "      <td>1</td>\n",
       "      <td>1</td>\n",
       "      <td>1</td>\n",
       "      <td>yes,_received_tetanus_shot,_but_not_tdap</td>\n",
       "      <td>0</td>\n",
       "      <td>1</td>\n",
       "    </tr>\n",
       "    <tr>\n",
       "      <th>183948</th>\n",
       "      <td>183949</td>\n",
       "      <td>tennessee</td>\n",
       "      <td>male</td>\n",
       "      <td>fair</td>\n",
       "      <td>age_75_to_79</td>\n",
       "      <td>2.03</td>\n",
       "      <td>133.809998</td>\n",
       "      <td>32.410000</td>\n",
       "      <td>0</td>\n",
       "      <td>0</td>\n",
       "      <td>...</td>\n",
       "      <td>never_used_e-cigarettes_in_my_entire_life</td>\n",
       "      <td>1</td>\n",
       "      <td>white_only,_non-hispanic</td>\n",
       "      <td>1</td>\n",
       "      <td>0</td>\n",
       "      <td>1</td>\n",
       "      <td>1</td>\n",
       "      <td>yes,_received_tetanus_shot_but_not_sure_what_type</td>\n",
       "      <td>0</td>\n",
       "      <td>0</td>\n",
       "    </tr>\n",
       "    <tr>\n",
       "      <th>182784</th>\n",
       "      <td>182785</td>\n",
       "      <td>texas</td>\n",
       "      <td>male</td>\n",
       "      <td>poor</td>\n",
       "      <td>age_60_to_64</td>\n",
       "      <td>1.73</td>\n",
       "      <td>62.599998</td>\n",
       "      <td>20.980000</td>\n",
       "      <td>0</td>\n",
       "      <td>0</td>\n",
       "      <td>...</td>\n",
       "      <td>never_used_e-cigarettes_in_my_entire_life</td>\n",
       "      <td>0</td>\n",
       "      <td>white_only,_non-hispanic</td>\n",
       "      <td>0</td>\n",
       "      <td>0</td>\n",
       "      <td>1</td>\n",
       "      <td>0</td>\n",
       "      <td>yes,_received_tdap</td>\n",
       "      <td>0</td>\n",
       "      <td>0</td>\n",
       "    </tr>\n",
       "    <tr>\n",
       "      <th>...</th>\n",
       "      <td>...</td>\n",
       "      <td>...</td>\n",
       "      <td>...</td>\n",
       "      <td>...</td>\n",
       "      <td>...</td>\n",
       "      <td>...</td>\n",
       "      <td>...</td>\n",
       "      <td>...</td>\n",
       "      <td>...</td>\n",
       "      <td>...</td>\n",
       "      <td>...</td>\n",
       "      <td>...</td>\n",
       "      <td>...</td>\n",
       "      <td>...</td>\n",
       "      <td>...</td>\n",
       "      <td>...</td>\n",
       "      <td>...</td>\n",
       "      <td>...</td>\n",
       "      <td>...</td>\n",
       "      <td>...</td>\n",
       "      <td>...</td>\n",
       "    </tr>\n",
       "    <tr>\n",
       "      <th>57058</th>\n",
       "      <td>57059</td>\n",
       "      <td>indiana</td>\n",
       "      <td>male</td>\n",
       "      <td>excellent</td>\n",
       "      <td>age_65_to_69</td>\n",
       "      <td>1.80</td>\n",
       "      <td>88.449997</td>\n",
       "      <td>27.200001</td>\n",
       "      <td>0</td>\n",
       "      <td>0</td>\n",
       "      <td>...</td>\n",
       "      <td>never_used_e-cigarettes_in_my_entire_life</td>\n",
       "      <td>1</td>\n",
       "      <td>white_only,_non-hispanic</td>\n",
       "      <td>1</td>\n",
       "      <td>0</td>\n",
       "      <td>1</td>\n",
       "      <td>1</td>\n",
       "      <td>no,_did_not_receive_any_tetanus_shot_in_the_pa...</td>\n",
       "      <td>0</td>\n",
       "      <td>0</td>\n",
       "    </tr>\n",
       "    <tr>\n",
       "      <th>211848</th>\n",
       "      <td>211849</td>\n",
       "      <td>washington</td>\n",
       "      <td>female</td>\n",
       "      <td>good</td>\n",
       "      <td>age_80_or_older</td>\n",
       "      <td>1.60</td>\n",
       "      <td>53.070000</td>\n",
       "      <td>20.730000</td>\n",
       "      <td>0</td>\n",
       "      <td>0</td>\n",
       "      <td>...</td>\n",
       "      <td>never_used_e-cigarettes_in_my_entire_life</td>\n",
       "      <td>0</td>\n",
       "      <td>white_only,_non-hispanic</td>\n",
       "      <td>1</td>\n",
       "      <td>0</td>\n",
       "      <td>1</td>\n",
       "      <td>1</td>\n",
       "      <td>yes,_received_tdap</td>\n",
       "      <td>0</td>\n",
       "      <td>0</td>\n",
       "    </tr>\n",
       "    <tr>\n",
       "      <th>68565</th>\n",
       "      <td>68566</td>\n",
       "      <td>kansas</td>\n",
       "      <td>female</td>\n",
       "      <td>good</td>\n",
       "      <td>age_70_to_74</td>\n",
       "      <td>1.55</td>\n",
       "      <td>102.059998</td>\n",
       "      <td>42.509998</td>\n",
       "      <td>0</td>\n",
       "      <td>1</td>\n",
       "      <td>...</td>\n",
       "      <td>never_used_e-cigarettes_in_my_entire_life</td>\n",
       "      <td>0</td>\n",
       "      <td>multiracial,_non-hispanic</td>\n",
       "      <td>0</td>\n",
       "      <td>0</td>\n",
       "      <td>1</td>\n",
       "      <td>1</td>\n",
       "      <td>yes,_received_tetanus_shot,_but_not_tdap</td>\n",
       "      <td>0</td>\n",
       "      <td>1</td>\n",
       "    </tr>\n",
       "    <tr>\n",
       "      <th>56300</th>\n",
       "      <td>56301</td>\n",
       "      <td>indiana</td>\n",
       "      <td>male</td>\n",
       "      <td>good</td>\n",
       "      <td>age_80_or_older</td>\n",
       "      <td>1.78</td>\n",
       "      <td>90.720001</td>\n",
       "      <td>28.700001</td>\n",
       "      <td>0</td>\n",
       "      <td>0</td>\n",
       "      <td>...</td>\n",
       "      <td>never_used_e-cigarettes_in_my_entire_life</td>\n",
       "      <td>1</td>\n",
       "      <td>white_only,_non-hispanic</td>\n",
       "      <td>0</td>\n",
       "      <td>0</td>\n",
       "      <td>1</td>\n",
       "      <td>1</td>\n",
       "      <td>yes,_received_tdap</td>\n",
       "      <td>0</td>\n",
       "      <td>0</td>\n",
       "    </tr>\n",
       "    <tr>\n",
       "      <th>231266</th>\n",
       "      <td>231267</td>\n",
       "      <td>wyoming</td>\n",
       "      <td>male</td>\n",
       "      <td>fair</td>\n",
       "      <td>age_35_to_39</td>\n",
       "      <td>1.75</td>\n",
       "      <td>133.809998</td>\n",
       "      <td>43.560001</td>\n",
       "      <td>0</td>\n",
       "      <td>0</td>\n",
       "      <td>...</td>\n",
       "      <td>not_at_all_(right_now)</td>\n",
       "      <td>0</td>\n",
       "      <td>white_only,_non-hispanic</td>\n",
       "      <td>1</td>\n",
       "      <td>0</td>\n",
       "      <td>0</td>\n",
       "      <td>0</td>\n",
       "      <td>no,_did_not_receive_any_tetanus_shot_in_the_pa...</td>\n",
       "      <td>1</td>\n",
       "      <td>1</td>\n",
       "    </tr>\n",
       "  </tbody>\n",
       "</table>\n",
       "<p>47526 rows × 35 columns</p>\n",
       "</div>"
      ],
      "text/plain": [
       "        patientid        state     sex generalhealth      agecategory  \\\n",
       "235568     235569  puerto_rico  female          fair     age_55_to_59   \n",
       "67428       67429       kansas    male     very_good     age_18_to_24   \n",
       "6792         6793      arizona    male          poor     age_60_to_64   \n",
       "183948     183949    tennessee    male          fair     age_75_to_79   \n",
       "182784     182785        texas    male          poor     age_60_to_64   \n",
       "...           ...          ...     ...           ...              ...   \n",
       "57058       57059      indiana    male     excellent     age_65_to_69   \n",
       "211848     211849   washington  female          good  age_80_or_older   \n",
       "68565       68566       kansas  female          good     age_70_to_74   \n",
       "56300       56301      indiana    male          good  age_80_or_older   \n",
       "231266     231267      wyoming    male          fair     age_35_to_39   \n",
       "\n",
       "        heightinmeters  weightinkilograms        bmi  hadheartattack  \\\n",
       "235568            1.63          95.250000  36.049999               0   \n",
       "67428             1.88          83.910004  23.750000               0   \n",
       "6792              1.68          77.110001  27.440001               0   \n",
       "183948            2.03         133.809998  32.410000               0   \n",
       "182784            1.73          62.599998  20.980000               0   \n",
       "...                ...                ...        ...             ...   \n",
       "57058             1.80          88.449997  27.200001               0   \n",
       "211848            1.60          53.070000  20.730000               0   \n",
       "68565             1.55         102.059998  42.509998               0   \n",
       "56300             1.78          90.720001  28.700001               0   \n",
       "231266            1.75         133.809998  43.560001               0   \n",
       "\n",
       "        hadangina  ...                            ecigaretteusage  chestscan  \\\n",
       "235568          1  ...                     not_at_all_(right_now)          1   \n",
       "67428           0  ...                     not_at_all_(right_now)          0   \n",
       "6792            0  ...  never_used_e-cigarettes_in_my_entire_life          1   \n",
       "183948          0  ...  never_used_e-cigarettes_in_my_entire_life          1   \n",
       "182784          0  ...  never_used_e-cigarettes_in_my_entire_life          0   \n",
       "...           ...  ...                                        ...        ...   \n",
       "57058           0  ...  never_used_e-cigarettes_in_my_entire_life          1   \n",
       "211848          0  ...  never_used_e-cigarettes_in_my_entire_life          0   \n",
       "68565           1  ...  never_used_e-cigarettes_in_my_entire_life          0   \n",
       "56300           0  ...  never_used_e-cigarettes_in_my_entire_life          1   \n",
       "231266          0  ...                     not_at_all_(right_now)          0   \n",
       "\n",
       "            raceethnicitycategory  alcoholdrinkers  hivtesting  fluvaxlast12  \\\n",
       "235568                   hispanic                1           1             0   \n",
       "67428    white_only,_non-hispanic                1           0             0   \n",
       "6792                     hispanic                0           1             1   \n",
       "183948   white_only,_non-hispanic                1           0             1   \n",
       "182784   white_only,_non-hispanic                0           0             1   \n",
       "...                           ...              ...         ...           ...   \n",
       "57058    white_only,_non-hispanic                1           0             1   \n",
       "211848   white_only,_non-hispanic                1           0             1   \n",
       "68565   multiracial,_non-hispanic                0           0             1   \n",
       "56300    white_only,_non-hispanic                0           0             1   \n",
       "231266   white_only,_non-hispanic                1           0             0   \n",
       "\n",
       "        pneumovaxever                                  tetanuslast10tdap  \\\n",
       "235568              1  yes,_received_tetanus_shot_but_not_sure_what_type   \n",
       "67428               0  yes,_received_tetanus_shot_but_not_sure_what_type   \n",
       "6792                1           yes,_received_tetanus_shot,_but_not_tdap   \n",
       "183948              1  yes,_received_tetanus_shot_but_not_sure_what_type   \n",
       "182784              0                                 yes,_received_tdap   \n",
       "...               ...                                                ...   \n",
       "57058               1  no,_did_not_receive_any_tetanus_shot_in_the_pa...   \n",
       "211848              1                                 yes,_received_tdap   \n",
       "68565               1           yes,_received_tetanus_shot,_but_not_tdap   \n",
       "56300               1                                 yes,_received_tdap   \n",
       "231266              0  no,_did_not_receive_any_tetanus_shot_in_the_pa...   \n",
       "\n",
       "        highrisklastyear  covidpos  \n",
       "235568                 0         1  \n",
       "67428                  0         0  \n",
       "6792                   0         1  \n",
       "183948                 0         0  \n",
       "182784                 0         0  \n",
       "...                  ...       ...  \n",
       "57058                  0         0  \n",
       "211848                 0         0  \n",
       "68565                  0         1  \n",
       "56300                  0         0  \n",
       "231266                 1         1  \n",
       "\n",
       "[47526 rows x 35 columns]"
      ]
     },
     "execution_count": 39,
     "metadata": {},
     "output_type": "execute_result"
    }
   ],
   "source": [
    "df_test"
   ]
  },
  {
   "cell_type": "code",
   "execution_count": 41,
   "id": "59376fc4-52e4-4477-9c1c-3cddb563b6e0",
   "metadata": {},
   "outputs": [],
   "source": [
    "df_train = df_train.reset_index(drop=True)\n",
    "df_val = df_val.reset_index(drop=True)\n",
    "df_test = df_test.reset_index(drop=True)"
   ]
  },
  {
   "cell_type": "code",
   "execution_count": 43,
   "id": "7316003a-e194-4ce9-b43f-cdd5f0102bcd",
   "metadata": {},
   "outputs": [],
   "source": [
    "y_train = df_train.hadheartattack.values\n",
    "y_val = df_val.hadheartattack.values\n",
    "y_test = df_test.hadheartattack.values"
   ]
  },
  {
   "cell_type": "code",
   "execution_count": 45,
   "id": "959d3fd3-8f33-4149-900b-9a6439d09dee",
   "metadata": {},
   "outputs": [
    {
     "data": {
      "text/plain": [
       "(array([0, 0, 0, ..., 0, 0, 0], dtype=int64),\n",
       " array([0, 0, 0, ..., 0, 0, 0], dtype=int64),\n",
       " array([0, 0, 0, ..., 0, 0, 0], dtype=int64))"
      ]
     },
     "execution_count": 45,
     "metadata": {},
     "output_type": "execute_result"
    }
   ],
   "source": [
    "y_train, y_val, y_test"
   ]
  },
  {
   "cell_type": "code",
   "execution_count": 47,
   "id": "95418068-428c-4587-a37c-227cc2c981bd",
   "metadata": {},
   "outputs": [
    {
     "data": {
      "text/plain": [
       "array([0, 0, 0, ..., 0, 0, 0], dtype=int64)"
      ]
     },
     "execution_count": 47,
     "metadata": {},
     "output_type": "execute_result"
    }
   ],
   "source": [
    "y_test"
   ]
  },
  {
   "cell_type": "code",
   "execution_count": 60,
   "id": "75cec3c6-4ced-4aff-86d9-d5b79ec2aa9c",
   "metadata": {},
   "outputs": [
    {
     "data": {
      "text/plain": [
       "(142578, 47526, 47526)"
      ]
     },
     "execution_count": 60,
     "metadata": {},
     "output_type": "execute_result"
    }
   ],
   "source": [
    "len(y_train), len(y_val), len(y_test)"
   ]
  },
  {
   "cell_type": "code",
   "execution_count": 62,
   "id": "d0ab39f4-b3f8-4e48-824a-2f7703e591c9",
   "metadata": {},
   "outputs": [],
   "source": [
    "del df_train['hadheartattack']\n",
    "del df_val['hadheartattack']\n",
    "del df_test['hadheartattack']"
   ]
  },
  {
   "cell_type": "markdown",
   "id": "31f93af0-f467-4840-b0a0-e285ea7c3bda",
   "metadata": {},
   "source": [
    "## 3.4 EDA\n",
    "\n",
    "* Check missing values\n",
    "* Look at the target variable (hadheartattack)\n",
    "* Look at numerical and categorical variables"
   ]
  },
  {
   "cell_type": "code",
   "execution_count": 65,
   "id": "9550d7cd-c244-4b44-9077-b26401ab6baf",
   "metadata": {},
   "outputs": [],
   "source": [
    "df_full_train = df_full_train.reset_index(drop=True)"
   ]
  },
  {
   "cell_type": "code",
   "execution_count": 67,
   "id": "affbe56f-e7ba-4d01-b875-18d10c53c979",
   "metadata": {},
   "outputs": [
    {
     "data": {
      "text/plain": [
       "patientid                    0\n",
       "state                        0\n",
       "sex                          0\n",
       "generalhealth                0\n",
       "agecategory                  0\n",
       "heightinmeters               0\n",
       "weightinkilograms            0\n",
       "bmi                          0\n",
       "hadheartattack               0\n",
       "hadangina                    0\n",
       "hadstroke                    0\n",
       "hadasthma                    0\n",
       "hadskincancer                0\n",
       "hadcopd                      0\n",
       "haddepressivedisorder        0\n",
       "hadkidneydisease             0\n",
       "hadarthritis                 0\n",
       "haddiabetes                  0\n",
       "deaforhardofhearing          0\n",
       "blindorvisiondifficulty      0\n",
       "difficultyconcentrating      0\n",
       "difficultywalking            0\n",
       "difficultydressingbathing    0\n",
       "difficultyerrands            0\n",
       "smokerstatus                 0\n",
       "ecigaretteusage              0\n",
       "chestscan                    0\n",
       "raceethnicitycategory        0\n",
       "alcoholdrinkers              0\n",
       "hivtesting                   0\n",
       "fluvaxlast12                 0\n",
       "pneumovaxever                0\n",
       "tetanuslast10tdap            0\n",
       "highrisklastyear             0\n",
       "covidpos                     0\n",
       "dtype: int64"
      ]
     },
     "execution_count": 67,
     "metadata": {},
     "output_type": "execute_result"
    }
   ],
   "source": [
    "df_full_train.isnull().sum()"
   ]
  },
  {
   "cell_type": "markdown",
   "id": "1f8e35e5-5626-4922-926e-1f1a1fcd8f07",
   "metadata": {},
   "source": [
    "## Check the distribution of hadheartattack ##"
   ]
  },
  {
   "cell_type": "code",
   "execution_count": 70,
   "id": "bf80c4a1-8eb8-40eb-9c39-b9c6ca42b5bb",
   "metadata": {},
   "outputs": [
    {
     "data": {
      "text/plain": [
       "hadheartattack\n",
       "0    179511\n",
       "1     10593\n",
       "Name: count, dtype: int64"
      ]
     },
     "execution_count": 70,
     "metadata": {},
     "output_type": "execute_result"
    }
   ],
   "source": [
    "df_full_train.hadheartattack.value_counts() # Only count values"
   ]
  },
  {
   "cell_type": "code",
   "execution_count": 72,
   "id": "0844be48-6ccd-4c92-a335-d621fb87e2ab",
   "metadata": {},
   "outputs": [
    {
     "data": {
      "text/plain": [
       "hadheartattack\n",
       "0    0.944278\n",
       "1    0.055722\n",
       "Name: proportion, dtype: float64"
      ]
     },
     "execution_count": 72,
     "metadata": {},
     "output_type": "execute_result"
    }
   ],
   "source": [
    "df_full_train.hadheartattack.value_counts(normalize=True)"
   ]
  },
  {
   "cell_type": "code",
   "execution_count": 74,
   "id": "704f4655-6922-4ed4-8f2a-c2e0ca9d5ed6",
   "metadata": {},
   "outputs": [
    {
     "data": {
      "text/plain": [
       "0.05572213104406009"
      ]
     },
     "execution_count": 74,
     "metadata": {},
     "output_type": "execute_result"
    }
   ],
   "source": [
    "global_hadheartattack_rate = df_full_train.hadheartattack.mean()\n",
    "global_hadheartattack_rate"
   ]
  },
  {
   "cell_type": "code",
   "execution_count": 76,
   "id": "abe7c6b1-ab58-4ff5-b416-6ea3a7b5800c",
   "metadata": {},
   "outputs": [
    {
     "data": {
      "text/plain": [
       "0.06"
      ]
     },
     "execution_count": 76,
     "metadata": {},
     "output_type": "execute_result"
    }
   ],
   "source": [
    "round(global_hadheartattack_rate, 2)"
   ]
  },
  {
   "cell_type": "code",
   "execution_count": 78,
   "id": "905a0397-5a88-4d37-9d7f-16cc68f85278",
   "metadata": {},
   "outputs": [
    {
     "data": {
      "text/plain": [
       "<Axes: xlabel='hadheartattack', ylabel='Count'>"
      ]
     },
     "execution_count": 78,
     "metadata": {},
     "output_type": "execute_result"
    },
    {
     "data": {
      "image/png": "[encoded data removed]",
      "text/plain": [
       "<Figure size 640x480 with 1 Axes>"
      ]
     },
     "metadata": {},
     "output_type": "display_data"
    }
   ],
   "source": [
    "sns.histplot(df.hadheartattack)"
   ]
  },
  {
   "cell_type": "markdown",
   "id": "5a038cca-a736-4016-9e68-c81d40163927",
   "metadata": {},
   "source": [
    "### Check the distribution  of other variables ###"
   ]
  },
  {
   "cell_type": "code",
   "execution_count": 81,
   "id": "dbf64dad-886e-4509-8bda-0158697bd892",
   "metadata": {},
   "outputs": [
    {
     "data": {
      "text/plain": [
       "patientid                      int64\n",
       "state                         object\n",
       "sex                           object\n",
       "generalhealth                 object\n",
       "agecategory                   object\n",
       "heightinmeters               float64\n",
       "weightinkilograms            float64\n",
       "bmi                          float64\n",
       "hadheartattack                 int64\n",
       "hadangina                      int64\n",
       "hadstroke                      int64\n",
       "hadasthma                      int64\n",
       "hadskincancer                  int64\n",
       "hadcopd                        int64\n",
       "haddepressivedisorder          int64\n",
       "hadkidneydisease               int64\n",
       "hadarthritis                   int64\n",
       "haddiabetes                   object\n",
       "deaforhardofhearing            int64\n",
       "blindorvisiondifficulty        int64\n",
       "difficultyconcentrating        int64\n",
       "difficultywalking              int64\n",
       "difficultydressingbathing      int64\n",
       "difficultyerrands              int64\n",
       "smokerstatus                  object\n",
       "ecigaretteusage               object\n",
       "chestscan                      int64\n",
       "raceethnicitycategory         object\n",
       "alcoholdrinkers                int64\n",
       "hivtesting                     int64\n",
       "fluvaxlast12                   int64\n",
       "pneumovaxever                  int64\n",
       "tetanuslast10tdap             object\n",
       "highrisklastyear               int64\n",
       "covidpos                       int64\n",
       "dtype: object"
      ]
     },
     "execution_count": 81,
     "metadata": {},
     "output_type": "execute_result"
    }
   ],
   "source": [
    "df_full_train.dtypes"
   ]
  },
  {
   "cell_type": "code",
   "execution_count": 83,
   "id": "fa7ccb87-0734-43e3-bc71-c9ce7030f8e4",
   "metadata": {},
   "outputs": [
    {
     "data": {
      "text/plain": [
       "patientid                      int64\n",
       "heightinmeters               float64\n",
       "weightinkilograms            float64\n",
       "bmi                          float64\n",
       "hadheartattack                 int64\n",
       "hadangina                      int64\n",
       "hadstroke                      int64\n",
       "hadasthma                      int64\n",
       "hadskincancer                  int64\n",
       "hadcopd                        int64\n",
       "haddepressivedisorder          int64\n",
       "hadkidneydisease               int64\n",
       "hadarthritis                   int64\n",
       "deaforhardofhearing            int64\n",
       "blindorvisiondifficulty        int64\n",
       "difficultyconcentrating        int64\n",
       "difficultywalking              int64\n",
       "difficultydressingbathing      int64\n",
       "difficultyerrands              int64\n",
       "chestscan                      int64\n",
       "alcoholdrinkers                int64\n",
       "hivtesting                     int64\n",
       "fluvaxlast12                   int64\n",
       "pneumovaxever                  int64\n",
       "highrisklastyear               int64\n",
       "covidpos                       int64\n",
       "dtype: object"
      ]
     },
     "execution_count": 83,
     "metadata": {},
     "output_type": "execute_result"
    }
   ],
   "source": [
    "df_full_train.dtypes[df_full_train.dtypes != \"object\"]"
   ]
  },
  {
   "cell_type": "code",
   "execution_count": 85,
   "id": "778ab865-5091-4c48-8e2e-6ff4cb7238f5",
   "metadata": {},
   "outputs": [
    {
     "data": {
      "text/plain": [
       "['heightinmeters',\n",
       " 'weightinkilograms',\n",
       " 'bmi',\n",
       " 'hadangina',\n",
       " 'hadstroke',\n",
       " 'hadasthma',\n",
       " 'hadskincancer',\n",
       " 'hadcopd',\n",
       " 'haddepressivedisorder',\n",
       " 'hadkidneydisease',\n",
       " 'hadarthritis',\n",
       " 'deaforhardofhearing',\n",
       " 'blindorvisiondifficulty',\n",
       " 'difficultyconcentrating',\n",
       " 'difficultywalking',\n",
       " 'difficultydressingbathing',\n",
       " 'difficultyerrands',\n",
       " 'chestscan',\n",
       " 'alcoholdrinkers',\n",
       " 'hivtesting',\n",
       " 'fluvaxlast12',\n",
       " 'pneumovaxever',\n",
       " 'highrisklastyear',\n",
       " 'covidpos']"
      ]
     },
     "execution_count": 85,
     "metadata": {},
     "output_type": "execute_result"
    }
   ],
   "source": [
    "numerical = df_full_train.dtypes[df_full_train.dtypes != \"object\"]\n",
    "numerical = list(numerical.index)\n",
    "\n",
    "numerical.remove('patientid')\n",
    "numerical.remove('hadheartattack')\n",
    "numerical"
   ]
  },
  {
   "cell_type": "code",
   "execution_count": 87,
   "id": "1e0b939b-4226-45a0-8d6c-352a29e4f54b",
   "metadata": {},
   "outputs": [
    {
     "data": {
      "text/plain": [
       "Index(['patientid', 'state', 'sex', 'generalhealth', 'agecategory',\n",
       "       'heightinmeters', 'weightinkilograms', 'bmi', 'hadheartattack',\n",
       "       'hadangina', 'hadstroke', 'hadasthma', 'hadskincancer', 'hadcopd',\n",
       "       'haddepressivedisorder', 'hadkidneydisease', 'hadarthritis',\n",
       "       'haddiabetes', 'deaforhardofhearing', 'blindorvisiondifficulty',\n",
       "       'difficultyconcentrating', 'difficultywalking',\n",
       "       'difficultydressingbathing', 'difficultyerrands', 'smokerstatus',\n",
       "       'ecigaretteusage', 'chestscan', 'raceethnicitycategory',\n",
       "       'alcoholdrinkers', 'hivtesting', 'fluvaxlast12', 'pneumovaxever',\n",
       "       'tetanuslast10tdap', 'highrisklastyear', 'covidpos'],\n",
       "      dtype='object')"
      ]
     },
     "execution_count": 87,
     "metadata": {},
     "output_type": "execute_result"
    }
   ],
   "source": [
    "df.columns"
   ]
  },
  {
   "cell_type": "code",
   "execution_count": 92,
   "id": "654f4edd-8288-49b6-a448-84615aad5810",
   "metadata": {},
   "outputs": [],
   "source": [
    "categorical = list(df.dtypes[df_full_train.dtypes == 'object'].index)"
   ]
  },
  {
   "cell_type": "code",
   "execution_count": 94,
   "id": "55a9a8c0-06a5-458c-8bf5-07b43ca157ec",
   "metadata": {},
   "outputs": [
    {
     "data": {
      "text/plain": [
       "['state',\n",
       " 'sex',\n",
       " 'generalhealth',\n",
       " 'agecategory',\n",
       " 'haddiabetes',\n",
       " 'smokerstatus',\n",
       " 'ecigaretteusage',\n",
       " 'raceethnicitycategory',\n",
       " 'tetanuslast10tdap']"
      ]
     },
     "execution_count": 94,
     "metadata": {},
     "output_type": "execute_result"
    }
   ],
   "source": [
    "categorical"
   ]
  },
  {
   "cell_type": "code",
   "execution_count": 96,
   "id": "7146073f-595d-4728-81e5-7b4d99e0f800",
   "metadata": {},
   "outputs": [
    {
     "data": {
      "text/html": [
       "<div>\n",
       "<style scoped>\n",
       "    .dataframe tbody tr th:only-of-type {\n",
       "        vertical-align: middle;\n",
       "    }\n",
       "\n",
       "    .dataframe tbody tr th {\n",
       "        vertical-align: top;\n",
       "    }\n",
       "\n",
       "    .dataframe thead th {\n",
       "        text-align: right;\n",
       "    }\n",
       "</style>\n",
       "<table border=\"1\" class=\"dataframe\">\n",
       "  <thead>\n",
       "    <tr style=\"text-align: right;\">\n",
       "      <th></th>\n",
       "      <th>state</th>\n",
       "      <th>sex</th>\n",
       "      <th>generalhealth</th>\n",
       "      <th>agecategory</th>\n",
       "      <th>haddiabetes</th>\n",
       "      <th>smokerstatus</th>\n",
       "      <th>ecigaretteusage</th>\n",
       "      <th>raceethnicitycategory</th>\n",
       "      <th>tetanuslast10tdap</th>\n",
       "    </tr>\n",
       "  </thead>\n",
       "  <tbody>\n",
       "    <tr>\n",
       "      <th>0</th>\n",
       "      <td>utah</td>\n",
       "      <td>male</td>\n",
       "      <td>good</td>\n",
       "      <td>age_50_to_54</td>\n",
       "      <td>no</td>\n",
       "      <td>former_smoker</td>\n",
       "      <td>never_used_e-cigarettes_in_my_entire_life</td>\n",
       "      <td>multiracial,_non-hispanic</td>\n",
       "      <td>yes,_received_tetanus_shot_but_not_sure_what_type</td>\n",
       "    </tr>\n",
       "    <tr>\n",
       "      <th>1</th>\n",
       "      <td>iowa</td>\n",
       "      <td>male</td>\n",
       "      <td>good</td>\n",
       "      <td>age_30_to_34</td>\n",
       "      <td>no</td>\n",
       "      <td>never_smoked</td>\n",
       "      <td>not_at_all_(right_now)</td>\n",
       "      <td>white_only,_non-hispanic</td>\n",
       "      <td>yes,_received_tdap</td>\n",
       "    </tr>\n",
       "    <tr>\n",
       "      <th>2</th>\n",
       "      <td>north_dakota</td>\n",
       "      <td>female</td>\n",
       "      <td>excellent</td>\n",
       "      <td>age_30_to_34</td>\n",
       "      <td>no</td>\n",
       "      <td>current_smoker_-_now_smokes_some_days</td>\n",
       "      <td>use_them_some_days</td>\n",
       "      <td>white_only,_non-hispanic</td>\n",
       "      <td>yes,_received_tdap</td>\n",
       "    </tr>\n",
       "    <tr>\n",
       "      <th>3</th>\n",
       "      <td>ohio</td>\n",
       "      <td>female</td>\n",
       "      <td>good</td>\n",
       "      <td>age_55_to_59</td>\n",
       "      <td>yes</td>\n",
       "      <td>never_smoked</td>\n",
       "      <td>never_used_e-cigarettes_in_my_entire_life</td>\n",
       "      <td>white_only,_non-hispanic</td>\n",
       "      <td>no,_did_not_receive_any_tetanus_shot_in_the_pa...</td>\n",
       "    </tr>\n",
       "    <tr>\n",
       "      <th>4</th>\n",
       "      <td>rhode_island</td>\n",
       "      <td>male</td>\n",
       "      <td>excellent</td>\n",
       "      <td>age_50_to_54</td>\n",
       "      <td>no</td>\n",
       "      <td>never_smoked</td>\n",
       "      <td>never_used_e-cigarettes_in_my_entire_life</td>\n",
       "      <td>white_only,_non-hispanic</td>\n",
       "      <td>yes,_received_tetanus_shot_but_not_sure_what_type</td>\n",
       "    </tr>\n",
       "    <tr>\n",
       "      <th>...</th>\n",
       "      <td>...</td>\n",
       "      <td>...</td>\n",
       "      <td>...</td>\n",
       "      <td>...</td>\n",
       "      <td>...</td>\n",
       "      <td>...</td>\n",
       "      <td>...</td>\n",
       "      <td>...</td>\n",
       "      <td>...</td>\n",
       "    </tr>\n",
       "    <tr>\n",
       "      <th>190099</th>\n",
       "      <td>wyoming</td>\n",
       "      <td>male</td>\n",
       "      <td>good</td>\n",
       "      <td>age_45_to_49</td>\n",
       "      <td>no</td>\n",
       "      <td>never_smoked</td>\n",
       "      <td>never_used_e-cigarettes_in_my_entire_life</td>\n",
       "      <td>white_only,_non-hispanic</td>\n",
       "      <td>yes,_received_tetanus_shot_but_not_sure_what_type</td>\n",
       "    </tr>\n",
       "    <tr>\n",
       "      <th>190100</th>\n",
       "      <td>arizona</td>\n",
       "      <td>male</td>\n",
       "      <td>poor</td>\n",
       "      <td>age_55_to_59</td>\n",
       "      <td>yes</td>\n",
       "      <td>never_smoked</td>\n",
       "      <td>never_used_e-cigarettes_in_my_entire_life</td>\n",
       "      <td>white_only,_non-hispanic</td>\n",
       "      <td>yes,_received_tetanus_shot_but_not_sure_what_type</td>\n",
       "    </tr>\n",
       "    <tr>\n",
       "      <th>190101</th>\n",
       "      <td>washington</td>\n",
       "      <td>female</td>\n",
       "      <td>good</td>\n",
       "      <td>age_75_to_79</td>\n",
       "      <td>yes</td>\n",
       "      <td>never_smoked</td>\n",
       "      <td>never_used_e-cigarettes_in_my_entire_life</td>\n",
       "      <td>white_only,_non-hispanic</td>\n",
       "      <td>yes,_received_tdap</td>\n",
       "    </tr>\n",
       "    <tr>\n",
       "      <th>190102</th>\n",
       "      <td>wisconsin</td>\n",
       "      <td>male</td>\n",
       "      <td>very_good</td>\n",
       "      <td>age_45_to_49</td>\n",
       "      <td>no</td>\n",
       "      <td>former_smoker</td>\n",
       "      <td>never_used_e-cigarettes_in_my_entire_life</td>\n",
       "      <td>white_only,_non-hispanic</td>\n",
       "      <td>yes,_received_tetanus_shot_but_not_sure_what_type</td>\n",
       "    </tr>\n",
       "    <tr>\n",
       "      <th>190103</th>\n",
       "      <td>new_hampshire</td>\n",
       "      <td>female</td>\n",
       "      <td>very_good</td>\n",
       "      <td>age_70_to_74</td>\n",
       "      <td>no</td>\n",
       "      <td>current_smoker_-_now_smokes_some_days</td>\n",
       "      <td>never_used_e-cigarettes_in_my_entire_life</td>\n",
       "      <td>white_only,_non-hispanic</td>\n",
       "      <td>yes,_received_tetanus_shot_but_not_sure_what_type</td>\n",
       "    </tr>\n",
       "  </tbody>\n",
       "</table>\n",
       "<p>190104 rows × 9 columns</p>\n",
       "</div>"
      ],
      "text/plain": [
       "                state     sex generalhealth   agecategory haddiabetes  \\\n",
       "0                utah    male          good  age_50_to_54          no   \n",
       "1                iowa    male          good  age_30_to_34          no   \n",
       "2        north_dakota  female     excellent  age_30_to_34          no   \n",
       "3                ohio  female          good  age_55_to_59         yes   \n",
       "4        rhode_island    male     excellent  age_50_to_54          no   \n",
       "...               ...     ...           ...           ...         ...   \n",
       "190099        wyoming    male          good  age_45_to_49          no   \n",
       "190100        arizona    male          poor  age_55_to_59         yes   \n",
       "190101     washington  female          good  age_75_to_79         yes   \n",
       "190102      wisconsin    male     very_good  age_45_to_49          no   \n",
       "190103  new_hampshire  female     very_good  age_70_to_74          no   \n",
       "\n",
       "                                 smokerstatus  \\\n",
       "0                               former_smoker   \n",
       "1                                never_smoked   \n",
       "2       current_smoker_-_now_smokes_some_days   \n",
       "3                                never_smoked   \n",
       "4                                never_smoked   \n",
       "...                                       ...   \n",
       "190099                           never_smoked   \n",
       "190100                           never_smoked   \n",
       "190101                           never_smoked   \n",
       "190102                          former_smoker   \n",
       "190103  current_smoker_-_now_smokes_some_days   \n",
       "\n",
       "                                  ecigaretteusage      raceethnicitycategory  \\\n",
       "0       never_used_e-cigarettes_in_my_entire_life  multiracial,_non-hispanic   \n",
       "1                          not_at_all_(right_now)   white_only,_non-hispanic   \n",
       "2                              use_them_some_days   white_only,_non-hispanic   \n",
       "3       never_used_e-cigarettes_in_my_entire_life   white_only,_non-hispanic   \n",
       "4       never_used_e-cigarettes_in_my_entire_life   white_only,_non-hispanic   \n",
       "...                                           ...                        ...   \n",
       "190099  never_used_e-cigarettes_in_my_entire_life   white_only,_non-hispanic   \n",
       "190100  never_used_e-cigarettes_in_my_entire_life   white_only,_non-hispanic   \n",
       "190101  never_used_e-cigarettes_in_my_entire_life   white_only,_non-hispanic   \n",
       "190102  never_used_e-cigarettes_in_my_entire_life   white_only,_non-hispanic   \n",
       "190103  never_used_e-cigarettes_in_my_entire_life   white_only,_non-hispanic   \n",
       "\n",
       "                                        tetanuslast10tdap  \n",
       "0       yes,_received_tetanus_shot_but_not_sure_what_type  \n",
       "1                                      yes,_received_tdap  \n",
       "2                                      yes,_received_tdap  \n",
       "3       no,_did_not_receive_any_tetanus_shot_in_the_pa...  \n",
       "4       yes,_received_tetanus_shot_but_not_sure_what_type  \n",
       "...                                                   ...  \n",
       "190099  yes,_received_tetanus_shot_but_not_sure_what_type  \n",
       "190100  yes,_received_tetanus_shot_but_not_sure_what_type  \n",
       "190101                                 yes,_received_tdap  \n",
       "190102  yes,_received_tetanus_shot_but_not_sure_what_type  \n",
       "190103  yes,_received_tetanus_shot_but_not_sure_what_type  \n",
       "\n",
       "[190104 rows x 9 columns]"
      ]
     },
     "execution_count": 96,
     "metadata": {},
     "output_type": "execute_result"
    }
   ],
   "source": [
    "df_full_train[categorical]"
   ]
  },
  {
   "cell_type": "code",
   "execution_count": 98,
   "id": "db0e09bc-b2d8-4075-a3f9-950bf198763c",
   "metadata": {},
   "outputs": [
    {
     "data": {
      "text/plain": [
       "state                    54\n",
       "sex                       2\n",
       "generalhealth             5\n",
       "agecategory              13\n",
       "haddiabetes               4\n",
       "smokerstatus              4\n",
       "ecigaretteusage           4\n",
       "raceethnicitycategory     5\n",
       "tetanuslast10tdap         4\n",
       "dtype: int64"
      ]
     },
     "execution_count": 98,
     "metadata": {},
     "output_type": "execute_result"
    }
   ],
   "source": [
    "df_full_train[categorical].nunique()"
   ]
  },
  {
   "cell_type": "markdown",
   "id": "e5f1bf50-f5da-4d21-a876-4e6708bad7af",
   "metadata": {},
   "source": [
    "## 3.5 Feature importance: hadheartattack rate and risk ratio\n",
    "\n",
    "Feature importance analysis (part of EDA) - identifying which features affect our target variable\n",
    "\n",
    "* hadheartattack rate\n",
    "* Risk ratio\n",
    "* Mutual information - later"
   ]
  },
  {
   "cell_type": "code",
   "execution_count": 101,
   "id": "9e54fd34-f2f7-4e43-acc6-c1b920203f98",
   "metadata": {},
   "outputs": [
    {
     "data": {
      "text/plain": [
       "0.03954441266557131"
      ]
     },
     "execution_count": 101,
     "metadata": {},
     "output_type": "execute_result"
    }
   ],
   "source": [
    "hadheartattack_female = df_full_train[df_full_train.sex == 'female'].hadheartattack.mean()\n",
    "hadheartattack_female"
   ]
  },
  {
   "cell_type": "code",
   "execution_count": 103,
   "id": "67020ef5-747f-42fc-9463-0ff5035cecb9",
   "metadata": {},
   "outputs": [
    {
     "data": {
      "text/plain": [
       "0.07315367298319236"
      ]
     },
     "execution_count": 103,
     "metadata": {},
     "output_type": "execute_result"
    }
   ],
   "source": [
    "hadheartattack_male = df_full_train[df_full_train.sex == 'male'].hadheartattack.mean()\n",
    "hadheartattack_male"
   ]
  },
  {
   "cell_type": "code",
   "execution_count": 105,
   "id": "7e25efb2-da7f-4640-b4a3-2706090626d5",
   "metadata": {},
   "outputs": [
    {
     "data": {
      "text/plain": [
       "0.05572213104406009"
      ]
     },
     "execution_count": 105,
     "metadata": {},
     "output_type": "execute_result"
    }
   ],
   "source": [
    "global_hadheartattack = df_full_train.hadheartattack.mean()\n",
    "global_hadheartattack"
   ]
  },
  {
   "cell_type": "code",
   "execution_count": 107,
   "id": "ff7bc55b-113d-4cc3-a981-a9b2ea71c178",
   "metadata": {},
   "outputs": [
    {
     "data": {
      "text/plain": [
       "0.016177718378488783"
      ]
     },
     "execution_count": 107,
     "metadata": {},
     "output_type": "execute_result"
    }
   ],
   "source": [
    "global_hadheartattack - hadheartattack_female"
   ]
  },
  {
   "cell_type": "code",
   "execution_count": 109,
   "id": "e1e98d27-a81c-4cd0-92af-15675c241593",
   "metadata": {},
   "outputs": [
    {
     "data": {
      "text/plain": [
       "-0.017431541939132274"
      ]
     },
     "execution_count": 109,
     "metadata": {},
     "output_type": "execute_result"
    }
   ],
   "source": [
    "global_hadheartattack - hadheartattack_male"
   ]
  },
  {
   "cell_type": "code",
   "execution_count": 111,
   "id": "f3d9fc8b-6ed4-4c84-8136-12410a02196b",
   "metadata": {},
   "outputs": [],
   "source": [
    "from IPython.display import display"
   ]
  },
  {
   "cell_type": "code",
   "execution_count": 113,
   "id": "828504a5-0738-43d5-87b7-c9a34d0f7005",
   "metadata": {},
   "outputs": [
    {
     "name": "stdout",
     "output_type": "stream",
     "text": [
      "state\n"
     ]
    },
    {
     "data": {
      "text/html": [
       "<div>\n",
       "<style scoped>\n",
       "    .dataframe tbody tr th:only-of-type {\n",
       "        vertical-align: middle;\n",
       "    }\n",
       "\n",
       "    .dataframe tbody tr th {\n",
       "        vertical-align: top;\n",
       "    }\n",
       "\n",
       "    .dataframe thead th {\n",
       "        text-align: right;\n",
       "    }\n",
       "</style>\n",
       "<table border=\"1\" class=\"dataframe\">\n",
       "  <thead>\n",
       "    <tr style=\"text-align: right;\">\n",
       "      <th></th>\n",
       "      <th>mean</th>\n",
       "      <th>count</th>\n",
       "      <th>diff</th>\n",
       "      <th>risk</th>\n",
       "    </tr>\n",
       "    <tr>\n",
       "      <th>state</th>\n",
       "      <th></th>\n",
       "      <th></th>\n",
       "      <th></th>\n",
       "      <th></th>\n",
       "    </tr>\n",
       "  </thead>\n",
       "  <tbody>\n",
       "    <tr>\n",
       "      <th>alabama</th>\n",
       "      <td>0.063325</td>\n",
       "      <td>1516</td>\n",
       "      <td>0.007602</td>\n",
       "      <td>1.136434</td>\n",
       "    </tr>\n",
       "    <tr>\n",
       "      <th>alaska</th>\n",
       "      <td>0.056071</td>\n",
       "      <td>2479</td>\n",
       "      <td>0.000349</td>\n",
       "      <td>1.006261</td>\n",
       "    </tr>\n",
       "    <tr>\n",
       "      <th>arizona</th>\n",
       "      <td>0.063318</td>\n",
       "      <td>4201</td>\n",
       "      <td>0.007596</td>\n",
       "      <td>1.136322</td>\n",
       "    </tr>\n",
       "    <tr>\n",
       "      <th>arkansas</th>\n",
       "      <td>0.081139</td>\n",
       "      <td>2317</td>\n",
       "      <td>0.025417</td>\n",
       "      <td>1.456143</td>\n",
       "    </tr>\n",
       "    <tr>\n",
       "      <th>california</th>\n",
       "      <td>0.042324</td>\n",
       "      <td>3804</td>\n",
       "      <td>-0.013398</td>\n",
       "      <td>0.759552</td>\n",
       "    </tr>\n",
       "    <tr>\n",
       "      <th>colorado</th>\n",
       "      <td>0.039571</td>\n",
       "      <td>3917</td>\n",
       "      <td>-0.016151</td>\n",
       "      <td>0.710151</td>\n",
       "    </tr>\n",
       "    <tr>\n",
       "      <th>connecticut</th>\n",
       "      <td>0.045230</td>\n",
       "      <td>3847</td>\n",
       "      <td>-0.010492</td>\n",
       "      <td>0.811707</td>\n",
       "    </tr>\n",
       "    <tr>\n",
       "      <th>delaware</th>\n",
       "      <td>0.046089</td>\n",
       "      <td>1649</td>\n",
       "      <td>-0.009634</td>\n",
       "      <td>0.827114</td>\n",
       "    </tr>\n",
       "    <tr>\n",
       "      <th>district_of_columbia</th>\n",
       "      <td>0.037750</td>\n",
       "      <td>1298</td>\n",
       "      <td>-0.017972</td>\n",
       "      <td>0.677476</td>\n",
       "    </tr>\n",
       "    <tr>\n",
       "      <th>florida</th>\n",
       "      <td>0.079253</td>\n",
       "      <td>5678</td>\n",
       "      <td>0.023531</td>\n",
       "      <td>1.422294</td>\n",
       "    </tr>\n",
       "    <tr>\n",
       "      <th>georgia</th>\n",
       "      <td>0.056483</td>\n",
       "      <td>3895</td>\n",
       "      <td>0.000761</td>\n",
       "      <td>1.013649</td>\n",
       "    </tr>\n",
       "    <tr>\n",
       "      <th>guam</th>\n",
       "      <td>0.053105</td>\n",
       "      <td>1224</td>\n",
       "      <td>-0.002618</td>\n",
       "      <td>0.953025</td>\n",
       "    </tr>\n",
       "    <tr>\n",
       "      <th>hawaii</th>\n",
       "      <td>0.049087</td>\n",
       "      <td>4217</td>\n",
       "      <td>-0.006635</td>\n",
       "      <td>0.880925</td>\n",
       "    </tr>\n",
       "    <tr>\n",
       "      <th>idaho</th>\n",
       "      <td>0.046269</td>\n",
       "      <td>2680</td>\n",
       "      <td>-0.009453</td>\n",
       "      <td>0.830346</td>\n",
       "    </tr>\n",
       "    <tr>\n",
       "      <th>illinois</th>\n",
       "      <td>0.042744</td>\n",
       "      <td>2012</td>\n",
       "      <td>-0.012979</td>\n",
       "      <td>0.767084</td>\n",
       "    </tr>\n",
       "    <tr>\n",
       "      <th>indiana</th>\n",
       "      <td>0.059000</td>\n",
       "      <td>4339</td>\n",
       "      <td>0.003278</td>\n",
       "      <td>1.058821</td>\n",
       "    </tr>\n",
       "    <tr>\n",
       "      <th>iowa</th>\n",
       "      <td>0.047673</td>\n",
       "      <td>4426</td>\n",
       "      <td>-0.008049</td>\n",
       "      <td>0.855546</td>\n",
       "    </tr>\n",
       "    <tr>\n",
       "      <th>kansas</th>\n",
       "      <td>0.054943</td>\n",
       "      <td>4805</td>\n",
       "      <td>-0.000779</td>\n",
       "      <td>0.986013</td>\n",
       "    </tr>\n",
       "    <tr>\n",
       "      <th>kentucky</th>\n",
       "      <td>0.067681</td>\n",
       "      <td>1906</td>\n",
       "      <td>0.011959</td>\n",
       "      <td>1.214616</td>\n",
       "    </tr>\n",
       "    <tr>\n",
       "      <th>louisiana</th>\n",
       "      <td>0.062395</td>\n",
       "      <td>2372</td>\n",
       "      <td>0.006672</td>\n",
       "      <td>1.119745</td>\n",
       "    </tr>\n",
       "    <tr>\n",
       "      <th>maine</th>\n",
       "      <td>0.071508</td>\n",
       "      <td>4489</td>\n",
       "      <td>0.015786</td>\n",
       "      <td>1.283299</td>\n",
       "    </tr>\n",
       "    <tr>\n",
       "      <th>maryland</th>\n",
       "      <td>0.053657</td>\n",
       "      <td>7082</td>\n",
       "      <td>-0.002065</td>\n",
       "      <td>0.962942</td>\n",
       "    </tr>\n",
       "    <tr>\n",
       "      <th>massachusetts</th>\n",
       "      <td>0.047414</td>\n",
       "      <td>4176</td>\n",
       "      <td>-0.008308</td>\n",
       "      <td>0.850897</td>\n",
       "    </tr>\n",
       "    <tr>\n",
       "      <th>michigan</th>\n",
       "      <td>0.057638</td>\n",
       "      <td>4216</td>\n",
       "      <td>0.001915</td>\n",
       "      <td>1.034375</td>\n",
       "    </tr>\n",
       "    <tr>\n",
       "      <th>minnesota</th>\n",
       "      <td>0.045177</td>\n",
       "      <td>6884</td>\n",
       "      <td>-0.010545</td>\n",
       "      <td>0.810759</td>\n",
       "    </tr>\n",
       "    <tr>\n",
       "      <th>mississippi</th>\n",
       "      <td>0.056070</td>\n",
       "      <td>1944</td>\n",
       "      <td>0.000348</td>\n",
       "      <td>1.006242</td>\n",
       "    </tr>\n",
       "    <tr>\n",
       "      <th>missouri</th>\n",
       "      <td>0.057329</td>\n",
       "      <td>3227</td>\n",
       "      <td>0.001607</td>\n",
       "      <td>1.028833</td>\n",
       "    </tr>\n",
       "    <tr>\n",
       "      <th>montana</th>\n",
       "      <td>0.058700</td>\n",
       "      <td>3339</td>\n",
       "      <td>0.002978</td>\n",
       "      <td>1.053445</td>\n",
       "    </tr>\n",
       "    <tr>\n",
       "      <th>nebraska</th>\n",
       "      <td>0.069085</td>\n",
       "      <td>4024</td>\n",
       "      <td>0.013363</td>\n",
       "      <td>1.239821</td>\n",
       "    </tr>\n",
       "    <tr>\n",
       "      <th>nevada</th>\n",
       "      <td>0.067164</td>\n",
       "      <td>1340</td>\n",
       "      <td>0.011442</td>\n",
       "      <td>1.205341</td>\n",
       "    </tr>\n",
       "    <tr>\n",
       "      <th>new_hampshire</th>\n",
       "      <td>0.066316</td>\n",
       "      <td>2850</td>\n",
       "      <td>0.010594</td>\n",
       "      <td>1.190116</td>\n",
       "    </tr>\n",
       "    <tr>\n",
       "      <th>new_jersey</th>\n",
       "      <td>0.039293</td>\n",
       "      <td>3054</td>\n",
       "      <td>-0.016429</td>\n",
       "      <td>0.705155</td>\n",
       "    </tr>\n",
       "    <tr>\n",
       "      <th>new_mexico</th>\n",
       "      <td>0.065944</td>\n",
       "      <td>2305</td>\n",
       "      <td>0.010221</td>\n",
       "      <td>1.183436</td>\n",
       "    </tr>\n",
       "    <tr>\n",
       "      <th>new_york</th>\n",
       "      <td>0.047347</td>\n",
       "      <td>6991</td>\n",
       "      <td>-0.008376</td>\n",
       "      <td>0.849691</td>\n",
       "    </tr>\n",
       "    <tr>\n",
       "      <th>north_carolina</th>\n",
       "      <td>0.051664</td>\n",
       "      <td>2013</td>\n",
       "      <td>-0.004058</td>\n",
       "      <td>0.927175</td>\n",
       "    </tr>\n",
       "    <tr>\n",
       "      <th>north_dakota</th>\n",
       "      <td>0.056012</td>\n",
       "      <td>1946</td>\n",
       "      <td>0.000290</td>\n",
       "      <td>1.005208</td>\n",
       "    </tr>\n",
       "    <tr>\n",
       "      <th>ohio</th>\n",
       "      <td>0.068562</td>\n",
       "      <td>6928</td>\n",
       "      <td>0.012840</td>\n",
       "      <td>1.230433</td>\n",
       "    </tr>\n",
       "    <tr>\n",
       "      <th>oklahoma</th>\n",
       "      <td>0.062473</td>\n",
       "      <td>2337</td>\n",
       "      <td>0.006751</td>\n",
       "      <td>1.121157</td>\n",
       "    </tr>\n",
       "    <tr>\n",
       "      <th>oregon</th>\n",
       "      <td>0.049639</td>\n",
       "      <td>2357</td>\n",
       "      <td>-0.006083</td>\n",
       "      <td>0.890838</td>\n",
       "    </tr>\n",
       "    <tr>\n",
       "      <th>pennsylvania</th>\n",
       "      <td>0.053232</td>\n",
       "      <td>2104</td>\n",
       "      <td>-0.002490</td>\n",
       "      <td>0.955311</td>\n",
       "    </tr>\n",
       "    <tr>\n",
       "      <th>puerto_rico</th>\n",
       "      <td>0.048020</td>\n",
       "      <td>2853</td>\n",
       "      <td>-0.007703</td>\n",
       "      <td>0.861769</td>\n",
       "    </tr>\n",
       "    <tr>\n",
       "      <th>rhode_island</th>\n",
       "      <td>0.054694</td>\n",
       "      <td>2450</td>\n",
       "      <td>-0.001028</td>\n",
       "      <td>0.981547</td>\n",
       "    </tr>\n",
       "    <tr>\n",
       "      <th>south_carolina</th>\n",
       "      <td>0.057606</td>\n",
       "      <td>4253</td>\n",
       "      <td>0.001884</td>\n",
       "      <td>1.033815</td>\n",
       "    </tr>\n",
       "    <tr>\n",
       "      <th>south_dakota</th>\n",
       "      <td>0.071429</td>\n",
       "      <td>3444</td>\n",
       "      <td>0.015706</td>\n",
       "      <td>1.281871</td>\n",
       "    </tr>\n",
       "    <tr>\n",
       "      <th>tennessee</th>\n",
       "      <td>0.069529</td>\n",
       "      <td>2143</td>\n",
       "      <td>0.013807</td>\n",
       "      <td>1.247775</td>\n",
       "    </tr>\n",
       "    <tr>\n",
       "      <th>texas</th>\n",
       "      <td>0.056666</td>\n",
       "      <td>5806</td>\n",
       "      <td>0.000943</td>\n",
       "      <td>1.016930</td>\n",
       "    </tr>\n",
       "    <tr>\n",
       "      <th>utah</th>\n",
       "      <td>0.042502</td>\n",
       "      <td>4141</td>\n",
       "      <td>-0.013220</td>\n",
       "      <td>0.762746</td>\n",
       "    </tr>\n",
       "    <tr>\n",
       "      <th>vermont</th>\n",
       "      <td>0.052174</td>\n",
       "      <td>3680</td>\n",
       "      <td>-0.003548</td>\n",
       "      <td>0.936323</td>\n",
       "    </tr>\n",
       "    <tr>\n",
       "      <th>virgin_islands</th>\n",
       "      <td>0.032590</td>\n",
       "      <td>583</td>\n",
       "      <td>-0.023132</td>\n",
       "      <td>0.584867</td>\n",
       "    </tr>\n",
       "    <tr>\n",
       "      <th>virginia</th>\n",
       "      <td>0.056172</td>\n",
       "      <td>4326</td>\n",
       "      <td>0.000450</td>\n",
       "      <td>1.008073</td>\n",
       "    </tr>\n",
       "    <tr>\n",
       "      <th>washington</th>\n",
       "      <td>0.047848</td>\n",
       "      <td>11432</td>\n",
       "      <td>-0.007874</td>\n",
       "      <td>0.858692</td>\n",
       "    </tr>\n",
       "    <tr>\n",
       "      <th>west_virginia</th>\n",
       "      <td>0.083223</td>\n",
       "      <td>2271</td>\n",
       "      <td>0.027501</td>\n",
       "      <td>1.493540</td>\n",
       "    </tr>\n",
       "    <tr>\n",
       "      <th>wisconsin</th>\n",
       "      <td>0.056350</td>\n",
       "      <td>4685</td>\n",
       "      <td>0.000628</td>\n",
       "      <td>1.011269</td>\n",
       "    </tr>\n",
       "    <tr>\n",
       "      <th>wyoming</th>\n",
       "      <td>0.050297</td>\n",
       "      <td>1849</td>\n",
       "      <td>-0.005425</td>\n",
       "      <td>0.902648</td>\n",
       "    </tr>\n",
       "  </tbody>\n",
       "</table>\n",
       "</div>"
      ],
      "text/plain": [
       "                          mean  count      diff      risk\n",
       "state                                                    \n",
       "alabama               0.063325   1516  0.007602  1.136434\n",
       "alaska                0.056071   2479  0.000349  1.006261\n",
       "arizona               0.063318   4201  0.007596  1.136322\n",
       "arkansas              0.081139   2317  0.025417  1.456143\n",
       "california            0.042324   3804 -0.013398  0.759552\n",
       "colorado              0.039571   3917 -0.016151  0.710151\n",
       "connecticut           0.045230   3847 -0.010492  0.811707\n",
       "delaware              0.046089   1649 -0.009634  0.827114\n",
       "district_of_columbia  0.037750   1298 -0.017972  0.677476\n",
       "florida               0.079253   5678  0.023531  1.422294\n",
       "georgia               0.056483   3895  0.000761  1.013649\n",
       "guam                  0.053105   1224 -0.002618  0.953025\n",
       "hawaii                0.049087   4217 -0.006635  0.880925\n",
       "idaho                 0.046269   2680 -0.009453  0.830346\n",
       "illinois              0.042744   2012 -0.012979  0.767084\n",
       "indiana               0.059000   4339  0.003278  1.058821\n",
       "iowa                  0.047673   4426 -0.008049  0.855546\n",
       "kansas                0.054943   4805 -0.000779  0.986013\n",
       "kentucky              0.067681   1906  0.011959  1.214616\n",
       "louisiana             0.062395   2372  0.006672  1.119745\n",
       "maine                 0.071508   4489  0.015786  1.283299\n",
       "maryland              0.053657   7082 -0.002065  0.962942\n",
       "massachusetts         0.047414   4176 -0.008308  0.850897\n",
       "michigan              0.057638   4216  0.001915  1.034375\n",
       "minnesota             0.045177   6884 -0.010545  0.810759\n",
       "mississippi           0.056070   1944  0.000348  1.006242\n",
       "missouri              0.057329   3227  0.001607  1.028833\n",
       "montana               0.058700   3339  0.002978  1.053445\n",
       "nebraska              0.069085   4024  0.013363  1.239821\n",
       "nevada                0.067164   1340  0.011442  1.205341\n",
       "new_hampshire         0.066316   2850  0.010594  1.190116\n",
       "new_jersey            0.039293   3054 -0.016429  0.705155\n",
       "new_mexico            0.065944   2305  0.010221  1.183436\n",
       "new_york              0.047347   6991 -0.008376  0.849691\n",
       "north_carolina        0.051664   2013 -0.004058  0.927175\n",
       "north_dakota          0.056012   1946  0.000290  1.005208\n",
       "ohio                  0.068562   6928  0.012840  1.230433\n",
       "oklahoma              0.062473   2337  0.006751  1.121157\n",
       "oregon                0.049639   2357 -0.006083  0.890838\n",
       "pennsylvania          0.053232   2104 -0.002490  0.955311\n",
       "puerto_rico           0.048020   2853 -0.007703  0.861769\n",
       "rhode_island          0.054694   2450 -0.001028  0.981547\n",
       "south_carolina        0.057606   4253  0.001884  1.033815\n",
       "south_dakota          0.071429   3444  0.015706  1.281871\n",
       "tennessee             0.069529   2143  0.013807  1.247775\n",
       "texas                 0.056666   5806  0.000943  1.016930\n",
       "utah                  0.042502   4141 -0.013220  0.762746\n",
       "vermont               0.052174   3680 -0.003548  0.936323\n",
       "virgin_islands        0.032590    583 -0.023132  0.584867\n",
       "virginia              0.056172   4326  0.000450  1.008073\n",
       "washington            0.047848  11432 -0.007874  0.858692\n",
       "west_virginia         0.083223   2271  0.027501  1.493540\n",
       "wisconsin             0.056350   4685  0.000628  1.011269\n",
       "wyoming               0.050297   1849 -0.005425  0.902648"
      ]
     },
     "metadata": {},
     "output_type": "display_data"
    },
    {
     "name": "stdout",
     "output_type": "stream",
     "text": [
      "\n",
      "\n",
      "sex\n"
     ]
    },
    {
     "data": {
      "text/html": [
       "<div>\n",
       "<style scoped>\n",
       "    .dataframe tbody tr th:only-of-type {\n",
       "        vertical-align: middle;\n",
       "    }\n",
       "\n",
       "    .dataframe tbody tr th {\n",
       "        vertical-align: top;\n",
       "    }\n",
       "\n",
       "    .dataframe thead th {\n",
       "        text-align: right;\n",
       "    }\n",
       "</style>\n",
       "<table border=\"1\" class=\"dataframe\">\n",
       "  <thead>\n",
       "    <tr style=\"text-align: right;\">\n",
       "      <th></th>\n",
       "      <th>mean</th>\n",
       "      <th>count</th>\n",
       "      <th>diff</th>\n",
       "      <th>risk</th>\n",
       "    </tr>\n",
       "    <tr>\n",
       "      <th>sex</th>\n",
       "      <th></th>\n",
       "      <th></th>\n",
       "      <th></th>\n",
       "      <th></th>\n",
       "    </tr>\n",
       "  </thead>\n",
       "  <tbody>\n",
       "    <tr>\n",
       "      <th>female</th>\n",
       "      <td>0.039544</td>\n",
       "      <td>98598</td>\n",
       "      <td>-0.016178</td>\n",
       "      <td>0.709672</td>\n",
       "    </tr>\n",
       "    <tr>\n",
       "      <th>male</th>\n",
       "      <td>0.073154</td>\n",
       "      <td>91506</td>\n",
       "      <td>0.017432</td>\n",
       "      <td>1.312830</td>\n",
       "    </tr>\n",
       "  </tbody>\n",
       "</table>\n",
       "</div>"
      ],
      "text/plain": [
       "            mean  count      diff      risk\n",
       "sex                                        \n",
       "female  0.039544  98598 -0.016178  0.709672\n",
       "male    0.073154  91506  0.017432  1.312830"
      ]
     },
     "metadata": {},
     "output_type": "display_data"
    },
    {
     "name": "stdout",
     "output_type": "stream",
     "text": [
      "\n",
      "\n",
      "generalhealth\n"
     ]
    },
    {
     "data": {
      "text/html": [
       "<div>\n",
       "<style scoped>\n",
       "    .dataframe tbody tr th:only-of-type {\n",
       "        vertical-align: middle;\n",
       "    }\n",
       "\n",
       "    .dataframe tbody tr th {\n",
       "        vertical-align: top;\n",
       "    }\n",
       "\n",
       "    .dataframe thead th {\n",
       "        text-align: right;\n",
       "    }\n",
       "</style>\n",
       "<table border=\"1\" class=\"dataframe\">\n",
       "  <thead>\n",
       "    <tr style=\"text-align: right;\">\n",
       "      <th></th>\n",
       "      <th>mean</th>\n",
       "      <th>count</th>\n",
       "      <th>diff</th>\n",
       "      <th>risk</th>\n",
       "    </tr>\n",
       "    <tr>\n",
       "      <th>generalhealth</th>\n",
       "      <th></th>\n",
       "      <th></th>\n",
       "      <th></th>\n",
       "      <th></th>\n",
       "    </tr>\n",
       "  </thead>\n",
       "  <tbody>\n",
       "    <tr>\n",
       "      <th>excellent</th>\n",
       "      <td>0.014870</td>\n",
       "      <td>31808</td>\n",
       "      <td>-0.040852</td>\n",
       "      <td>0.266868</td>\n",
       "    </tr>\n",
       "    <tr>\n",
       "      <th>fair</th>\n",
       "      <td>0.123879</td>\n",
       "      <td>23983</td>\n",
       "      <td>0.068157</td>\n",
       "      <td>2.223164</td>\n",
       "    </tr>\n",
       "    <tr>\n",
       "      <th>good</th>\n",
       "      <td>0.059810</td>\n",
       "      <td>59906</td>\n",
       "      <td>0.004088</td>\n",
       "      <td>1.073368</td>\n",
       "    </tr>\n",
       "    <tr>\n",
       "      <th>poor</th>\n",
       "      <td>0.215712</td>\n",
       "      <td>7510</td>\n",
       "      <td>0.159990</td>\n",
       "      <td>3.871216</td>\n",
       "    </tr>\n",
       "    <tr>\n",
       "      <th>very_good</th>\n",
       "      <td>0.029089</td>\n",
       "      <td>66897</td>\n",
       "      <td>-0.026633</td>\n",
       "      <td>0.522046</td>\n",
       "    </tr>\n",
       "  </tbody>\n",
       "</table>\n",
       "</div>"
      ],
      "text/plain": [
       "                   mean  count      diff      risk\n",
       "generalhealth                                     \n",
       "excellent      0.014870  31808 -0.040852  0.266868\n",
       "fair           0.123879  23983  0.068157  2.223164\n",
       "good           0.059810  59906  0.004088  1.073368\n",
       "poor           0.215712   7510  0.159990  3.871216\n",
       "very_good      0.029089  66897 -0.026633  0.522046"
      ]
     },
     "metadata": {},
     "output_type": "display_data"
    },
    {
     "name": "stdout",
     "output_type": "stream",
     "text": [
      "\n",
      "\n",
      "agecategory\n"
     ]
    },
    {
     "data": {
      "text/html": [
       "<div>\n",
       "<style scoped>\n",
       "    .dataframe tbody tr th:only-of-type {\n",
       "        vertical-align: middle;\n",
       "    }\n",
       "\n",
       "    .dataframe tbody tr th {\n",
       "        vertical-align: top;\n",
       "    }\n",
       "\n",
       "    .dataframe thead th {\n",
       "        text-align: right;\n",
       "    }\n",
       "</style>\n",
       "<table border=\"1\" class=\"dataframe\">\n",
       "  <thead>\n",
       "    <tr style=\"text-align: right;\">\n",
       "      <th></th>\n",
       "      <th>mean</th>\n",
       "      <th>count</th>\n",
       "      <th>diff</th>\n",
       "      <th>risk</th>\n",
       "    </tr>\n",
       "    <tr>\n",
       "      <th>agecategory</th>\n",
       "      <th></th>\n",
       "      <th></th>\n",
       "      <th></th>\n",
       "      <th></th>\n",
       "    </tr>\n",
       "  </thead>\n",
       "  <tbody>\n",
       "    <tr>\n",
       "      <th>age_18_to_24</th>\n",
       "      <td>0.003605</td>\n",
       "      <td>10263</td>\n",
       "      <td>-0.052117</td>\n",
       "      <td>0.064699</td>\n",
       "    </tr>\n",
       "    <tr>\n",
       "      <th>age_25_to_29</th>\n",
       "      <td>0.004526</td>\n",
       "      <td>8617</td>\n",
       "      <td>-0.051196</td>\n",
       "      <td>0.081223</td>\n",
       "    </tr>\n",
       "    <tr>\n",
       "      <th>age_30_to_34</th>\n",
       "      <td>0.007334</td>\n",
       "      <td>10226</td>\n",
       "      <td>-0.048388</td>\n",
       "      <td>0.131622</td>\n",
       "    </tr>\n",
       "    <tr>\n",
       "      <th>age_35_to_39</th>\n",
       "      <td>0.009871</td>\n",
       "      <td>12056</td>\n",
       "      <td>-0.045852</td>\n",
       "      <td>0.177140</td>\n",
       "    </tr>\n",
       "    <tr>\n",
       "      <th>age_40_to_44</th>\n",
       "      <td>0.013372</td>\n",
       "      <td>13012</td>\n",
       "      <td>-0.042350</td>\n",
       "      <td>0.239981</td>\n",
       "    </tr>\n",
       "    <tr>\n",
       "      <th>age_45_to_49</th>\n",
       "      <td>0.025345</td>\n",
       "      <td>12744</td>\n",
       "      <td>-0.030377</td>\n",
       "      <td>0.454851</td>\n",
       "    </tr>\n",
       "    <tr>\n",
       "      <th>age_50_to_54</th>\n",
       "      <td>0.035518</td>\n",
       "      <td>15288</td>\n",
       "      <td>-0.020204</td>\n",
       "      <td>0.637414</td>\n",
       "    </tr>\n",
       "    <tr>\n",
       "      <th>age_55_to_59</th>\n",
       "      <td>0.052067</td>\n",
       "      <td>16959</td>\n",
       "      <td>-0.003655</td>\n",
       "      <td>0.934400</td>\n",
       "    </tr>\n",
       "    <tr>\n",
       "      <th>age_60_to_64</th>\n",
       "      <td>0.060198</td>\n",
       "      <td>20632</td>\n",
       "      <td>0.004476</td>\n",
       "      <td>1.080320</td>\n",
       "    </tr>\n",
       "    <tr>\n",
       "      <th>age_65_to_69</th>\n",
       "      <td>0.077687</td>\n",
       "      <td>22166</td>\n",
       "      <td>0.021964</td>\n",
       "      <td>1.394178</td>\n",
       "    </tr>\n",
       "    <tr>\n",
       "      <th>age_70_to_74</th>\n",
       "      <td>0.094664</td>\n",
       "      <td>19997</td>\n",
       "      <td>0.038942</td>\n",
       "      <td>1.698862</td>\n",
       "    </tr>\n",
       "    <tr>\n",
       "      <th>age_75_to_79</th>\n",
       "      <td>0.116586</td>\n",
       "      <td>14084</td>\n",
       "      <td>0.060864</td>\n",
       "      <td>2.092278</td>\n",
       "    </tr>\n",
       "    <tr>\n",
       "      <th>age_80_or_older</th>\n",
       "      <td>0.135206</td>\n",
       "      <td>14060</td>\n",
       "      <td>0.079484</td>\n",
       "      <td>2.426437</td>\n",
       "    </tr>\n",
       "  </tbody>\n",
       "</table>\n",
       "</div>"
      ],
      "text/plain": [
       "                     mean  count      diff      risk\n",
       "agecategory                                         \n",
       "age_18_to_24     0.003605  10263 -0.052117  0.064699\n",
       "age_25_to_29     0.004526   8617 -0.051196  0.081223\n",
       "age_30_to_34     0.007334  10226 -0.048388  0.131622\n",
       "age_35_to_39     0.009871  12056 -0.045852  0.177140\n",
       "age_40_to_44     0.013372  13012 -0.042350  0.239981\n",
       "age_45_to_49     0.025345  12744 -0.030377  0.454851\n",
       "age_50_to_54     0.035518  15288 -0.020204  0.637414\n",
       "age_55_to_59     0.052067  16959 -0.003655  0.934400\n",
       "age_60_to_64     0.060198  20632  0.004476  1.080320\n",
       "age_65_to_69     0.077687  22166  0.021964  1.394178\n",
       "age_70_to_74     0.094664  19997  0.038942  1.698862\n",
       "age_75_to_79     0.116586  14084  0.060864  2.092278\n",
       "age_80_or_older  0.135206  14060  0.079484  2.426437"
      ]
     },
     "metadata": {},
     "output_type": "display_data"
    },
    {
     "name": "stdout",
     "output_type": "stream",
     "text": [
      "\n",
      "\n",
      "haddiabetes\n"
     ]
    },
    {
     "data": {
      "text/html": [
       "<div>\n",
       "<style scoped>\n",
       "    .dataframe tbody tr th:only-of-type {\n",
       "        vertical-align: middle;\n",
       "    }\n",
       "\n",
       "    .dataframe tbody tr th {\n",
       "        vertical-align: top;\n",
       "    }\n",
       "\n",
       "    .dataframe thead th {\n",
       "        text-align: right;\n",
       "    }\n",
       "</style>\n",
       "<table border=\"1\" class=\"dataframe\">\n",
       "  <thead>\n",
       "    <tr style=\"text-align: right;\">\n",
       "      <th></th>\n",
       "      <th>mean</th>\n",
       "      <th>count</th>\n",
       "      <th>diff</th>\n",
       "      <th>risk</th>\n",
       "    </tr>\n",
       "    <tr>\n",
       "      <th>haddiabetes</th>\n",
       "      <th></th>\n",
       "      <th></th>\n",
       "      <th></th>\n",
       "      <th></th>\n",
       "    </tr>\n",
       "  </thead>\n",
       "  <tbody>\n",
       "    <tr>\n",
       "      <th>no</th>\n",
       "      <td>0.041497</td>\n",
       "      <td>157915</td>\n",
       "      <td>-0.014225</td>\n",
       "      <td>0.744713</td>\n",
       "    </tr>\n",
       "    <tr>\n",
       "      <th>no,_pre-diabetes_or_borderline_diabetes</th>\n",
       "      <td>0.070355</td>\n",
       "      <td>4193</td>\n",
       "      <td>0.014633</td>\n",
       "      <td>1.262611</td>\n",
       "    </tr>\n",
       "    <tr>\n",
       "      <th>yes</th>\n",
       "      <td>0.139876</td>\n",
       "      <td>26452</td>\n",
       "      <td>0.084154</td>\n",
       "      <td>2.510241</td>\n",
       "    </tr>\n",
       "    <tr>\n",
       "      <th>yes,_but_only_during_pregnancy_(female)</th>\n",
       "      <td>0.029145</td>\n",
       "      <td>1544</td>\n",
       "      <td>-0.026577</td>\n",
       "      <td>0.523043</td>\n",
       "    </tr>\n",
       "  </tbody>\n",
       "</table>\n",
       "</div>"
      ],
      "text/plain": [
       "                                             mean   count      diff      risk\n",
       "haddiabetes                                                                  \n",
       "no                                       0.041497  157915 -0.014225  0.744713\n",
       "no,_pre-diabetes_or_borderline_diabetes  0.070355    4193  0.014633  1.262611\n",
       "yes                                      0.139876   26452  0.084154  2.510241\n",
       "yes,_but_only_during_pregnancy_(female)  0.029145    1544 -0.026577  0.523043"
      ]
     },
     "metadata": {},
     "output_type": "display_data"
    },
    {
     "name": "stdout",
     "output_type": "stream",
     "text": [
      "\n",
      "\n",
      "smokerstatus\n"
     ]
    },
    {
     "data": {
      "text/html": [
       "<div>\n",
       "<style scoped>\n",
       "    .dataframe tbody tr th:only-of-type {\n",
       "        vertical-align: middle;\n",
       "    }\n",
       "\n",
       "    .dataframe tbody tr th {\n",
       "        vertical-align: top;\n",
       "    }\n",
       "\n",
       "    .dataframe thead th {\n",
       "        text-align: right;\n",
       "    }\n",
       "</style>\n",
       "<table border=\"1\" class=\"dataframe\">\n",
       "  <thead>\n",
       "    <tr style=\"text-align: right;\">\n",
       "      <th></th>\n",
       "      <th>mean</th>\n",
       "      <th>count</th>\n",
       "      <th>diff</th>\n",
       "      <th>risk</th>\n",
       "    </tr>\n",
       "    <tr>\n",
       "      <th>smokerstatus</th>\n",
       "      <th></th>\n",
       "      <th></th>\n",
       "      <th></th>\n",
       "      <th></th>\n",
       "    </tr>\n",
       "  </thead>\n",
       "  <tbody>\n",
       "    <tr>\n",
       "      <th>current_smoker_-_now_smokes_every_day</th>\n",
       "      <td>0.084987</td>\n",
       "      <td>16979</td>\n",
       "      <td>0.029265</td>\n",
       "      <td>1.525199</td>\n",
       "    </tr>\n",
       "    <tr>\n",
       "      <th>current_smoker_-_now_smokes_some_days</th>\n",
       "      <td>0.069742</td>\n",
       "      <td>6309</td>\n",
       "      <td>0.014020</td>\n",
       "      <td>1.251597</td>\n",
       "    </tr>\n",
       "    <tr>\n",
       "      <th>former_smoker</th>\n",
       "      <td>0.083037</td>\n",
       "      <td>52844</td>\n",
       "      <td>0.027315</td>\n",
       "      <td>1.490195</td>\n",
       "    </tr>\n",
       "    <tr>\n",
       "      <th>never_smoked</th>\n",
       "      <td>0.037922</td>\n",
       "      <td>113972</td>\n",
       "      <td>-0.017801</td>\n",
       "      <td>0.680548</td>\n",
       "    </tr>\n",
       "  </tbody>\n",
       "</table>\n",
       "</div>"
      ],
      "text/plain": [
       "                                           mean   count      diff      risk\n",
       "smokerstatus                                                               \n",
       "current_smoker_-_now_smokes_every_day  0.084987   16979  0.029265  1.525199\n",
       "current_smoker_-_now_smokes_some_days  0.069742    6309  0.014020  1.251597\n",
       "former_smoker                          0.083037   52844  0.027315  1.490195\n",
       "never_smoked                           0.037922  113972 -0.017801  0.680548"
      ]
     },
     "metadata": {},
     "output_type": "display_data"
    },
    {
     "name": "stdout",
     "output_type": "stream",
     "text": [
      "\n",
      "\n",
      "ecigaretteusage\n"
     ]
    },
    {
     "data": {
      "text/html": [
       "<div>\n",
       "<style scoped>\n",
       "    .dataframe tbody tr th:only-of-type {\n",
       "        vertical-align: middle;\n",
       "    }\n",
       "\n",
       "    .dataframe tbody tr th {\n",
       "        vertical-align: top;\n",
       "    }\n",
       "\n",
       "    .dataframe thead th {\n",
       "        text-align: right;\n",
       "    }\n",
       "</style>\n",
       "<table border=\"1\" class=\"dataframe\">\n",
       "  <thead>\n",
       "    <tr style=\"text-align: right;\">\n",
       "      <th></th>\n",
       "      <th>mean</th>\n",
       "      <th>count</th>\n",
       "      <th>diff</th>\n",
       "      <th>risk</th>\n",
       "    </tr>\n",
       "    <tr>\n",
       "      <th>ecigaretteusage</th>\n",
       "      <th></th>\n",
       "      <th></th>\n",
       "      <th></th>\n",
       "      <th></th>\n",
       "    </tr>\n",
       "  </thead>\n",
       "  <tbody>\n",
       "    <tr>\n",
       "      <th>never_used_e-cigarettes_in_my_entire_life</th>\n",
       "      <td>0.056686</td>\n",
       "      <td>146791</td>\n",
       "      <td>0.000964</td>\n",
       "      <td>1.017298</td>\n",
       "    </tr>\n",
       "    <tr>\n",
       "      <th>not_at_all_(right_now)</th>\n",
       "      <td>0.057752</td>\n",
       "      <td>33557</td>\n",
       "      <td>0.002030</td>\n",
       "      <td>1.036437</td>\n",
       "    </tr>\n",
       "    <tr>\n",
       "      <th>use_them_every_day</th>\n",
       "      <td>0.029809</td>\n",
       "      <td>4596</td>\n",
       "      <td>-0.025914</td>\n",
       "      <td>0.534950</td>\n",
       "    </tr>\n",
       "    <tr>\n",
       "      <th>use_them_some_days</th>\n",
       "      <td>0.038178</td>\n",
       "      <td>5160</td>\n",
       "      <td>-0.017544</td>\n",
       "      <td>0.685155</td>\n",
       "    </tr>\n",
       "  </tbody>\n",
       "</table>\n",
       "</div>"
      ],
      "text/plain": [
       "                                               mean   count      diff  \\\n",
       "ecigaretteusage                                                         \n",
       "never_used_e-cigarettes_in_my_entire_life  0.056686  146791  0.000964   \n",
       "not_at_all_(right_now)                     0.057752   33557  0.002030   \n",
       "use_them_every_day                         0.029809    4596 -0.025914   \n",
       "use_them_some_days                         0.038178    5160 -0.017544   \n",
       "\n",
       "                                               risk  \n",
       "ecigaretteusage                                      \n",
       "never_used_e-cigarettes_in_my_entire_life  1.017298  \n",
       "not_at_all_(right_now)                     1.036437  \n",
       "use_them_every_day                         0.534950  \n",
       "use_them_some_days                         0.685155  "
      ]
     },
     "metadata": {},
     "output_type": "display_data"
    },
    {
     "name": "stdout",
     "output_type": "stream",
     "text": [
      "\n",
      "\n",
      "raceethnicitycategory\n"
     ]
    },
    {
     "data": {
      "text/html": [
       "<div>\n",
       "<style scoped>\n",
       "    .dataframe tbody tr th:only-of-type {\n",
       "        vertical-align: middle;\n",
       "    }\n",
       "\n",
       "    .dataframe tbody tr th {\n",
       "        vertical-align: top;\n",
       "    }\n",
       "\n",
       "    .dataframe thead th {\n",
       "        text-align: right;\n",
       "    }\n",
       "</style>\n",
       "<table border=\"1\" class=\"dataframe\">\n",
       "  <thead>\n",
       "    <tr style=\"text-align: right;\">\n",
       "      <th></th>\n",
       "      <th>mean</th>\n",
       "      <th>count</th>\n",
       "      <th>diff</th>\n",
       "      <th>risk</th>\n",
       "    </tr>\n",
       "    <tr>\n",
       "      <th>raceethnicitycategory</th>\n",
       "      <th></th>\n",
       "      <th></th>\n",
       "      <th></th>\n",
       "      <th></th>\n",
       "    </tr>\n",
       "  </thead>\n",
       "  <tbody>\n",
       "    <tr>\n",
       "      <th>black_only,_non-hispanic</th>\n",
       "      <td>0.046522</td>\n",
       "      <td>15283</td>\n",
       "      <td>-0.009200</td>\n",
       "      <td>0.834898</td>\n",
       "    </tr>\n",
       "    <tr>\n",
       "      <th>hispanic</th>\n",
       "      <td>0.039085</td>\n",
       "      <td>17654</td>\n",
       "      <td>-0.016638</td>\n",
       "      <td>0.701420</td>\n",
       "    </tr>\n",
       "    <tr>\n",
       "      <th>multiracial,_non-hispanic</th>\n",
       "      <td>0.062163</td>\n",
       "      <td>4263</td>\n",
       "      <td>0.006441</td>\n",
       "      <td>1.115585</td>\n",
       "    </tr>\n",
       "    <tr>\n",
       "      <th>other_race_only,_non-hispanic</th>\n",
       "      <td>0.050308</td>\n",
       "      <td>9402</td>\n",
       "      <td>-0.005414</td>\n",
       "      <td>0.902845</td>\n",
       "    </tr>\n",
       "    <tr>\n",
       "      <th>white_only,_non-hispanic</th>\n",
       "      <td>0.058912</td>\n",
       "      <td>143502</td>\n",
       "      <td>0.003190</td>\n",
       "      <td>1.057247</td>\n",
       "    </tr>\n",
       "  </tbody>\n",
       "</table>\n",
       "</div>"
      ],
      "text/plain": [
       "                                   mean   count      diff      risk\n",
       "raceethnicitycategory                                              \n",
       "black_only,_non-hispanic       0.046522   15283 -0.009200  0.834898\n",
       "hispanic                       0.039085   17654 -0.016638  0.701420\n",
       "multiracial,_non-hispanic      0.062163    4263  0.006441  1.115585\n",
       "other_race_only,_non-hispanic  0.050308    9402 -0.005414  0.902845\n",
       "white_only,_non-hispanic       0.058912  143502  0.003190  1.057247"
      ]
     },
     "metadata": {},
     "output_type": "display_data"
    },
    {
     "name": "stdout",
     "output_type": "stream",
     "text": [
      "\n",
      "\n",
      "tetanuslast10tdap\n"
     ]
    },
    {
     "data": {
      "text/html": [
       "<div>\n",
       "<style scoped>\n",
       "    .dataframe tbody tr th:only-of-type {\n",
       "        vertical-align: middle;\n",
       "    }\n",
       "\n",
       "    .dataframe tbody tr th {\n",
       "        vertical-align: top;\n",
       "    }\n",
       "\n",
       "    .dataframe thead th {\n",
       "        text-align: right;\n",
       "    }\n",
       "</style>\n",
       "<table border=\"1\" class=\"dataframe\">\n",
       "  <thead>\n",
       "    <tr style=\"text-align: right;\">\n",
       "      <th></th>\n",
       "      <th>mean</th>\n",
       "      <th>count</th>\n",
       "      <th>diff</th>\n",
       "      <th>risk</th>\n",
       "    </tr>\n",
       "    <tr>\n",
       "      <th>tetanuslast10tdap</th>\n",
       "      <th></th>\n",
       "      <th></th>\n",
       "      <th></th>\n",
       "      <th></th>\n",
       "    </tr>\n",
       "  </thead>\n",
       "  <tbody>\n",
       "    <tr>\n",
       "      <th>no,_did_not_receive_any_tetanus_shot_in_the_past_10_years</th>\n",
       "      <td>0.059021</td>\n",
       "      <td>63520</td>\n",
       "      <td>0.003299</td>\n",
       "      <td>1.059198</td>\n",
       "    </tr>\n",
       "    <tr>\n",
       "      <th>yes,_received_tdap</th>\n",
       "      <td>0.040900</td>\n",
       "      <td>53912</td>\n",
       "      <td>-0.014822</td>\n",
       "      <td>0.733999</td>\n",
       "    </tr>\n",
       "    <tr>\n",
       "      <th>yes,_received_tetanus_shot,_but_not_tdap</th>\n",
       "      <td>0.063665</td>\n",
       "      <td>15456</td>\n",
       "      <td>0.007942</td>\n",
       "      <td>1.142537</td>\n",
       "    </tr>\n",
       "    <tr>\n",
       "      <th>yes,_received_tetanus_shot_but_not_sure_what_type</th>\n",
       "      <td>0.063881</td>\n",
       "      <td>57216</td>\n",
       "      <td>0.008159</td>\n",
       "      <td>1.146416</td>\n",
       "    </tr>\n",
       "  </tbody>\n",
       "</table>\n",
       "</div>"
      ],
      "text/plain": [
       "                                                        mean  count      diff  \\\n",
       "tetanuslast10tdap                                                               \n",
       "no,_did_not_receive_any_tetanus_shot_in_the_pas...  0.059021  63520  0.003299   \n",
       "yes,_received_tdap                                  0.040900  53912 -0.014822   \n",
       "yes,_received_tetanus_shot,_but_not_tdap            0.063665  15456  0.007942   \n",
       "yes,_received_tetanus_shot_but_not_sure_what_type   0.063881  57216  0.008159   \n",
       "\n",
       "                                                        risk  \n",
       "tetanuslast10tdap                                             \n",
       "no,_did_not_receive_any_tetanus_shot_in_the_pas...  1.059198  \n",
       "yes,_received_tdap                                  0.733999  \n",
       "yes,_received_tetanus_shot,_but_not_tdap            1.142537  \n",
       "yes,_received_tetanus_shot_but_not_sure_what_type   1.146416  "
      ]
     },
     "metadata": {},
     "output_type": "display_data"
    },
    {
     "name": "stdout",
     "output_type": "stream",
     "text": [
      "\n",
      "\n"
     ]
    }
   ],
   "source": [
    "for c in categorical:\n",
    "    print(c)\n",
    "    df_group = df_full_train.groupby(c).hadheartattack.agg(['mean', 'count'])\n",
    "    df_group['diff'] = df_group['mean'] - global_hadheartattack\n",
    "    df_group['risk'] = df_group['mean'] / global_hadheartattack\n",
    "    display(df_group)\n",
    "    print()\n",
    "    print()"
   ]
  },
  {
   "cell_type": "markdown",
   "id": "ceced00c-2459-47be-b2f8-2e351639fdf3",
   "metadata": {},
   "source": [
    "## 3.6 Feature importance: Mutual information\n",
    "\n",
    "Mutual information - concept from information theory, it tells us how much \n",
    "we can learn about one variable if we know the value of another"
   ]
  },
  {
   "cell_type": "code",
   "execution_count": 118,
   "id": "b8538c7a-d597-4815-b919-76d59b9158a7",
   "metadata": {},
   "outputs": [],
   "source": [
    "from sklearn.metrics import mutual_info_score"
   ]
  },
  {
   "cell_type": "code",
   "execution_count": 120,
   "id": "72dc8dc0-b6d8-4d9f-90f7-bf35eb9be169",
   "metadata": {},
   "outputs": [
    {
     "data": {
      "text/plain": [
       "0.0010060631531065938"
      ]
     },
     "execution_count": 120,
     "metadata": {},
     "output_type": "execute_result"
    }
   ],
   "source": [
    "mutual_info_score(df_full_train.state, df_full_train.hadheartattack)"
   ]
  },
  {
   "cell_type": "code",
   "execution_count": 122,
   "id": "24d4e575-fbda-4077-ac4d-9146bbf73a4c",
   "metadata": {},
   "outputs": [
    {
     "data": {
      "text/plain": [
       "0.002699749002486748"
      ]
     },
     "execution_count": 122,
     "metadata": {},
     "output_type": "execute_result"
    }
   ],
   "source": [
    "mutual_info_score(df_full_train.sex, df_full_train.hadheartattack)"
   ]
  },
  {
   "cell_type": "code",
   "execution_count": 124,
   "id": "adbaaba9-6ca1-40d2-931e-e39238a9564c",
   "metadata": {},
   "outputs": [
    {
     "data": {
      "text/plain": [
       "0.016580576522440417"
      ]
     },
     "execution_count": 124,
     "metadata": {},
     "output_type": "execute_result"
    }
   ],
   "source": [
    "mutual_info_score(df_full_train.generalhealth, df_full_train.hadheartattack)"
   ]
  },
  {
   "cell_type": "code",
   "execution_count": 126,
   "id": "fb0b6b34-67aa-4ed4-9fd4-f79b02caa28b",
   "metadata": {},
   "outputs": [
    {
     "data": {
      "text/plain": [
       "0.017762462932449923"
      ]
     },
     "execution_count": 126,
     "metadata": {},
     "output_type": "execute_result"
    }
   ],
   "source": [
    "mutual_info_score(df_full_train.agecategory, df_full_train.hadheartattack)"
   ]
  },
  {
   "cell_type": "code",
   "execution_count": 128,
   "id": "cf2e70c3-7d12-43d6-bc5f-a1e8f16e455b",
   "metadata": {},
   "outputs": [
    {
     "data": {
      "text/plain": [
       "0.008593471772260764"
      ]
     },
     "execution_count": 128,
     "metadata": {},
     "output_type": "execute_result"
    }
   ],
   "source": [
    "mutual_info_score(df_full_train.haddiabetes, df_full_train.hadheartattack)"
   ]
  },
  {
   "cell_type": "code",
   "execution_count": 130,
   "id": "fe505169-dc59-4aab-b446-92bc6f3d69c9",
   "metadata": {},
   "outputs": [
    {
     "data": {
      "text/plain": [
       "0.004436782204377708"
      ]
     },
     "execution_count": 130,
     "metadata": {},
     "output_type": "execute_result"
    }
   ],
   "source": [
    "mutual_info_score(df_full_train.smokerstatus, df_full_train.hadheartattack)"
   ]
  },
  {
   "cell_type": "code",
   "execution_count": 132,
   "id": "9760ca94-7e8c-467e-bf1e-602ceca4102c",
   "metadata": {},
   "outputs": [
    {
     "data": {
      "text/plain": [
       "0.0002865620873437249"
      ]
     },
     "execution_count": 132,
     "metadata": {},
     "output_type": "execute_result"
    }
   ],
   "source": [
    "mutual_info_score(df_full_train.ecigaretteusage, df_full_train.hadheartattack)"
   ]
  },
  {
   "cell_type": "code",
   "execution_count": 134,
   "id": "301af107-6275-4103-8729-9f2b9379efdf",
   "metadata": {},
   "outputs": [
    {
     "data": {
      "text/plain": [
       "0.00043412889845758154"
      ]
     },
     "execution_count": 134,
     "metadata": {},
     "output_type": "execute_result"
    }
   ],
   "source": [
    "mutual_info_score(df_full_train.raceethnicitycategory, df_full_train.hadheartattack)"
   ]
  },
  {
   "cell_type": "code",
   "execution_count": 136,
   "id": "f2a40af2-5892-42dc-a17a-a10eb0218e1f",
   "metadata": {},
   "outputs": [
    {
     "data": {
      "text/plain": [
       "0.0009121720276537744"
      ]
     },
     "execution_count": 136,
     "metadata": {},
     "output_type": "execute_result"
    }
   ],
   "source": [
    "mutual_info_score(df_full_train.tetanuslast10tdap, df_full_train.hadheartattack)"
   ]
  },
  {
   "cell_type": "markdown",
   "id": "ddada249-4db5-4956-bed7-57acdc709dd0",
   "metadata": {},
   "source": [
    "##### Let's apply the metrics to all the variables ####"
   ]
  },
  {
   "cell_type": "code",
   "execution_count": 139,
   "id": "cadb657a-1897-4cb8-837f-0ebd0e8436e6",
   "metadata": {},
   "outputs": [],
   "source": [
    "def mutual_info_hadheartattack_score(series):\n",
    "    return mutual_info_score(series, df_full_train.hadheartattack)"
   ]
  },
  {
   "cell_type": "code",
   "execution_count": 141,
   "id": "aaaa8102-76e4-4be5-bc18-3570aaacff4a",
   "metadata": {},
   "outputs": [
    {
     "data": {
      "text/plain": [
       "agecategory              0.017762\n",
       "generalhealth            0.016581\n",
       "haddiabetes              0.008593\n",
       "smokerstatus             0.004437\n",
       "sex                      0.002700\n",
       "state                    0.001006\n",
       "tetanuslast10tdap        0.000912\n",
       "raceethnicitycategory    0.000434\n",
       "ecigaretteusage          0.000287\n",
       "dtype: float64"
      ]
     },
     "execution_count": 141,
     "metadata": {},
     "output_type": "execute_result"
    }
   ],
   "source": [
    "mi = df_full_train[categorical].apply(mutual_info_hadheartattack_score)\n",
    "mi.sort_values(ascending=False)"
   ]
  },
  {
   "cell_type": "markdown",
   "id": "69f368a5-e326-4f5a-90c1-4f163da7a5d0",
   "metadata": {},
   "source": [
    "**These variables are the most important**\n",
    "\n",
    "important_var =['agecategory', 'generalhealth', 'haddiabetes', 'smokerstatus'] "
   ]
  },
  {
   "cell_type": "markdown",
   "id": "04649bfb-4bb3-45ad-b953-c4cb01fe8b1b",
   "metadata": {},
   "source": [
    "## 3.7 Feature importance: Correlation"
   ]
  },
  {
   "cell_type": "code",
   "execution_count": 153,
   "id": "b159523e-ee2d-44c3-86eb-908d2e60bb39",
   "metadata": {},
   "outputs": [
    {
     "data": {
      "text/plain": [
       "2.41000008583069"
      ]
     },
     "execution_count": 153,
     "metadata": {},
     "output_type": "execute_result"
    }
   ],
   "source": [
    "df_full_train.heightinmeters.max()"
   ]
  },
  {
   "cell_type": "code",
   "execution_count": 155,
   "id": "6c29ab2f-6dd3-4e7d-8824-e91a128f759e",
   "metadata": {},
   "outputs": [
    {
     "data": {
      "text/plain": [
       "292.570007324219"
      ]
     },
     "execution_count": 155,
     "metadata": {},
     "output_type": "execute_result"
    }
   ],
   "source": [
    "df_full_train.weightinkilograms.max()"
   ]
  },
  {
   "cell_type": "code",
   "execution_count": 157,
   "id": "548a7f17-80bf-4b53-a778-a851cc026be6",
   "metadata": {},
   "outputs": [
    {
     "data": {
      "text/plain": [
       "97.6500015258789"
      ]
     },
     "execution_count": 157,
     "metadata": {},
     "output_type": "execute_result"
    }
   ],
   "source": [
    "df_full_train.bmi.max()"
   ]
  },
  {
   "cell_type": "code",
   "execution_count": 159,
   "id": "39692e91-8438-426d-b594-e0c0fa2d7fa8",
   "metadata": {},
   "outputs": [
    {
     "data": {
      "text/html": [
       "<div>\n",
       "<style scoped>\n",
       "    .dataframe tbody tr th:only-of-type {\n",
       "        vertical-align: middle;\n",
       "    }\n",
       "\n",
       "    .dataframe tbody tr th {\n",
       "        vertical-align: top;\n",
       "    }\n",
       "\n",
       "    .dataframe thead th {\n",
       "        text-align: right;\n",
       "    }\n",
       "</style>\n",
       "<table border=\"1\" class=\"dataframe\">\n",
       "  <thead>\n",
       "    <tr style=\"text-align: right;\">\n",
       "      <th></th>\n",
       "      <th>heightinmeters</th>\n",
       "      <th>weightinkilograms</th>\n",
       "      <th>bmi</th>\n",
       "      <th>hadangina</th>\n",
       "      <th>hadstroke</th>\n",
       "      <th>hadasthma</th>\n",
       "      <th>hadskincancer</th>\n",
       "      <th>hadcopd</th>\n",
       "      <th>haddepressivedisorder</th>\n",
       "      <th>hadkidneydisease</th>\n",
       "      <th>...</th>\n",
       "      <th>difficultywalking</th>\n",
       "      <th>difficultydressingbathing</th>\n",
       "      <th>difficultyerrands</th>\n",
       "      <th>chestscan</th>\n",
       "      <th>alcoholdrinkers</th>\n",
       "      <th>hivtesting</th>\n",
       "      <th>fluvaxlast12</th>\n",
       "      <th>pneumovaxever</th>\n",
       "      <th>highrisklastyear</th>\n",
       "      <th>covidpos</th>\n",
       "    </tr>\n",
       "  </thead>\n",
       "  <tbody>\n",
       "    <tr>\n",
       "      <th>0</th>\n",
       "      <td>1.80</td>\n",
       "      <td>79.379997</td>\n",
       "      <td>24.410000</td>\n",
       "      <td>0</td>\n",
       "      <td>0</td>\n",
       "      <td>0</td>\n",
       "      <td>0</td>\n",
       "      <td>0</td>\n",
       "      <td>0</td>\n",
       "      <td>0</td>\n",
       "      <td>...</td>\n",
       "      <td>0</td>\n",
       "      <td>0</td>\n",
       "      <td>0</td>\n",
       "      <td>0</td>\n",
       "      <td>1</td>\n",
       "      <td>0</td>\n",
       "      <td>0</td>\n",
       "      <td>0</td>\n",
       "      <td>0</td>\n",
       "      <td>0</td>\n",
       "    </tr>\n",
       "    <tr>\n",
       "      <th>1</th>\n",
       "      <td>1.80</td>\n",
       "      <td>97.519997</td>\n",
       "      <td>29.990000</td>\n",
       "      <td>0</td>\n",
       "      <td>0</td>\n",
       "      <td>0</td>\n",
       "      <td>0</td>\n",
       "      <td>0</td>\n",
       "      <td>0</td>\n",
       "      <td>0</td>\n",
       "      <td>...</td>\n",
       "      <td>0</td>\n",
       "      <td>0</td>\n",
       "      <td>0</td>\n",
       "      <td>0</td>\n",
       "      <td>1</td>\n",
       "      <td>0</td>\n",
       "      <td>1</td>\n",
       "      <td>0</td>\n",
       "      <td>0</td>\n",
       "      <td>0</td>\n",
       "    </tr>\n",
       "    <tr>\n",
       "      <th>2</th>\n",
       "      <td>1.68</td>\n",
       "      <td>58.970001</td>\n",
       "      <td>20.980000</td>\n",
       "      <td>0</td>\n",
       "      <td>0</td>\n",
       "      <td>0</td>\n",
       "      <td>0</td>\n",
       "      <td>0</td>\n",
       "      <td>0</td>\n",
       "      <td>0</td>\n",
       "      <td>...</td>\n",
       "      <td>0</td>\n",
       "      <td>0</td>\n",
       "      <td>0</td>\n",
       "      <td>1</td>\n",
       "      <td>0</td>\n",
       "      <td>1</td>\n",
       "      <td>0</td>\n",
       "      <td>1</td>\n",
       "      <td>1</td>\n",
       "      <td>0</td>\n",
       "    </tr>\n",
       "    <tr>\n",
       "      <th>3</th>\n",
       "      <td>1.68</td>\n",
       "      <td>127.459999</td>\n",
       "      <td>45.349998</td>\n",
       "      <td>0</td>\n",
       "      <td>0</td>\n",
       "      <td>0</td>\n",
       "      <td>0</td>\n",
       "      <td>0</td>\n",
       "      <td>0</td>\n",
       "      <td>0</td>\n",
       "      <td>...</td>\n",
       "      <td>0</td>\n",
       "      <td>0</td>\n",
       "      <td>0</td>\n",
       "      <td>0</td>\n",
       "      <td>0</td>\n",
       "      <td>0</td>\n",
       "      <td>0</td>\n",
       "      <td>0</td>\n",
       "      <td>0</td>\n",
       "      <td>0</td>\n",
       "    </tr>\n",
       "    <tr>\n",
       "      <th>4</th>\n",
       "      <td>1.75</td>\n",
       "      <td>80.739998</td>\n",
       "      <td>26.290001</td>\n",
       "      <td>0</td>\n",
       "      <td>0</td>\n",
       "      <td>0</td>\n",
       "      <td>0</td>\n",
       "      <td>0</td>\n",
       "      <td>0</td>\n",
       "      <td>0</td>\n",
       "      <td>...</td>\n",
       "      <td>0</td>\n",
       "      <td>0</td>\n",
       "      <td>0</td>\n",
       "      <td>0</td>\n",
       "      <td>1</td>\n",
       "      <td>1</td>\n",
       "      <td>0</td>\n",
       "      <td>0</td>\n",
       "      <td>0</td>\n",
       "      <td>0</td>\n",
       "    </tr>\n",
       "    <tr>\n",
       "      <th>...</th>\n",
       "      <td>...</td>\n",
       "      <td>...</td>\n",
       "      <td>...</td>\n",
       "      <td>...</td>\n",
       "      <td>...</td>\n",
       "      <td>...</td>\n",
       "      <td>...</td>\n",
       "      <td>...</td>\n",
       "      <td>...</td>\n",
       "      <td>...</td>\n",
       "      <td>...</td>\n",
       "      <td>...</td>\n",
       "      <td>...</td>\n",
       "      <td>...</td>\n",
       "      <td>...</td>\n",
       "      <td>...</td>\n",
       "      <td>...</td>\n",
       "      <td>...</td>\n",
       "      <td>...</td>\n",
       "      <td>...</td>\n",
       "      <td>...</td>\n",
       "    </tr>\n",
       "    <tr>\n",
       "      <th>190099</th>\n",
       "      <td>1.85</td>\n",
       "      <td>122.470001</td>\n",
       "      <td>35.619999</td>\n",
       "      <td>0</td>\n",
       "      <td>0</td>\n",
       "      <td>0</td>\n",
       "      <td>0</td>\n",
       "      <td>0</td>\n",
       "      <td>0</td>\n",
       "      <td>0</td>\n",
       "      <td>...</td>\n",
       "      <td>0</td>\n",
       "      <td>0</td>\n",
       "      <td>0</td>\n",
       "      <td>1</td>\n",
       "      <td>0</td>\n",
       "      <td>0</td>\n",
       "      <td>1</td>\n",
       "      <td>0</td>\n",
       "      <td>0</td>\n",
       "      <td>1</td>\n",
       "    </tr>\n",
       "    <tr>\n",
       "      <th>190100</th>\n",
       "      <td>1.73</td>\n",
       "      <td>74.389999</td>\n",
       "      <td>24.940001</td>\n",
       "      <td>0</td>\n",
       "      <td>1</td>\n",
       "      <td>0</td>\n",
       "      <td>0</td>\n",
       "      <td>0</td>\n",
       "      <td>0</td>\n",
       "      <td>0</td>\n",
       "      <td>...</td>\n",
       "      <td>0</td>\n",
       "      <td>0</td>\n",
       "      <td>0</td>\n",
       "      <td>1</td>\n",
       "      <td>1</td>\n",
       "      <td>0</td>\n",
       "      <td>1</td>\n",
       "      <td>0</td>\n",
       "      <td>0</td>\n",
       "      <td>0</td>\n",
       "    </tr>\n",
       "    <tr>\n",
       "      <th>190101</th>\n",
       "      <td>1.63</td>\n",
       "      <td>77.110001</td>\n",
       "      <td>29.180000</td>\n",
       "      <td>0</td>\n",
       "      <td>0</td>\n",
       "      <td>1</td>\n",
       "      <td>0</td>\n",
       "      <td>0</td>\n",
       "      <td>1</td>\n",
       "      <td>0</td>\n",
       "      <td>...</td>\n",
       "      <td>0</td>\n",
       "      <td>0</td>\n",
       "      <td>0</td>\n",
       "      <td>1</td>\n",
       "      <td>1</td>\n",
       "      <td>0</td>\n",
       "      <td>1</td>\n",
       "      <td>1</td>\n",
       "      <td>0</td>\n",
       "      <td>1</td>\n",
       "    </tr>\n",
       "    <tr>\n",
       "      <th>190102</th>\n",
       "      <td>1.78</td>\n",
       "      <td>86.180000</td>\n",
       "      <td>27.260000</td>\n",
       "      <td>0</td>\n",
       "      <td>0</td>\n",
       "      <td>0</td>\n",
       "      <td>0</td>\n",
       "      <td>0</td>\n",
       "      <td>0</td>\n",
       "      <td>0</td>\n",
       "      <td>...</td>\n",
       "      <td>0</td>\n",
       "      <td>0</td>\n",
       "      <td>0</td>\n",
       "      <td>0</td>\n",
       "      <td>0</td>\n",
       "      <td>0</td>\n",
       "      <td>1</td>\n",
       "      <td>0</td>\n",
       "      <td>0</td>\n",
       "      <td>0</td>\n",
       "    </tr>\n",
       "    <tr>\n",
       "      <th>190103</th>\n",
       "      <td>1.73</td>\n",
       "      <td>68.040001</td>\n",
       "      <td>22.809999</td>\n",
       "      <td>0</td>\n",
       "      <td>0</td>\n",
       "      <td>0</td>\n",
       "      <td>0</td>\n",
       "      <td>0</td>\n",
       "      <td>0</td>\n",
       "      <td>0</td>\n",
       "      <td>...</td>\n",
       "      <td>0</td>\n",
       "      <td>0</td>\n",
       "      <td>0</td>\n",
       "      <td>0</td>\n",
       "      <td>1</td>\n",
       "      <td>0</td>\n",
       "      <td>1</td>\n",
       "      <td>1</td>\n",
       "      <td>0</td>\n",
       "      <td>0</td>\n",
       "    </tr>\n",
       "  </tbody>\n",
       "</table>\n",
       "<p>190104 rows × 24 columns</p>\n",
       "</div>"
      ],
      "text/plain": [
       "        heightinmeters  weightinkilograms        bmi  hadangina  hadstroke  \\\n",
       "0                 1.80          79.379997  24.410000          0          0   \n",
       "1                 1.80          97.519997  29.990000          0          0   \n",
       "2                 1.68          58.970001  20.980000          0          0   \n",
       "3                 1.68         127.459999  45.349998          0          0   \n",
       "4                 1.75          80.739998  26.290001          0          0   \n",
       "...                ...                ...        ...        ...        ...   \n",
       "190099            1.85         122.470001  35.619999          0          0   \n",
       "190100            1.73          74.389999  24.940001          0          1   \n",
       "190101            1.63          77.110001  29.180000          0          0   \n",
       "190102            1.78          86.180000  27.260000          0          0   \n",
       "190103            1.73          68.040001  22.809999          0          0   \n",
       "\n",
       "        hadasthma  hadskincancer  hadcopd  haddepressivedisorder  \\\n",
       "0               0              0        0                      0   \n",
       "1               0              0        0                      0   \n",
       "2               0              0        0                      0   \n",
       "3               0              0        0                      0   \n",
       "4               0              0        0                      0   \n",
       "...           ...            ...      ...                    ...   \n",
       "190099          0              0        0                      0   \n",
       "190100          0              0        0                      0   \n",
       "190101          1              0        0                      1   \n",
       "190102          0              0        0                      0   \n",
       "190103          0              0        0                      0   \n",
       "\n",
       "        hadkidneydisease  ...  difficultywalking  difficultydressingbathing  \\\n",
       "0                      0  ...                  0                          0   \n",
       "1                      0  ...                  0                          0   \n",
       "2                      0  ...                  0                          0   \n",
       "3                      0  ...                  0                          0   \n",
       "4                      0  ...                  0                          0   \n",
       "...                  ...  ...                ...                        ...   \n",
       "190099                 0  ...                  0                          0   \n",
       "190100                 0  ...                  0                          0   \n",
       "190101                 0  ...                  0                          0   \n",
       "190102                 0  ...                  0                          0   \n",
       "190103                 0  ...                  0                          0   \n",
       "\n",
       "        difficultyerrands  chestscan  alcoholdrinkers  hivtesting  \\\n",
       "0                       0          0                1           0   \n",
       "1                       0          0                1           0   \n",
       "2                       0          1                0           1   \n",
       "3                       0          0                0           0   \n",
       "4                       0          0                1           1   \n",
       "...                   ...        ...              ...         ...   \n",
       "190099                  0          1                0           0   \n",
       "190100                  0          1                1           0   \n",
       "190101                  0          1                1           0   \n",
       "190102                  0          0                0           0   \n",
       "190103                  0          0                1           0   \n",
       "\n",
       "        fluvaxlast12  pneumovaxever  highrisklastyear  covidpos  \n",
       "0                  0              0                 0         0  \n",
       "1                  1              0                 0         0  \n",
       "2                  0              1                 1         0  \n",
       "3                  0              0                 0         0  \n",
       "4                  0              0                 0         0  \n",
       "...              ...            ...               ...       ...  \n",
       "190099             1              0                 0         1  \n",
       "190100             1              0                 0         0  \n",
       "190101             1              1                 0         1  \n",
       "190102             1              0                 0         0  \n",
       "190103             1              1                 0         0  \n",
       "\n",
       "[190104 rows x 24 columns]"
      ]
     },
     "execution_count": 159,
     "metadata": {},
     "output_type": "execute_result"
    }
   ],
   "source": [
    "df_full_train[numerical]"
   ]
  },
  {
   "cell_type": "code",
   "execution_count": 161,
   "id": "15e93efc-8e91-4dbb-b999-a6ad4ced5882",
   "metadata": {},
   "outputs": [
    {
     "data": {
      "text/plain": [
       "heightinmeters               0.023079\n",
       "weightinkilograms            0.038935\n",
       "bmi                          0.030733\n",
       "hadangina                    0.445736\n",
       "hadstroke                    0.177152\n",
       "hadasthma                    0.025398\n",
       "hadskincancer                0.048801\n",
       "hadcopd                      0.133642\n",
       "haddepressivedisorder        0.024525\n",
       "hadkidneydisease             0.109849\n",
       "hadarthritis                 0.120310\n",
       "deaforhardofhearing          0.101778\n",
       "blindorvisiondifficulty      0.074375\n",
       "difficultyconcentrating      0.051366\n",
       "difficultywalking            0.161395\n",
       "difficultydressingbathing    0.082599\n",
       "difficultyerrands            0.089656\n",
       "chestscan                    0.167663\n",
       "alcoholdrinkers             -0.072954\n",
       "hivtesting                  -0.013864\n",
       "fluvaxlast12                 0.046338\n",
       "pneumovaxever                0.120102\n",
       "highrisklastyear            -0.022962\n",
       "covidpos                    -0.017896\n",
       "dtype: float64"
      ]
     },
     "execution_count": 161,
     "metadata": {},
     "output_type": "execute_result"
    }
   ],
   "source": [
    "df_full_train[numerical].corrwith(df_full_train.hadheartattack)"
   ]
  },
  {
   "cell_type": "code",
   "execution_count": 163,
   "id": "ce21fb03-6ecd-4828-8514-1039cb378da7",
   "metadata": {},
   "outputs": [
    {
     "data": {
      "text/plain": [
       "heightinmeters               0.023079\n",
       "weightinkilograms            0.038935\n",
       "bmi                          0.030733\n",
       "hadangina                    0.445736\n",
       "hadstroke                    0.177152\n",
       "hadasthma                    0.025398\n",
       "hadskincancer                0.048801\n",
       "hadcopd                      0.133642\n",
       "haddepressivedisorder        0.024525\n",
       "hadkidneydisease             0.109849\n",
       "hadarthritis                 0.120310\n",
       "deaforhardofhearing          0.101778\n",
       "blindorvisiondifficulty      0.074375\n",
       "difficultyconcentrating      0.051366\n",
       "difficultywalking            0.161395\n",
       "difficultydressingbathing    0.082599\n",
       "difficultyerrands            0.089656\n",
       "chestscan                    0.167663\n",
       "alcoholdrinkers              0.072954\n",
       "hivtesting                   0.013864\n",
       "fluvaxlast12                 0.046338\n",
       "pneumovaxever                0.120102\n",
       "highrisklastyear             0.022962\n",
       "covidpos                     0.017896\n",
       "dtype: float64"
      ]
     },
     "execution_count": 163,
     "metadata": {},
     "output_type": "execute_result"
    }
   ],
   "source": [
    "df_full_train[numerical].corrwith(df_full_train.hadheartattack).abs()"
   ]
  },
  {
   "cell_type": "markdown",
   "id": "1418100c-2284-40cc-b094-31af5069f27e",
   "metadata": {},
   "source": [
    "## 3.8 One-hot encoding"
   ]
  },
  {
   "cell_type": "code",
   "execution_count": 166,
   "id": "54b847b4-0680-4c6d-94a9-342b86e32745",
   "metadata": {},
   "outputs": [],
   "source": [
    "from sklearn.feature_extraction import DictVectorizer"
   ]
  },
  {
   "cell_type": "code",
   "execution_count": 168,
   "id": "c2a7f7ab-1d8a-4669-884a-733672549502",
   "metadata": {},
   "outputs": [],
   "source": [
    "dicts =  df_train[ ['agecategory', 'generalhealth'] ].iloc[:10].to_dict(orient='records') # orient='records'  turns each records to a dictionary"
   ]
  },
  {
   "cell_type": "code",
   "execution_count": 170,
   "id": "13cb2688-ce3a-4c96-bf99-43f995af0ec7",
   "metadata": {},
   "outputs": [
    {
     "data": {
      "text/plain": [
       "[{'agecategory': 'age_55_to_59', 'generalhealth': 'very_good'},\n",
       " {'agecategory': 'age_75_to_79', 'generalhealth': 'good'},\n",
       " {'agecategory': 'age_70_to_74', 'generalhealth': 'excellent'},\n",
       " {'agecategory': 'age_65_to_69', 'generalhealth': 'excellent'},\n",
       " {'agecategory': 'age_75_to_79', 'generalhealth': 'excellent'},\n",
       " {'agecategory': 'age_60_to_64', 'generalhealth': 'very_good'},\n",
       " {'agecategory': 'age_70_to_74', 'generalhealth': 'good'},\n",
       " {'agecategory': 'age_70_to_74', 'generalhealth': 'very_good'},\n",
       " {'agecategory': 'age_75_to_79', 'generalhealth': 'very_good'},\n",
       " {'agecategory': 'age_18_to_24', 'generalhealth': 'very_good'}]"
      ]
     },
     "execution_count": 170,
     "metadata": {},
     "output_type": "execute_result"
    }
   ],
   "source": [
    "dicts"
   ]
  },
  {
   "cell_type": "code",
   "execution_count": 172,
   "id": "c802312a-b739-4fc4-a732-48dd7cb9a72e",
   "metadata": {},
   "outputs": [],
   "source": [
    "dv = DictVectorizer(sparse=False)\n",
    "\n",
    "train_dict = df_train[categorical + numerical].to_dict(orient='records')\n",
    "X_train = dv.fit_transform(train_dict)\n",
    "\n",
    "val_dict = df_val[categorical + numerical].to_dict(orient='records')\n",
    "X_val = dv.transform(val_dict)"
   ]
  },
  {
   "cell_type": "code",
   "execution_count": 174,
   "id": "35129a1e-ab0a-4002-bffa-2a411c79bfc4",
   "metadata": {},
   "outputs": [
    {
     "data": {
      "text/plain": [
       "array([[  0.        ,   0.        ,   0.        , ...,   0.        ,\n",
       "          0.        ,  88.44999695],\n",
       "       [  0.        ,   0.        ,   0.        , ...,   0.        ,\n",
       "          0.        , 106.58999634],\n",
       "       [  0.        ,   0.        ,   0.        , ...,   0.        ,\n",
       "          0.        ,  90.72000122],\n",
       "       ...,\n",
       "       [  0.        ,   0.        ,   0.        , ...,   0.        ,\n",
       "          0.        , 113.40000153],\n",
       "       [  0.        ,   0.        ,   0.        , ...,   0.        ,\n",
       "          0.        ,  95.25      ],\n",
       "       [  0.        ,   0.        ,   0.        , ...,   0.        ,\n",
       "          0.        ,  62.59999847]])"
      ]
     },
     "execution_count": 174,
     "metadata": {},
     "output_type": "execute_result"
    }
   ],
   "source": [
    "X_train"
   ]
  },
  {
   "cell_type": "code",
   "execution_count": 175,
   "id": "87543af9-cdcc-49c2-80c3-46084a140850",
   "metadata": {},
   "outputs": [
    {
     "data": {
      "text/plain": [
       "array([[  0.        ,   0.        ,   0.        , ...,   0.        ,\n",
       "          1.        ,  68.04000092],\n",
       "       [  0.        ,   0.        ,   0.        , ...,   0.        ,\n",
       "          1.        ,  96.16000366],\n",
       "       [  0.        ,   0.        ,   0.        , ...,   1.        ,\n",
       "          0.        ,  54.43000031],\n",
       "       ...,\n",
       "       [  0.        ,   0.        ,   0.        , ...,   0.        ,\n",
       "          1.        ,  72.56999969],\n",
       "       [  0.        ,   0.        ,   0.        , ...,   0.        ,\n",
       "          0.        , 124.73999786],\n",
       "       [  0.        ,   0.        ,   0.        , ...,   1.        ,\n",
       "          0.        ,  73.94000244]])"
      ]
     },
     "execution_count": 175,
     "metadata": {},
     "output_type": "execute_result"
    }
   ],
   "source": [
    "X_val"
   ]
  },
  {
   "cell_type": "markdown",
   "id": "00c8cfe6-0d4f-4652-9021-d2d9f9a57eb4",
   "metadata": {},
   "source": [
    "## 3.9 Logistic regression"
   ]
  },
  {
   "cell_type": "code",
   "execution_count": 179,
   "id": "590466e0-64be-4d77-a600-3f0d36f4c35d",
   "metadata": {},
   "outputs": [],
   "source": [
    "def sigmoid(z):\n",
    "    return 1 / (1 + np.exp(-z))"
   ]
  },
  {
   "cell_type": "code",
   "execution_count": 181,
   "id": "e3f7487e-dd6e-45ca-980b-e69e08a2bb55",
   "metadata": {},
   "outputs": [],
   "source": [
    "def logistic_regression(xi):\n",
    "    score = w0\n",
    "    \n",
    "    for j in range(len(w)):\n",
    "        score = score + xi[j] * w[j]\n",
    "        \n",
    "    result = sigmoid(score)\n",
    "    return result"
   ]
  },
  {
   "cell_type": "markdown",
   "id": "e2461136-da18-46ee-ab97-ea523fa693bb",
   "metadata": {},
   "source": [
    "## 3.10 Training logistic regression with Scikit-Learn\n",
    "\n",
    "* Train a model with Scikit-Learn\n",
    "* Apply it to the validation dataset\n",
    "* Calculate the accuracy"
   ]
  },
  {
   "cell_type": "code",
   "execution_count": 184,
   "id": "6352a9cd-d4e1-4f2e-91bf-dd6301fd6b1a",
   "metadata": {},
   "outputs": [],
   "source": [
    "from sklearn.linear_model import LogisticRegression"
   ]
  },
  {
   "cell_type": "code",
   "execution_count": 186,
   "id": "1ffddc21-09e8-499c-868a-c9268dda4820",
   "metadata": {},
   "outputs": [
    {
     "data": {
      "text/html": [
       "<style>#sk-container-id-1 {\n",
       "  /* Definition of color scheme common for light and dark mode */\n",
       "  --sklearn-color-text: black;\n",
       "  --sklearn-color-line: gray;\n",
       "  /* Definition of color scheme for unfitted estimators */\n",
       "  --sklearn-color-unfitted-level-0: #fff5e6;\n",
       "  --sklearn-color-unfitted-level-1: #f6e4d2;\n",
       "  --sklearn-color-unfitted-level-2: #ffe0b3;\n",
       "  --sklearn-color-unfitted-level-3: chocolate;\n",
       "  /* Definition of color scheme for fitted estimators */\n",
       "  --sklearn-color-fitted-level-0: #f0f8ff;\n",
       "  --sklearn-color-fitted-level-1: #d4ebff;\n",
       "  --sklearn-color-fitted-level-2: #b3dbfd;\n",
       "  --sklearn-color-fitted-level-3: cornflowerblue;\n",
       "\n",
       "  /* Specific color for light theme */\n",
       "  --sklearn-color-text-on-default-background: var(--sg-text-color, var(--theme-code-foreground, var(--jp-content-font-color1, black)));\n",
       "  --sklearn-color-background: var(--sg-background-color, var(--theme-background, var(--jp-layout-color0, white)));\n",
       "  --sklearn-color-border-box: var(--sg-text-color, var(--theme-code-foreground, var(--jp-content-font-color1, black)));\n",
       "  --sklearn-color-icon: #696969;\n",
       "\n",
       "  @media (prefers-color-scheme: dark) {\n",
       "    /* Redefinition of color scheme for dark theme */\n",
       "    --sklearn-color-text-on-default-background: var(--sg-text-color, var(--theme-code-foreground, var(--jp-content-font-color1, white)));\n",
       "    --sklearn-color-background: var(--sg-background-color, var(--theme-background, var(--jp-layout-color0, #111)));\n",
       "    --sklearn-color-border-box: var(--sg-text-color, var(--theme-code-foreground, var(--jp-content-font-color1, white)));\n",
       "    --sklearn-color-icon: #878787;\n",
       "  }\n",
       "}\n",
       "\n",
       "#sk-container-id-1 {\n",
       "  color: var(--sklearn-color-text);\n",
       "}\n",
       "\n",
       "#sk-container-id-1 pre {\n",
       "  padding: 0;\n",
       "}\n",
       "\n",
       "#sk-container-id-1 input.sk-hidden--visually {\n",
       "  border: 0;\n",
       "  clip: rect(1px 1px 1px 1px);\n",
       "  clip: rect(1px, 1px, 1px, 1px);\n",
       "  height: 1px;\n",
       "  margin: -1px;\n",
       "  overflow: hidden;\n",
       "  padding: 0;\n",
       "  position: absolute;\n",
       "  width: 1px;\n",
       "}\n",
       "\n",
       "#sk-container-id-1 div.sk-dashed-wrapped {\n",
       "  border: 1px dashed var(--sklearn-color-line);\n",
       "  margin: 0 0.4em 0.5em 0.4em;\n",
       "  box-sizing: border-box;\n",
       "  padding-bottom: 0.4em;\n",
       "  background-color: var(--sklearn-color-background);\n",
       "}\n",
       "\n",
       "#sk-container-id-1 div.sk-container {\n",
       "  /* jupyter's `normalize.less` sets `[hidden] { display: none; }`\n",
       "     but bootstrap.min.css set `[hidden] { display: none !important; }`\n",
       "     so we also need the `!important` here to be able to override the\n",
       "     default hidden behavior on the sphinx rendered scikit-learn.org.\n",
       "     See: https://github.com/scikit-learn/scikit-learn/issues/21755 */\n",
       "  display: inline-block !important;\n",
       "  position: relative;\n",
       "}\n",
       "\n",
       "#sk-container-id-1 div.sk-text-repr-fallback {\n",
       "  display: none;\n",
       "}\n",
       "\n",
       "div.sk-parallel-item,\n",
       "div.sk-serial,\n",
       "div.sk-item {\n",
       "  /* draw centered vertical line to link estimators */\n",
       "  background-image: linear-gradient(var(--sklearn-color-text-on-default-background), var(--sklearn-color-text-on-default-background));\n",
       "  background-size: 2px 100%;\n",
       "  background-repeat: no-repeat;\n",
       "  background-position: center center;\n",
       "}\n",
       "\n",
       "/* Parallel-specific style estimator block */\n",
       "\n",
       "#sk-container-id-1 div.sk-parallel-item::after {\n",
       "  content: \"\";\n",
       "  width: 100%;\n",
       "  border-bottom: 2px solid var(--sklearn-color-text-on-default-background);\n",
       "  flex-grow: 1;\n",
       "}\n",
       "\n",
       "#sk-container-id-1 div.sk-parallel {\n",
       "  display: flex;\n",
       "  align-items: stretch;\n",
       "  justify-content: center;\n",
       "  background-color: var(--sklearn-color-background);\n",
       "  position: relative;\n",
       "}\n",
       "\n",
       "#sk-container-id-1 div.sk-parallel-item {\n",
       "  display: flex;\n",
       "  flex-direction: column;\n",
       "}\n",
       "\n",
       "#sk-container-id-1 div.sk-parallel-item:first-child::after {\n",
       "  align-self: flex-end;\n",
       "  width: 50%;\n",
       "}\n",
       "\n",
       "#sk-container-id-1 div.sk-parallel-item:last-child::after {\n",
       "  align-self: flex-start;\n",
       "  width: 50%;\n",
       "}\n",
       "\n",
       "#sk-container-id-1 div.sk-parallel-item:only-child::after {\n",
       "  width: 0;\n",
       "}\n",
       "\n",
       "/* Serial-specific style estimator block */\n",
       "\n",
       "#sk-container-id-1 div.sk-serial {\n",
       "  display: flex;\n",
       "  flex-direction: column;\n",
       "  align-items: center;\n",
       "  background-color: var(--sklearn-color-background);\n",
       "  padding-right: 1em;\n",
       "  padding-left: 1em;\n",
       "}\n",
       "\n",
       "\n",
       "/* Toggleable style: style used for estimator/Pipeline/ColumnTransformer box that is\n",
       "clickable and can be expanded/collapsed.\n",
       "- Pipeline and ColumnTransformer use this feature and define the default style\n",
       "- Estimators will overwrite some part of the style using the `sk-estimator` class\n",
       "*/\n",
       "\n",
       "/* Pipeline and ColumnTransformer style (default) */\n",
       "\n",
       "#sk-container-id-1 div.sk-toggleable {\n",
       "  /* Default theme specific background. It is overwritten whether we have a\n",
       "  specific estimator or a Pipeline/ColumnTransformer */\n",
       "  background-color: var(--sklearn-color-background);\n",
       "}\n",
       "\n",
       "/* Toggleable label */\n",
       "#sk-container-id-1 label.sk-toggleable__label {\n",
       "  cursor: pointer;\n",
       "  display: block;\n",
       "  width: 100%;\n",
       "  margin-bottom: 0;\n",
       "  padding: 0.5em;\n",
       "  box-sizing: border-box;\n",
       "  text-align: center;\n",
       "}\n",
       "\n",
       "#sk-container-id-1 label.sk-toggleable__label-arrow:before {\n",
       "  /* Arrow on the left of the label */\n",
       "  content: \"▸\";\n",
       "  float: left;\n",
       "  margin-right: 0.25em;\n",
       "  color: var(--sklearn-color-icon);\n",
       "}\n",
       "\n",
       "#sk-container-id-1 label.sk-toggleable__label-arrow:hover:before {\n",
       "  color: var(--sklearn-color-text);\n",
       "}\n",
       "\n",
       "/* Toggleable content - dropdown */\n",
       "\n",
       "#sk-container-id-1 div.sk-toggleable__content {\n",
       "  max-height: 0;\n",
       "  max-width: 0;\n",
       "  overflow: hidden;\n",
       "  text-align: left;\n",
       "  /* unfitted */\n",
       "  background-color: var(--sklearn-color-unfitted-level-0);\n",
       "}\n",
       "\n",
       "#sk-container-id-1 div.sk-toggleable__content.fitted {\n",
       "  /* fitted */\n",
       "  background-color: var(--sklearn-color-fitted-level-0);\n",
       "}\n",
       "\n",
       "#sk-container-id-1 div.sk-toggleable__content pre {\n",
       "  margin: 0.2em;\n",
       "  border-radius: 0.25em;\n",
       "  color: var(--sklearn-color-text);\n",
       "  /* unfitted */\n",
       "  background-color: var(--sklearn-color-unfitted-level-0);\n",
       "}\n",
       "\n",
       "#sk-container-id-1 div.sk-toggleable__content.fitted pre {\n",
       "  /* unfitted */\n",
       "  background-color: var(--sklearn-color-fitted-level-0);\n",
       "}\n",
       "\n",
       "#sk-container-id-1 input.sk-toggleable__control:checked~div.sk-toggleable__content {\n",
       "  /* Expand drop-down */\n",
       "  max-height: 200px;\n",
       "  max-width: 100%;\n",
       "  overflow: auto;\n",
       "}\n",
       "\n",
       "#sk-container-id-1 input.sk-toggleable__control:checked~label.sk-toggleable__label-arrow:before {\n",
       "  content: \"▾\";\n",
       "}\n",
       "\n",
       "/* Pipeline/ColumnTransformer-specific style */\n",
       "\n",
       "#sk-container-id-1 div.sk-label input.sk-toggleable__control:checked~label.sk-toggleable__label {\n",
       "  color: var(--sklearn-color-text);\n",
       "  background-color: var(--sklearn-color-unfitted-level-2);\n",
       "}\n",
       "\n",
       "#sk-container-id-1 div.sk-label.fitted input.sk-toggleable__control:checked~label.sk-toggleable__label {\n",
       "  background-color: var(--sklearn-color-fitted-level-2);\n",
       "}\n",
       "\n",
       "/* Estimator-specific style */\n",
       "\n",
       "/* Colorize estimator box */\n",
       "#sk-container-id-1 div.sk-estimator input.sk-toggleable__control:checked~label.sk-toggleable__label {\n",
       "  /* unfitted */\n",
       "  background-color: var(--sklearn-color-unfitted-level-2);\n",
       "}\n",
       "\n",
       "#sk-container-id-1 div.sk-estimator.fitted input.sk-toggleable__control:checked~label.sk-toggleable__label {\n",
       "  /* fitted */\n",
       "  background-color: var(--sklearn-color-fitted-level-2);\n",
       "}\n",
       "\n",
       "#sk-container-id-1 div.sk-label label.sk-toggleable__label,\n",
       "#sk-container-id-1 div.sk-label label {\n",
       "  /* The background is the default theme color */\n",
       "  color: var(--sklearn-color-text-on-default-background);\n",
       "}\n",
       "\n",
       "/* On hover, darken the color of the background */\n",
       "#sk-container-id-1 div.sk-label:hover label.sk-toggleable__label {\n",
       "  color: var(--sklearn-color-text);\n",
       "  background-color: var(--sklearn-color-unfitted-level-2);\n",
       "}\n",
       "\n",
       "/* Label box, darken color on hover, fitted */\n",
       "#sk-container-id-1 div.sk-label.fitted:hover label.sk-toggleable__label.fitted {\n",
       "  color: var(--sklearn-color-text);\n",
       "  background-color: var(--sklearn-color-fitted-level-2);\n",
       "}\n",
       "\n",
       "/* Estimator label */\n",
       "\n",
       "#sk-container-id-1 div.sk-label label {\n",
       "  font-family: monospace;\n",
       "  font-weight: bold;\n",
       "  display: inline-block;\n",
       "  line-height: 1.2em;\n",
       "}\n",
       "\n",
       "#sk-container-id-1 div.sk-label-container {\n",
       "  text-align: center;\n",
       "}\n",
       "\n",
       "/* Estimator-specific */\n",
       "#sk-container-id-1 div.sk-estimator {\n",
       "  font-family: monospace;\n",
       "  border: 1px dotted var(--sklearn-color-border-box);\n",
       "  border-radius: 0.25em;\n",
       "  box-sizing: border-box;\n",
       "  margin-bottom: 0.5em;\n",
       "  /* unfitted */\n",
       "  background-color: var(--sklearn-color-unfitted-level-0);\n",
       "}\n",
       "\n",
       "#sk-container-id-1 div.sk-estimator.fitted {\n",
       "  /* fitted */\n",
       "  background-color: var(--sklearn-color-fitted-level-0);\n",
       "}\n",
       "\n",
       "/* on hover */\n",
       "#sk-container-id-1 div.sk-estimator:hover {\n",
       "  /* unfitted */\n",
       "  background-color: var(--sklearn-color-unfitted-level-2);\n",
       "}\n",
       "\n",
       "#sk-container-id-1 div.sk-estimator.fitted:hover {\n",
       "  /* fitted */\n",
       "  background-color: var(--sklearn-color-fitted-level-2);\n",
       "}\n",
       "\n",
       "/* Specification for estimator info (e.g. \"i\" and \"?\") */\n",
       "\n",
       "/* Common style for \"i\" and \"?\" */\n",
       "\n",
       ".sk-estimator-doc-link,\n",
       "a:link.sk-estimator-doc-link,\n",
       "a:visited.sk-estimator-doc-link {\n",
       "  float: right;\n",
       "  font-size: smaller;\n",
       "  line-height: 1em;\n",
       "  font-family: monospace;\n",
       "  background-color: var(--sklearn-color-background);\n",
       "  border-radius: 1em;\n",
       "  height: 1em;\n",
       "  width: 1em;\n",
       "  text-decoration: none !important;\n",
       "  margin-left: 1ex;\n",
       "  /* unfitted */\n",
       "  border: var(--sklearn-color-unfitted-level-1) 1pt solid;\n",
       "  color: var(--sklearn-color-unfitted-level-1);\n",
       "}\n",
       "\n",
       ".sk-estimator-doc-link.fitted,\n",
       "a:link.sk-estimator-doc-link.fitted,\n",
       "a:visited.sk-estimator-doc-link.fitted {\n",
       "  /* fitted */\n",
       "  border: var(--sklearn-color-fitted-level-1) 1pt solid;\n",
       "  color: var(--sklearn-color-fitted-level-1);\n",
       "}\n",
       "\n",
       "/* On hover */\n",
       "div.sk-estimator:hover .sk-estimator-doc-link:hover,\n",
       ".sk-estimator-doc-link:hover,\n",
       "div.sk-label-container:hover .sk-estimator-doc-link:hover,\n",
       ".sk-estimator-doc-link:hover {\n",
       "  /* unfitted */\n",
       "  background-color: var(--sklearn-color-unfitted-level-3);\n",
       "  color: var(--sklearn-color-background);\n",
       "  text-decoration: none;\n",
       "}\n",
       "\n",
       "div.sk-estimator.fitted:hover .sk-estimator-doc-link.fitted:hover,\n",
       ".sk-estimator-doc-link.fitted:hover,\n",
       "div.sk-label-container:hover .sk-estimator-doc-link.fitted:hover,\n",
       ".sk-estimator-doc-link.fitted:hover {\n",
       "  /* fitted */\n",
       "  background-color: var(--sklearn-color-fitted-level-3);\n",
       "  color: var(--sklearn-color-background);\n",
       "  text-decoration: none;\n",
       "}\n",
       "\n",
       "/* Span, style for the box shown on hovering the info icon */\n",
       ".sk-estimator-doc-link span {\n",
       "  display: none;\n",
       "  z-index: 9999;\n",
       "  position: relative;\n",
       "  font-weight: normal;\n",
       "  right: .2ex;\n",
       "  padding: .5ex;\n",
       "  margin: .5ex;\n",
       "  width: min-content;\n",
       "  min-width: 20ex;\n",
       "  max-width: 50ex;\n",
       "  color: var(--sklearn-color-text);\n",
       "  box-shadow: 2pt 2pt 4pt #999;\n",
       "  /* unfitted */\n",
       "  background: var(--sklearn-color-unfitted-level-0);\n",
       "  border: .5pt solid var(--sklearn-color-unfitted-level-3);\n",
       "}\n",
       "\n",
       ".sk-estimator-doc-link.fitted span {\n",
       "  /* fitted */\n",
       "  background: var(--sklearn-color-fitted-level-0);\n",
       "  border: var(--sklearn-color-fitted-level-3);\n",
       "}\n",
       "\n",
       ".sk-estimator-doc-link:hover span {\n",
       "  display: block;\n",
       "}\n",
       "\n",
       "/* \"?\"-specific style due to the `<a>` HTML tag */\n",
       "\n",
       "#sk-container-id-1 a.estimator_doc_link {\n",
       "  float: right;\n",
       "  font-size: 1rem;\n",
       "  line-height: 1em;\n",
       "  font-family: monospace;\n",
       "  background-color: var(--sklearn-color-background);\n",
       "  border-radius: 1rem;\n",
       "  height: 1rem;\n",
       "  width: 1rem;\n",
       "  text-decoration: none;\n",
       "  /* unfitted */\n",
       "  color: var(--sklearn-color-unfitted-level-1);\n",
       "  border: var(--sklearn-color-unfitted-level-1) 1pt solid;\n",
       "}\n",
       "\n",
       "#sk-container-id-1 a.estimator_doc_link.fitted {\n",
       "  /* fitted */\n",
       "  border: var(--sklearn-color-fitted-level-1) 1pt solid;\n",
       "  color: var(--sklearn-color-fitted-level-1);\n",
       "}\n",
       "\n",
       "/* On hover */\n",
       "#sk-container-id-1 a.estimator_doc_link:hover {\n",
       "  /* unfitted */\n",
       "  background-color: var(--sklearn-color-unfitted-level-3);\n",
       "  color: var(--sklearn-color-background);\n",
       "  text-decoration: none;\n",
       "}\n",
       "\n",
       "#sk-container-id-1 a.estimator_doc_link.fitted:hover {\n",
       "  /* fitted */\n",
       "  background-color: var(--sklearn-color-fitted-level-3);\n",
       "}\n",
       "</style><div id=\"sk-container-id-1\" class=\"sk-top-container\"><div class=\"sk-text-repr-fallback\"><pre>LogisticRegression(max_iter=237630)</pre><b>In a Jupyter environment, please rerun this cell to show the HTML representation or trust the notebook. <br />On GitHub, the HTML representation is unable to render, please try loading this page with nbviewer.org.</b></div><div class=\"sk-container\" hidden><div class=\"sk-item\"><div class=\"sk-estimator fitted sk-toggleable\"><input class=\"sk-toggleable__control sk-hidden--visually\" id=\"sk-estimator-id-1\" type=\"checkbox\" checked><label for=\"sk-estimator-id-1\" class=\"sk-toggleable__label fitted sk-toggleable__label-arrow fitted\">&nbsp;&nbsp;LogisticRegression<a class=\"sk-estimator-doc-link fitted\" rel=\"noreferrer\" target=\"_blank\" href=\"https://scikit-learn.org/1.4/modules/generated/sklearn.linear_model.LogisticRegression.html\">?<span>Documentation for LogisticRegression</span></a><span class=\"sk-estimator-doc-link fitted\">i<span>Fitted</span></span></label><div class=\"sk-toggleable__content fitted\"><pre>LogisticRegression(max_iter=237630)</pre></div> </div></div></div></div>"
      ],
      "text/plain": [
       "LogisticRegression(max_iter=237630)"
      ]
     },
     "execution_count": 186,
     "metadata": {},
     "output_type": "execute_result"
    }
   ],
   "source": [
    "model = LogisticRegression(solver='lbfgs', max_iter=237630)\n",
    "# solver='lbfgs' is the default solver in newer version of sklearn\n",
    "# for older versions, you need to specify it explicitly\n",
    "model.fit(X_train, y_train)"
   ]
  },
  {
   "cell_type": "code",
   "execution_count": 188,
   "id": "7fa7af65-e72e-4243-a938-9a6ddaa2dde9",
   "metadata": {},
   "outputs": [
    {
     "data": {
      "text/plain": [
       "-0.6784264828425172"
      ]
     },
     "execution_count": 188,
     "metadata": {},
     "output_type": "execute_result"
    }
   ],
   "source": [
    "model.intercept_[0]"
   ]
  },
  {
   "cell_type": "code",
   "execution_count": 190,
   "id": "98a3897d-0b5a-4557-a242-e0e6799c86ad",
   "metadata": {},
   "outputs": [
    {
     "data": {
      "text/plain": [
       "array([-1.283e+00, -1.110e+00, -9.590e-01, -7.340e-01, -6.220e-01,\n",
       "        3.100e-02,  1.230e-01,  3.460e-01,  4.110e-01,  5.990e-01,\n",
       "        7.150e-01,  8.500e-01,  9.770e-01, -2.060e-01,  1.050e-01,\n",
       "       -1.600e-02,  5.810e-01,  2.900e-02,  3.200e-02,  6.200e-02,\n",
       "       -1.050e-01,  8.500e-02,  9.900e-02, -2.350e-01, -1.560e-01,\n",
       "       -9.000e-02, -1.750e-01, -1.290e-01, -7.160e-01,  1.790e-01,\n",
       "       -6.800e-02,  3.420e-01, -3.940e-01,  2.403e+00,  7.900e-02,\n",
       "        1.000e-03,  8.000e-02,  3.200e-02, -3.540e-01, -3.060e-01,\n",
       "        2.800e-02, -2.500e-02,  2.200e-02, -1.020e-01,  8.560e-01,\n",
       "       -1.067e+00,  8.200e-02,  9.100e-02,  7.500e-02, -3.300e-01,\n",
       "       -1.390e-01,  3.300e-02, -3.800e-02, -1.820e-01, -6.850e-01,\n",
       "        2.900e-02,  4.600e-02, -4.700e-02, -1.950e-01, -4.610e-01,\n",
       "       -2.020e-01,  1.680e-01,  1.300e-02,  4.500e-02, -6.200e-02,\n",
       "        5.800e-02, -4.200e-02, -2.960e-01, -1.100e-02,  1.520e-01,\n",
       "       -1.530e-01, -1.310e-01, -1.810e-01,  5.300e-02, -1.220e-01,\n",
       "       -1.330e-01, -1.650e-01, -1.310e-01,  1.900e-02, -2.000e-03,\n",
       "        2.780e-01, -6.700e-02,  4.700e-02, -1.800e-02, -4.200e-02,\n",
       "        2.000e-02, -1.060e-01,  5.800e-02,  8.600e-02,  3.300e-02,\n",
       "        1.130e-01, -3.670e-01,  1.500e-01, -1.010e-01,  5.300e-02,\n",
       "        7.300e-02,  6.700e-02, -1.400e-02,  3.800e-02,  1.310e-01,\n",
       "       -5.600e-02, -4.600e-02, -9.000e-02,  4.110e-01,  4.000e-03,\n",
       "        3.000e-02,  3.700e-02,  1.050e-01, -3.600e-02, -1.440e-01,\n",
       "       -9.800e-02,  7.000e-03, -2.100e-02, -6.600e-02, -1.400e-01,\n",
       "       -2.480e-01, -1.160e-01, -1.530e-01,  5.000e-03])"
      ]
     },
     "execution_count": 190,
     "metadata": {},
     "output_type": "execute_result"
    }
   ],
   "source": [
    "model.coef_[0].round(3)"
   ]
  },
  {
   "cell_type": "code",
   "execution_count": 192,
   "id": "0221b163-0cf1-484b-ba87-f25fe80ad155",
   "metadata": {},
   "outputs": [],
   "source": [
    "y_pred = model.predict_proba(X_val)[:, 1]"
   ]
  },
  {
   "cell_type": "code",
   "execution_count": 194,
   "id": "158325c7-685c-454f-9e07-82b273f1ec1a",
   "metadata": {},
   "outputs": [],
   "source": [
    "heartattack_decision = (y_pred >= 0.5)"
   ]
  },
  {
   "cell_type": "code",
   "execution_count": 196,
   "id": "d502e819-aacc-4f1c-bb70-c26b8c666240",
   "metadata": {},
   "outputs": [
    {
     "data": {
      "text/plain": [
       "0.947207844127425"
      ]
     },
     "execution_count": 196,
     "metadata": {},
     "output_type": "execute_result"
    }
   ],
   "source": [
    "(y_val == heartattack_decision).mean()"
   ]
  },
  {
   "cell_type": "code",
   "execution_count": 198,
   "id": "126cc845-0f85-4058-b0e7-880e45f903ed",
   "metadata": {},
   "outputs": [],
   "source": [
    "df_pred = pd.DataFrame()\n",
    "df_pred['probability'] = y_pred\n",
    "df_pred['prediction'] = heartattack_decision.astype(int)\n",
    "df_pred['actual'] = y_val"
   ]
  },
  {
   "cell_type": "code",
   "execution_count": 200,
   "id": "a549fc29-3cec-42ef-95e7-142f328469f4",
   "metadata": {},
   "outputs": [],
   "source": [
    "df_pred['correct'] = df_pred.prediction == df_pred.actual"
   ]
  },
  {
   "cell_type": "code",
   "execution_count": 202,
   "id": "3c5b25e8-b003-4631-aa0d-2db388b5b213",
   "metadata": {},
   "outputs": [
    {
     "data": {
      "text/plain": [
       "0.947207844127425"
      ]
     },
     "execution_count": 202,
     "metadata": {},
     "output_type": "execute_result"
    }
   ],
   "source": [
    "df_pred.correct.mean()"
   ]
  },
  {
   "cell_type": "code",
   "execution_count": 203,
   "id": "10493d89-3607-4f7f-8da3-3df82c6c0b61",
   "metadata": {},
   "outputs": [
    {
     "data": {
      "text/plain": [
       "0.947207844127425"
      ]
     },
     "execution_count": 203,
     "metadata": {},
     "output_type": "execute_result"
    }
   ],
   "source": [
    "df_pred.correct.mean()"
   ]
  },
  {
   "cell_type": "code",
   "execution_count": 206,
   "id": "c2b3792a-1a31-4d82-8b0a-7fb5cb7729e5",
   "metadata": {},
   "outputs": [
    {
     "data": {
      "text/plain": [
       "array([0, 0, 0, ..., 0, 0, 0])"
      ]
     },
     "execution_count": 206,
     "metadata": {},
     "output_type": "execute_result"
    }
   ],
   "source": [
    "heartattack_decision.astype(int)"
   ]
  },
  {
   "cell_type": "markdown",
   "id": "2130a074-3914-4b9a-95f6-5c70915b5ba7",
   "metadata": {},
   "source": [
    "## 3.11 Model interpretation\n",
    "\n",
    "* Look at the coefficients\n",
    "* Train a smaller model with fewer features"
   ]
  },
  {
   "cell_type": "code",
   "execution_count": 209,
   "id": "76b2f361-b79a-4a1a-a15f-044891dbdd0a",
   "metadata": {
    "scrolled": true
   },
   "outputs": [
    {
     "data": {
      "text/plain": [
       "{'agecategory=age_18_to_24': -1.283,\n",
       " 'agecategory=age_25_to_29': -1.11,\n",
       " 'agecategory=age_30_to_34': -0.959,\n",
       " 'agecategory=age_35_to_39': -0.734,\n",
       " 'agecategory=age_40_to_44': -0.622,\n",
       " 'agecategory=age_45_to_49': 0.031,\n",
       " 'agecategory=age_50_to_54': 0.123,\n",
       " 'agecategory=age_55_to_59': 0.346,\n",
       " 'agecategory=age_60_to_64': 0.411,\n",
       " 'agecategory=age_65_to_69': 0.599,\n",
       " 'agecategory=age_70_to_74': 0.715,\n",
       " 'agecategory=age_75_to_79': 0.85,\n",
       " 'agecategory=age_80_or_older': 0.977,\n",
       " 'alcoholdrinkers': -0.206,\n",
       " 'blindorvisiondifficulty': 0.105,\n",
       " 'bmi': -0.016,\n",
       " 'chestscan': 0.581,\n",
       " 'covidpos': 0.029,\n",
       " 'deaforhardofhearing': 0.032,\n",
       " 'difficultyconcentrating': 0.062,\n",
       " 'difficultydressingbathing': -0.105,\n",
       " 'difficultyerrands': 0.085,\n",
       " 'difficultywalking': 0.099,\n",
       " 'ecigaretteusage=never_used_e-cigarettes_in_my_entire_life': -0.235,\n",
       " 'ecigaretteusage=not_at_all_(right_now)': -0.156,\n",
       " 'ecigaretteusage=use_them_every_day': -0.09,\n",
       " 'ecigaretteusage=use_them_some_days': -0.175,\n",
       " 'fluvaxlast12': -0.129,\n",
       " 'generalhealth=excellent': -0.716,\n",
       " 'generalhealth=fair': 0.179,\n",
       " 'generalhealth=good': -0.068,\n",
       " 'generalhealth=poor': 0.342,\n",
       " 'generalhealth=very_good': -0.394,\n",
       " 'hadangina': 2.403,\n",
       " 'hadarthritis': 0.079,\n",
       " 'hadasthma': 0.001,\n",
       " 'hadcopd': 0.08,\n",
       " 'haddepressivedisorder': 0.032,\n",
       " 'haddiabetes=no': -0.354,\n",
       " 'haddiabetes=no,_pre-diabetes_or_borderline_diabetes': -0.306,\n",
       " 'haddiabetes=yes': 0.028,\n",
       " 'haddiabetes=yes,_but_only_during_pregnancy_(female)': -0.025,\n",
       " 'hadkidneydisease': 0.022,\n",
       " 'hadskincancer': -0.102,\n",
       " 'hadstroke': 0.856,\n",
       " 'heightinmeters': -1.067,\n",
       " 'highrisklastyear': 0.082,\n",
       " 'hivtesting': 0.091,\n",
       " 'pneumovaxever': 0.075,\n",
       " 'raceethnicitycategory=black_only,_non-hispanic': -0.33,\n",
       " 'raceethnicitycategory=hispanic': -0.139,\n",
       " 'raceethnicitycategory=multiracial,_non-hispanic': 0.033,\n",
       " 'raceethnicitycategory=other_race_only,_non-hispanic': -0.038,\n",
       " 'raceethnicitycategory=white_only,_non-hispanic': -0.182,\n",
       " 'sex=female': -0.685,\n",
       " 'sex=male': 0.029,\n",
       " 'smokerstatus=current_smoker_-_now_smokes_every_day': 0.046,\n",
       " 'smokerstatus=current_smoker_-_now_smokes_some_days': -0.047,\n",
       " 'smokerstatus=former_smoker': -0.195,\n",
       " 'smokerstatus=never_smoked': -0.461,\n",
       " 'state=alabama': -0.202,\n",
       " 'state=alaska': 0.168,\n",
       " 'state=arizona': 0.013,\n",
       " 'state=arkansas': 0.045,\n",
       " 'state=california': -0.062,\n",
       " 'state=colorado': 0.058,\n",
       " 'state=connecticut': -0.042,\n",
       " 'state=delaware': -0.296,\n",
       " 'state=district_of_columbia': -0.011,\n",
       " 'state=florida': 0.152,\n",
       " 'state=georgia': -0.153,\n",
       " 'state=guam': -0.131,\n",
       " 'state=hawaii': -0.181,\n",
       " 'state=idaho': 0.053,\n",
       " 'state=illinois': -0.122,\n",
       " 'state=indiana': -0.133,\n",
       " 'state=iowa': -0.165,\n",
       " 'state=kansas': -0.131,\n",
       " 'state=kentucky': 0.019,\n",
       " 'state=louisiana': -0.002,\n",
       " 'state=maine': 0.278,\n",
       " 'state=maryland': -0.067,\n",
       " 'state=massachusetts': 0.047,\n",
       " 'state=michigan': -0.018,\n",
       " 'state=minnesota': -0.042,\n",
       " 'state=mississippi': 0.02,\n",
       " 'state=missouri': -0.106,\n",
       " 'state=montana': 0.058,\n",
       " 'state=nebraska': 0.086,\n",
       " 'state=nevada': 0.033,\n",
       " 'state=new_hampshire': 0.113,\n",
       " 'state=new_jersey': -0.367,\n",
       " 'state=new_mexico': 0.15,\n",
       " 'state=new_york': -0.101,\n",
       " 'state=north_carolina': 0.053,\n",
       " 'state=north_dakota': 0.073,\n",
       " 'state=ohio': 0.067,\n",
       " 'state=oklahoma': -0.014,\n",
       " 'state=oregon': 0.038,\n",
       " 'state=pennsylvania': 0.131,\n",
       " 'state=puerto_rico': -0.056,\n",
       " 'state=rhode_island': -0.046,\n",
       " 'state=south_carolina': -0.09,\n",
       " 'state=south_dakota': 0.411,\n",
       " 'state=tennessee': 0.004,\n",
       " 'state=texas': 0.03,\n",
       " 'state=utah': 0.037,\n",
       " 'state=vermont': 0.105,\n",
       " 'state=virgin_islands': -0.036,\n",
       " 'state=virginia': -0.144,\n",
       " 'state=washington': -0.098,\n",
       " 'state=west_virginia': 0.007,\n",
       " 'state=wisconsin': -0.021,\n",
       " 'state=wyoming': -0.066,\n",
       " 'tetanuslast10tdap=no,_did_not_receive_any_tetanus_shot_in_the_past_10_years': -0.14,\n",
       " 'tetanuslast10tdap=yes,_received_tdap': -0.248,\n",
       " 'tetanuslast10tdap=yes,_received_tetanus_shot,_but_not_tdap': -0.116,\n",
       " 'tetanuslast10tdap=yes,_received_tetanus_shot_but_not_sure_what_type': -0.153,\n",
       " 'weightinkilograms': 0.005}"
      ]
     },
     "execution_count": 209,
     "metadata": {},
     "output_type": "execute_result"
    }
   ],
   "source": [
    "dict(zip(dv.get_feature_names_out(), model.coef_[0].round(3)))"
   ]
  },
  {
   "cell_type": "code",
   "execution_count": 211,
   "id": "2c9c7254-4300-490b-a46b-8d06a61191da",
   "metadata": {},
   "outputs": [],
   "source": [
    "small = ['generalhealth', 'agecategory', 'weightinkilograms', 'bmi']"
   ]
  },
  {
   "cell_type": "code",
   "execution_count": 213,
   "id": "8e9af6b0-154e-49b4-ba6d-bce6460aa0a3",
   "metadata": {},
   "outputs": [
    {
     "data": {
      "text/plain": [
       "[{'generalhealth': 'very_good',\n",
       "  'agecategory': 'age_55_to_59',\n",
       "  'weightinkilograms': 88.4499969482422,\n",
       "  'bmi': 30.5400009155273},\n",
       " {'generalhealth': 'good',\n",
       "  'agecategory': 'age_75_to_79',\n",
       "  'weightinkilograms': 106.589996337891,\n",
       "  'bmi': 31.0},\n",
       " {'generalhealth': 'excellent',\n",
       "  'agecategory': 'age_70_to_74',\n",
       "  'weightinkilograms': 90.7200012207031,\n",
       "  'bmi': 22.5300006866455},\n",
       " {'generalhealth': 'excellent',\n",
       "  'agecategory': 'age_65_to_69',\n",
       "  'weightinkilograms': 86.1800003051758,\n",
       "  'bmi': 32.6100006103516},\n",
       " {'generalhealth': 'excellent',\n",
       "  'agecategory': 'age_75_to_79',\n",
       "  'weightinkilograms': 70.3099975585938,\n",
       "  'bmi': 26.6100006103516},\n",
       " {'generalhealth': 'very_good',\n",
       "  'agecategory': 'age_60_to_64',\n",
       "  'weightinkilograms': 81.6500015258789,\n",
       "  'bmi': 31.8899993896484},\n",
       " {'generalhealth': 'good',\n",
       "  'agecategory': 'age_70_to_74',\n",
       "  'weightinkilograms': 95.25,\n",
       "  'bmi': 32.8899993896484},\n",
       " {'generalhealth': 'very_good',\n",
       "  'agecategory': 'age_70_to_74',\n",
       "  'weightinkilograms': 74.8399963378906,\n",
       "  'bmi': 23.0100002288818},\n",
       " {'generalhealth': 'very_good',\n",
       "  'agecategory': 'age_75_to_79',\n",
       "  'weightinkilograms': 108.860000610352,\n",
       "  'bmi': 33.4700012207031},\n",
       " {'generalhealth': 'very_good',\n",
       "  'agecategory': 'age_18_to_24',\n",
       "  'weightinkilograms': 68.0400009155273,\n",
       "  'bmi': 24.2099990844727}]"
      ]
     },
     "execution_count": 213,
     "metadata": {},
     "output_type": "execute_result"
    }
   ],
   "source": [
    "df_train[small].iloc[:10].to_dict(orient='records')"
   ]
  },
  {
   "cell_type": "code",
   "execution_count": 215,
   "id": "f62a011c-97d7-4c3b-8364-f61e98d21cd4",
   "metadata": {},
   "outputs": [],
   "source": [
    "dicts_train_small = df_train[small].to_dict(orient='records')\n",
    "dicts_val_small = df_val[small].to_dict(orient='records')"
   ]
  },
  {
   "cell_type": "code",
   "execution_count": 217,
   "id": "06792e71-db94-4df3-a073-d3d7e15e7f96",
   "metadata": {},
   "outputs": [
    {
     "data": {
      "text/html": [
       "<style>#sk-container-id-2 {\n",
       "  /* Definition of color scheme common for light and dark mode */\n",
       "  --sklearn-color-text: black;\n",
       "  --sklearn-color-line: gray;\n",
       "  /* Definition of color scheme for unfitted estimators */\n",
       "  --sklearn-color-unfitted-level-0: #fff5e6;\n",
       "  --sklearn-color-unfitted-level-1: #f6e4d2;\n",
       "  --sklearn-color-unfitted-level-2: #ffe0b3;\n",
       "  --sklearn-color-unfitted-level-3: chocolate;\n",
       "  /* Definition of color scheme for fitted estimators */\n",
       "  --sklearn-color-fitted-level-0: #f0f8ff;\n",
       "  --sklearn-color-fitted-level-1: #d4ebff;\n",
       "  --sklearn-color-fitted-level-2: #b3dbfd;\n",
       "  --sklearn-color-fitted-level-3: cornflowerblue;\n",
       "\n",
       "  /* Specific color for light theme */\n",
       "  --sklearn-color-text-on-default-background: var(--sg-text-color, var(--theme-code-foreground, var(--jp-content-font-color1, black)));\n",
       "  --sklearn-color-background: var(--sg-background-color, var(--theme-background, var(--jp-layout-color0, white)));\n",
       "  --sklearn-color-border-box: var(--sg-text-color, var(--theme-code-foreground, var(--jp-content-font-color1, black)));\n",
       "  --sklearn-color-icon: #696969;\n",
       "\n",
       "  @media (prefers-color-scheme: dark) {\n",
       "    /* Redefinition of color scheme for dark theme */\n",
       "    --sklearn-color-text-on-default-background: var(--sg-text-color, var(--theme-code-foreground, var(--jp-content-font-color1, white)));\n",
       "    --sklearn-color-background: var(--sg-background-color, var(--theme-background, var(--jp-layout-color0, #111)));\n",
       "    --sklearn-color-border-box: var(--sg-text-color, var(--theme-code-foreground, var(--jp-content-font-color1, white)));\n",
       "    --sklearn-color-icon: #878787;\n",
       "  }\n",
       "}\n",
       "\n",
       "#sk-container-id-2 {\n",
       "  color: var(--sklearn-color-text);\n",
       "}\n",
       "\n",
       "#sk-container-id-2 pre {\n",
       "  padding: 0;\n",
       "}\n",
       "\n",
       "#sk-container-id-2 input.sk-hidden--visually {\n",
       "  border: 0;\n",
       "  clip: rect(1px 1px 1px 1px);\n",
       "  clip: rect(1px, 1px, 1px, 1px);\n",
       "  height: 1px;\n",
       "  margin: -1px;\n",
       "  overflow: hidden;\n",
       "  padding: 0;\n",
       "  position: absolute;\n",
       "  width: 1px;\n",
       "}\n",
       "\n",
       "#sk-container-id-2 div.sk-dashed-wrapped {\n",
       "  border: 1px dashed var(--sklearn-color-line);\n",
       "  margin: 0 0.4em 0.5em 0.4em;\n",
       "  box-sizing: border-box;\n",
       "  padding-bottom: 0.4em;\n",
       "  background-color: var(--sklearn-color-background);\n",
       "}\n",
       "\n",
       "#sk-container-id-2 div.sk-container {\n",
       "  /* jupyter's `normalize.less` sets `[hidden] { display: none; }`\n",
       "     but bootstrap.min.css set `[hidden] { display: none !important; }`\n",
       "     so we also need the `!important` here to be able to override the\n",
       "     default hidden behavior on the sphinx rendered scikit-learn.org.\n",
       "     See: https://github.com/scikit-learn/scikit-learn/issues/21755 */\n",
       "  display: inline-block !important;\n",
       "  position: relative;\n",
       "}\n",
       "\n",
       "#sk-container-id-2 div.sk-text-repr-fallback {\n",
       "  display: none;\n",
       "}\n",
       "\n",
       "div.sk-parallel-item,\n",
       "div.sk-serial,\n",
       "div.sk-item {\n",
       "  /* draw centered vertical line to link estimators */\n",
       "  background-image: linear-gradient(var(--sklearn-color-text-on-default-background), var(--sklearn-color-text-on-default-background));\n",
       "  background-size: 2px 100%;\n",
       "  background-repeat: no-repeat;\n",
       "  background-position: center center;\n",
       "}\n",
       "\n",
       "/* Parallel-specific style estimator block */\n",
       "\n",
       "#sk-container-id-2 div.sk-parallel-item::after {\n",
       "  content: \"\";\n",
       "  width: 100%;\n",
       "  border-bottom: 2px solid var(--sklearn-color-text-on-default-background);\n",
       "  flex-grow: 1;\n",
       "}\n",
       "\n",
       "#sk-container-id-2 div.sk-parallel {\n",
       "  display: flex;\n",
       "  align-items: stretch;\n",
       "  justify-content: center;\n",
       "  background-color: var(--sklearn-color-background);\n",
       "  position: relative;\n",
       "}\n",
       "\n",
       "#sk-container-id-2 div.sk-parallel-item {\n",
       "  display: flex;\n",
       "  flex-direction: column;\n",
       "}\n",
       "\n",
       "#sk-container-id-2 div.sk-parallel-item:first-child::after {\n",
       "  align-self: flex-end;\n",
       "  width: 50%;\n",
       "}\n",
       "\n",
       "#sk-container-id-2 div.sk-parallel-item:last-child::after {\n",
       "  align-self: flex-start;\n",
       "  width: 50%;\n",
       "}\n",
       "\n",
       "#sk-container-id-2 div.sk-parallel-item:only-child::after {\n",
       "  width: 0;\n",
       "}\n",
       "\n",
       "/* Serial-specific style estimator block */\n",
       "\n",
       "#sk-container-id-2 div.sk-serial {\n",
       "  display: flex;\n",
       "  flex-direction: column;\n",
       "  align-items: center;\n",
       "  background-color: var(--sklearn-color-background);\n",
       "  padding-right: 1em;\n",
       "  padding-left: 1em;\n",
       "}\n",
       "\n",
       "\n",
       "/* Toggleable style: style used for estimator/Pipeline/ColumnTransformer box that is\n",
       "clickable and can be expanded/collapsed.\n",
       "- Pipeline and ColumnTransformer use this feature and define the default style\n",
       "- Estimators will overwrite some part of the style using the `sk-estimator` class\n",
       "*/\n",
       "\n",
       "/* Pipeline and ColumnTransformer style (default) */\n",
       "\n",
       "#sk-container-id-2 div.sk-toggleable {\n",
       "  /* Default theme specific background. It is overwritten whether we have a\n",
       "  specific estimator or a Pipeline/ColumnTransformer */\n",
       "  background-color: var(--sklearn-color-background);\n",
       "}\n",
       "\n",
       "/* Toggleable label */\n",
       "#sk-container-id-2 label.sk-toggleable__label {\n",
       "  cursor: pointer;\n",
       "  display: block;\n",
       "  width: 100%;\n",
       "  margin-bottom: 0;\n",
       "  padding: 0.5em;\n",
       "  box-sizing: border-box;\n",
       "  text-align: center;\n",
       "}\n",
       "\n",
       "#sk-container-id-2 label.sk-toggleable__label-arrow:before {\n",
       "  /* Arrow on the left of the label */\n",
       "  content: \"▸\";\n",
       "  float: left;\n",
       "  margin-right: 0.25em;\n",
       "  color: var(--sklearn-color-icon);\n",
       "}\n",
       "\n",
       "#sk-container-id-2 label.sk-toggleable__label-arrow:hover:before {\n",
       "  color: var(--sklearn-color-text);\n",
       "}\n",
       "\n",
       "/* Toggleable content - dropdown */\n",
       "\n",
       "#sk-container-id-2 div.sk-toggleable__content {\n",
       "  max-height: 0;\n",
       "  max-width: 0;\n",
       "  overflow: hidden;\n",
       "  text-align: left;\n",
       "  /* unfitted */\n",
       "  background-color: var(--sklearn-color-unfitted-level-0);\n",
       "}\n",
       "\n",
       "#sk-container-id-2 div.sk-toggleable__content.fitted {\n",
       "  /* fitted */\n",
       "  background-color: var(--sklearn-color-fitted-level-0);\n",
       "}\n",
       "\n",
       "#sk-container-id-2 div.sk-toggleable__content pre {\n",
       "  margin: 0.2em;\n",
       "  border-radius: 0.25em;\n",
       "  color: var(--sklearn-color-text);\n",
       "  /* unfitted */\n",
       "  background-color: var(--sklearn-color-unfitted-level-0);\n",
       "}\n",
       "\n",
       "#sk-container-id-2 div.sk-toggleable__content.fitted pre {\n",
       "  /* unfitted */\n",
       "  background-color: var(--sklearn-color-fitted-level-0);\n",
       "}\n",
       "\n",
       "#sk-container-id-2 input.sk-toggleable__control:checked~div.sk-toggleable__content {\n",
       "  /* Expand drop-down */\n",
       "  max-height: 200px;\n",
       "  max-width: 100%;\n",
       "  overflow: auto;\n",
       "}\n",
       "\n",
       "#sk-container-id-2 input.sk-toggleable__control:checked~label.sk-toggleable__label-arrow:before {\n",
       "  content: \"▾\";\n",
       "}\n",
       "\n",
       "/* Pipeline/ColumnTransformer-specific style */\n",
       "\n",
       "#sk-container-id-2 div.sk-label input.sk-toggleable__control:checked~label.sk-toggleable__label {\n",
       "  color: var(--sklearn-color-text);\n",
       "  background-color: var(--sklearn-color-unfitted-level-2);\n",
       "}\n",
       "\n",
       "#sk-container-id-2 div.sk-label.fitted input.sk-toggleable__control:checked~label.sk-toggleable__label {\n",
       "  background-color: var(--sklearn-color-fitted-level-2);\n",
       "}\n",
       "\n",
       "/* Estimator-specific style */\n",
       "\n",
       "/* Colorize estimator box */\n",
       "#sk-container-id-2 div.sk-estimator input.sk-toggleable__control:checked~label.sk-toggleable__label {\n",
       "  /* unfitted */\n",
       "  background-color: var(--sklearn-color-unfitted-level-2);\n",
       "}\n",
       "\n",
       "#sk-container-id-2 div.sk-estimator.fitted input.sk-toggleable__control:checked~label.sk-toggleable__label {\n",
       "  /* fitted */\n",
       "  background-color: var(--sklearn-color-fitted-level-2);\n",
       "}\n",
       "\n",
       "#sk-container-id-2 div.sk-label label.sk-toggleable__label,\n",
       "#sk-container-id-2 div.sk-label label {\n",
       "  /* The background is the default theme color */\n",
       "  color: var(--sklearn-color-text-on-default-background);\n",
       "}\n",
       "\n",
       "/* On hover, darken the color of the background */\n",
       "#sk-container-id-2 div.sk-label:hover label.sk-toggleable__label {\n",
       "  color: var(--sklearn-color-text);\n",
       "  background-color: var(--sklearn-color-unfitted-level-2);\n",
       "}\n",
       "\n",
       "/* Label box, darken color on hover, fitted */\n",
       "#sk-container-id-2 div.sk-label.fitted:hover label.sk-toggleable__label.fitted {\n",
       "  color: var(--sklearn-color-text);\n",
       "  background-color: var(--sklearn-color-fitted-level-2);\n",
       "}\n",
       "\n",
       "/* Estimator label */\n",
       "\n",
       "#sk-container-id-2 div.sk-label label {\n",
       "  font-family: monospace;\n",
       "  font-weight: bold;\n",
       "  display: inline-block;\n",
       "  line-height: 1.2em;\n",
       "}\n",
       "\n",
       "#sk-container-id-2 div.sk-label-container {\n",
       "  text-align: center;\n",
       "}\n",
       "\n",
       "/* Estimator-specific */\n",
       "#sk-container-id-2 div.sk-estimator {\n",
       "  font-family: monospace;\n",
       "  border: 1px dotted var(--sklearn-color-border-box);\n",
       "  border-radius: 0.25em;\n",
       "  box-sizing: border-box;\n",
       "  margin-bottom: 0.5em;\n",
       "  /* unfitted */\n",
       "  background-color: var(--sklearn-color-unfitted-level-0);\n",
       "}\n",
       "\n",
       "#sk-container-id-2 div.sk-estimator.fitted {\n",
       "  /* fitted */\n",
       "  background-color: var(--sklearn-color-fitted-level-0);\n",
       "}\n",
       "\n",
       "/* on hover */\n",
       "#sk-container-id-2 div.sk-estimator:hover {\n",
       "  /* unfitted */\n",
       "  background-color: var(--sklearn-color-unfitted-level-2);\n",
       "}\n",
       "\n",
       "#sk-container-id-2 div.sk-estimator.fitted:hover {\n",
       "  /* fitted */\n",
       "  background-color: var(--sklearn-color-fitted-level-2);\n",
       "}\n",
       "\n",
       "/* Specification for estimator info (e.g. \"i\" and \"?\") */\n",
       "\n",
       "/* Common style for \"i\" and \"?\" */\n",
       "\n",
       ".sk-estimator-doc-link,\n",
       "a:link.sk-estimator-doc-link,\n",
       "a:visited.sk-estimator-doc-link {\n",
       "  float: right;\n",
       "  font-size: smaller;\n",
       "  line-height: 1em;\n",
       "  font-family: monospace;\n",
       "  background-color: var(--sklearn-color-background);\n",
       "  border-radius: 1em;\n",
       "  height: 1em;\n",
       "  width: 1em;\n",
       "  text-decoration: none !important;\n",
       "  margin-left: 1ex;\n",
       "  /* unfitted */\n",
       "  border: var(--sklearn-color-unfitted-level-1) 1pt solid;\n",
       "  color: var(--sklearn-color-unfitted-level-1);\n",
       "}\n",
       "\n",
       ".sk-estimator-doc-link.fitted,\n",
       "a:link.sk-estimator-doc-link.fitted,\n",
       "a:visited.sk-estimator-doc-link.fitted {\n",
       "  /* fitted */\n",
       "  border: var(--sklearn-color-fitted-level-1) 1pt solid;\n",
       "  color: var(--sklearn-color-fitted-level-1);\n",
       "}\n",
       "\n",
       "/* On hover */\n",
       "div.sk-estimator:hover .sk-estimator-doc-link:hover,\n",
       ".sk-estimator-doc-link:hover,\n",
       "div.sk-label-container:hover .sk-estimator-doc-link:hover,\n",
       ".sk-estimator-doc-link:hover {\n",
       "  /* unfitted */\n",
       "  background-color: var(--sklearn-color-unfitted-level-3);\n",
       "  color: var(--sklearn-color-background);\n",
       "  text-decoration: none;\n",
       "}\n",
       "\n",
       "div.sk-estimator.fitted:hover .sk-estimator-doc-link.fitted:hover,\n",
       ".sk-estimator-doc-link.fitted:hover,\n",
       "div.sk-label-container:hover .sk-estimator-doc-link.fitted:hover,\n",
       ".sk-estimator-doc-link.fitted:hover {\n",
       "  /* fitted */\n",
       "  background-color: var(--sklearn-color-fitted-level-3);\n",
       "  color: var(--sklearn-color-background);\n",
       "  text-decoration: none;\n",
       "}\n",
       "\n",
       "/* Span, style for the box shown on hovering the info icon */\n",
       ".sk-estimator-doc-link span {\n",
       "  display: none;\n",
       "  z-index: 9999;\n",
       "  position: relative;\n",
       "  font-weight: normal;\n",
       "  right: .2ex;\n",
       "  padding: .5ex;\n",
       "  margin: .5ex;\n",
       "  width: min-content;\n",
       "  min-width: 20ex;\n",
       "  max-width: 50ex;\n",
       "  color: var(--sklearn-color-text);\n",
       "  box-shadow: 2pt 2pt 4pt #999;\n",
       "  /* unfitted */\n",
       "  background: var(--sklearn-color-unfitted-level-0);\n",
       "  border: .5pt solid var(--sklearn-color-unfitted-level-3);\n",
       "}\n",
       "\n",
       ".sk-estimator-doc-link.fitted span {\n",
       "  /* fitted */\n",
       "  background: var(--sklearn-color-fitted-level-0);\n",
       "  border: var(--sklearn-color-fitted-level-3);\n",
       "}\n",
       "\n",
       ".sk-estimator-doc-link:hover span {\n",
       "  display: block;\n",
       "}\n",
       "\n",
       "/* \"?\"-specific style due to the `<a>` HTML tag */\n",
       "\n",
       "#sk-container-id-2 a.estimator_doc_link {\n",
       "  float: right;\n",
       "  font-size: 1rem;\n",
       "  line-height: 1em;\n",
       "  font-family: monospace;\n",
       "  background-color: var(--sklearn-color-background);\n",
       "  border-radius: 1rem;\n",
       "  height: 1rem;\n",
       "  width: 1rem;\n",
       "  text-decoration: none;\n",
       "  /* unfitted */\n",
       "  color: var(--sklearn-color-unfitted-level-1);\n",
       "  border: var(--sklearn-color-unfitted-level-1) 1pt solid;\n",
       "}\n",
       "\n",
       "#sk-container-id-2 a.estimator_doc_link.fitted {\n",
       "  /* fitted */\n",
       "  border: var(--sklearn-color-fitted-level-1) 1pt solid;\n",
       "  color: var(--sklearn-color-fitted-level-1);\n",
       "}\n",
       "\n",
       "/* On hover */\n",
       "#sk-container-id-2 a.estimator_doc_link:hover {\n",
       "  /* unfitted */\n",
       "  background-color: var(--sklearn-color-unfitted-level-3);\n",
       "  color: var(--sklearn-color-background);\n",
       "  text-decoration: none;\n",
       "}\n",
       "\n",
       "#sk-container-id-2 a.estimator_doc_link.fitted:hover {\n",
       "  /* fitted */\n",
       "  background-color: var(--sklearn-color-fitted-level-3);\n",
       "}\n",
       "</style><div id=\"sk-container-id-2\" class=\"sk-top-container\"><div class=\"sk-text-repr-fallback\"><pre>DictVectorizer(sparse=False)</pre><b>In a Jupyter environment, please rerun this cell to show the HTML representation or trust the notebook. <br />On GitHub, the HTML representation is unable to render, please try loading this page with nbviewer.org.</b></div><div class=\"sk-container\" hidden><div class=\"sk-item\"><div class=\"sk-estimator fitted sk-toggleable\"><input class=\"sk-toggleable__control sk-hidden--visually\" id=\"sk-estimator-id-2\" type=\"checkbox\" checked><label for=\"sk-estimator-id-2\" class=\"sk-toggleable__label fitted sk-toggleable__label-arrow fitted\">&nbsp;&nbsp;DictVectorizer<a class=\"sk-estimator-doc-link fitted\" rel=\"noreferrer\" target=\"_blank\" href=\"https://scikit-learn.org/1.4/modules/generated/sklearn.feature_extraction.DictVectorizer.html\">?<span>Documentation for DictVectorizer</span></a><span class=\"sk-estimator-doc-link fitted\">i<span>Fitted</span></span></label><div class=\"sk-toggleable__content fitted\"><pre>DictVectorizer(sparse=False)</pre></div> </div></div></div></div>"
      ],
      "text/plain": [
       "DictVectorizer(sparse=False)"
      ]
     },
     "execution_count": 217,
     "metadata": {},
     "output_type": "execute_result"
    }
   ],
   "source": [
    "dv_small = DictVectorizer(sparse=False)\n",
    "dv_small.fit(dicts_train_small)"
   ]
  },
  {
   "cell_type": "code",
   "execution_count": 219,
   "id": "ba06d923-0fc4-4fc0-9594-0f6328d23de1",
   "metadata": {},
   "outputs": [
    {
     "data": {
      "text/plain": [
       "array(['agecategory=age_18_to_24', 'agecategory=age_25_to_29',\n",
       "       'agecategory=age_30_to_34', 'agecategory=age_35_to_39',\n",
       "       'agecategory=age_40_to_44', 'agecategory=age_45_to_49',\n",
       "       'agecategory=age_50_to_54', 'agecategory=age_55_to_59',\n",
       "       'agecategory=age_60_to_64', 'agecategory=age_65_to_69',\n",
       "       'agecategory=age_70_to_74', 'agecategory=age_75_to_79',\n",
       "       'agecategory=age_80_or_older', 'bmi', 'generalhealth=excellent',\n",
       "       'generalhealth=fair', 'generalhealth=good', 'generalhealth=poor',\n",
       "       'generalhealth=very_good', 'weightinkilograms'], dtype=object)"
      ]
     },
     "execution_count": 219,
     "metadata": {},
     "output_type": "execute_result"
    }
   ],
   "source": [
    "dv_small.get_feature_names_out()"
   ]
  },
  {
   "cell_type": "code",
   "execution_count": 220,
   "id": "39b774b2-7ae0-4530-b06b-d001915bd6fe",
   "metadata": {},
   "outputs": [],
   "source": [
    "X_train_small = dv_small.transform(dicts_train_small)"
   ]
  },
  {
   "cell_type": "code",
   "execution_count": 223,
   "id": "bf8eaa28-2df7-4207-bfc6-fbc2d06ceb97",
   "metadata": {},
   "outputs": [
    {
     "data": {
      "text/html": [
       "<style>#sk-container-id-3 {\n",
       "  /* Definition of color scheme common for light and dark mode */\n",
       "  --sklearn-color-text: black;\n",
       "  --sklearn-color-line: gray;\n",
       "  /* Definition of color scheme for unfitted estimators */\n",
       "  --sklearn-color-unfitted-level-0: #fff5e6;\n",
       "  --sklearn-color-unfitted-level-1: #f6e4d2;\n",
       "  --sklearn-color-unfitted-level-2: #ffe0b3;\n",
       "  --sklearn-color-unfitted-level-3: chocolate;\n",
       "  /* Definition of color scheme for fitted estimators */\n",
       "  --sklearn-color-fitted-level-0: #f0f8ff;\n",
       "  --sklearn-color-fitted-level-1: #d4ebff;\n",
       "  --sklearn-color-fitted-level-2: #b3dbfd;\n",
       "  --sklearn-color-fitted-level-3: cornflowerblue;\n",
       "\n",
       "  /* Specific color for light theme */\n",
       "  --sklearn-color-text-on-default-background: var(--sg-text-color, var(--theme-code-foreground, var(--jp-content-font-color1, black)));\n",
       "  --sklearn-color-background: var(--sg-background-color, var(--theme-background, var(--jp-layout-color0, white)));\n",
       "  --sklearn-color-border-box: var(--sg-text-color, var(--theme-code-foreground, var(--jp-content-font-color1, black)));\n",
       "  --sklearn-color-icon: #696969;\n",
       "\n",
       "  @media (prefers-color-scheme: dark) {\n",
       "    /* Redefinition of color scheme for dark theme */\n",
       "    --sklearn-color-text-on-default-background: var(--sg-text-color, var(--theme-code-foreground, var(--jp-content-font-color1, white)));\n",
       "    --sklearn-color-background: var(--sg-background-color, var(--theme-background, var(--jp-layout-color0, #111)));\n",
       "    --sklearn-color-border-box: var(--sg-text-color, var(--theme-code-foreground, var(--jp-content-font-color1, white)));\n",
       "    --sklearn-color-icon: #878787;\n",
       "  }\n",
       "}\n",
       "\n",
       "#sk-container-id-3 {\n",
       "  color: var(--sklearn-color-text);\n",
       "}\n",
       "\n",
       "#sk-container-id-3 pre {\n",
       "  padding: 0;\n",
       "}\n",
       "\n",
       "#sk-container-id-3 input.sk-hidden--visually {\n",
       "  border: 0;\n",
       "  clip: rect(1px 1px 1px 1px);\n",
       "  clip: rect(1px, 1px, 1px, 1px);\n",
       "  height: 1px;\n",
       "  margin: -1px;\n",
       "  overflow: hidden;\n",
       "  padding: 0;\n",
       "  position: absolute;\n",
       "  width: 1px;\n",
       "}\n",
       "\n",
       "#sk-container-id-3 div.sk-dashed-wrapped {\n",
       "  border: 1px dashed var(--sklearn-color-line);\n",
       "  margin: 0 0.4em 0.5em 0.4em;\n",
       "  box-sizing: border-box;\n",
       "  padding-bottom: 0.4em;\n",
       "  background-color: var(--sklearn-color-background);\n",
       "}\n",
       "\n",
       "#sk-container-id-3 div.sk-container {\n",
       "  /* jupyter's `normalize.less` sets `[hidden] { display: none; }`\n",
       "     but bootstrap.min.css set `[hidden] { display: none !important; }`\n",
       "     so we also need the `!important` here to be able to override the\n",
       "     default hidden behavior on the sphinx rendered scikit-learn.org.\n",
       "     See: https://github.com/scikit-learn/scikit-learn/issues/21755 */\n",
       "  display: inline-block !important;\n",
       "  position: relative;\n",
       "}\n",
       "\n",
       "#sk-container-id-3 div.sk-text-repr-fallback {\n",
       "  display: none;\n",
       "}\n",
       "\n",
       "div.sk-parallel-item,\n",
       "div.sk-serial,\n",
       "div.sk-item {\n",
       "  /* draw centered vertical line to link estimators */\n",
       "  background-image: linear-gradient(var(--sklearn-color-text-on-default-background), var(--sklearn-color-text-on-default-background));\n",
       "  background-size: 2px 100%;\n",
       "  background-repeat: no-repeat;\n",
       "  background-position: center center;\n",
       "}\n",
       "\n",
       "/* Parallel-specific style estimator block */\n",
       "\n",
       "#sk-container-id-3 div.sk-parallel-item::after {\n",
       "  content: \"\";\n",
       "  width: 100%;\n",
       "  border-bottom: 2px solid var(--sklearn-color-text-on-default-background);\n",
       "  flex-grow: 1;\n",
       "}\n",
       "\n",
       "#sk-container-id-3 div.sk-parallel {\n",
       "  display: flex;\n",
       "  align-items: stretch;\n",
       "  justify-content: center;\n",
       "  background-color: var(--sklearn-color-background);\n",
       "  position: relative;\n",
       "}\n",
       "\n",
       "#sk-container-id-3 div.sk-parallel-item {\n",
       "  display: flex;\n",
       "  flex-direction: column;\n",
       "}\n",
       "\n",
       "#sk-container-id-3 div.sk-parallel-item:first-child::after {\n",
       "  align-self: flex-end;\n",
       "  width: 50%;\n",
       "}\n",
       "\n",
       "#sk-container-id-3 div.sk-parallel-item:last-child::after {\n",
       "  align-self: flex-start;\n",
       "  width: 50%;\n",
       "}\n",
       "\n",
       "#sk-container-id-3 div.sk-parallel-item:only-child::after {\n",
       "  width: 0;\n",
       "}\n",
       "\n",
       "/* Serial-specific style estimator block */\n",
       "\n",
       "#sk-container-id-3 div.sk-serial {\n",
       "  display: flex;\n",
       "  flex-direction: column;\n",
       "  align-items: center;\n",
       "  background-color: var(--sklearn-color-background);\n",
       "  padding-right: 1em;\n",
       "  padding-left: 1em;\n",
       "}\n",
       "\n",
       "\n",
       "/* Toggleable style: style used for estimator/Pipeline/ColumnTransformer box that is\n",
       "clickable and can be expanded/collapsed.\n",
       "- Pipeline and ColumnTransformer use this feature and define the default style\n",
       "- Estimators will overwrite some part of the style using the `sk-estimator` class\n",
       "*/\n",
       "\n",
       "/* Pipeline and ColumnTransformer style (default) */\n",
       "\n",
       "#sk-container-id-3 div.sk-toggleable {\n",
       "  /* Default theme specific background. It is overwritten whether we have a\n",
       "  specific estimator or a Pipeline/ColumnTransformer */\n",
       "  background-color: var(--sklearn-color-background);\n",
       "}\n",
       "\n",
       "/* Toggleable label */\n",
       "#sk-container-id-3 label.sk-toggleable__label {\n",
       "  cursor: pointer;\n",
       "  display: block;\n",
       "  width: 100%;\n",
       "  margin-bottom: 0;\n",
       "  padding: 0.5em;\n",
       "  box-sizing: border-box;\n",
       "  text-align: center;\n",
       "}\n",
       "\n",
       "#sk-container-id-3 label.sk-toggleable__label-arrow:before {\n",
       "  /* Arrow on the left of the label */\n",
       "  content: \"▸\";\n",
       "  float: left;\n",
       "  margin-right: 0.25em;\n",
       "  color: var(--sklearn-color-icon);\n",
       "}\n",
       "\n",
       "#sk-container-id-3 label.sk-toggleable__label-arrow:hover:before {\n",
       "  color: var(--sklearn-color-text);\n",
       "}\n",
       "\n",
       "/* Toggleable content - dropdown */\n",
       "\n",
       "#sk-container-id-3 div.sk-toggleable__content {\n",
       "  max-height: 0;\n",
       "  max-width: 0;\n",
       "  overflow: hidden;\n",
       "  text-align: left;\n",
       "  /* unfitted */\n",
       "  background-color: var(--sklearn-color-unfitted-level-0);\n",
       "}\n",
       "\n",
       "#sk-container-id-3 div.sk-toggleable__content.fitted {\n",
       "  /* fitted */\n",
       "  background-color: var(--sklearn-color-fitted-level-0);\n",
       "}\n",
       "\n",
       "#sk-container-id-3 div.sk-toggleable__content pre {\n",
       "  margin: 0.2em;\n",
       "  border-radius: 0.25em;\n",
       "  color: var(--sklearn-color-text);\n",
       "  /* unfitted */\n",
       "  background-color: var(--sklearn-color-unfitted-level-0);\n",
       "}\n",
       "\n",
       "#sk-container-id-3 div.sk-toggleable__content.fitted pre {\n",
       "  /* unfitted */\n",
       "  background-color: var(--sklearn-color-fitted-level-0);\n",
       "}\n",
       "\n",
       "#sk-container-id-3 input.sk-toggleable__control:checked~div.sk-toggleable__content {\n",
       "  /* Expand drop-down */\n",
       "  max-height: 200px;\n",
       "  max-width: 100%;\n",
       "  overflow: auto;\n",
       "}\n",
       "\n",
       "#sk-container-id-3 input.sk-toggleable__control:checked~label.sk-toggleable__label-arrow:before {\n",
       "  content: \"▾\";\n",
       "}\n",
       "\n",
       "/* Pipeline/ColumnTransformer-specific style */\n",
       "\n",
       "#sk-container-id-3 div.sk-label input.sk-toggleable__control:checked~label.sk-toggleable__label {\n",
       "  color: var(--sklearn-color-text);\n",
       "  background-color: var(--sklearn-color-unfitted-level-2);\n",
       "}\n",
       "\n",
       "#sk-container-id-3 div.sk-label.fitted input.sk-toggleable__control:checked~label.sk-toggleable__label {\n",
       "  background-color: var(--sklearn-color-fitted-level-2);\n",
       "}\n",
       "\n",
       "/* Estimator-specific style */\n",
       "\n",
       "/* Colorize estimator box */\n",
       "#sk-container-id-3 div.sk-estimator input.sk-toggleable__control:checked~label.sk-toggleable__label {\n",
       "  /* unfitted */\n",
       "  background-color: var(--sklearn-color-unfitted-level-2);\n",
       "}\n",
       "\n",
       "#sk-container-id-3 div.sk-estimator.fitted input.sk-toggleable__control:checked~label.sk-toggleable__label {\n",
       "  /* fitted */\n",
       "  background-color: var(--sklearn-color-fitted-level-2);\n",
       "}\n",
       "\n",
       "#sk-container-id-3 div.sk-label label.sk-toggleable__label,\n",
       "#sk-container-id-3 div.sk-label label {\n",
       "  /* The background is the default theme color */\n",
       "  color: var(--sklearn-color-text-on-default-background);\n",
       "}\n",
       "\n",
       "/* On hover, darken the color of the background */\n",
       "#sk-container-id-3 div.sk-label:hover label.sk-toggleable__label {\n",
       "  color: var(--sklearn-color-text);\n",
       "  background-color: var(--sklearn-color-unfitted-level-2);\n",
       "}\n",
       "\n",
       "/* Label box, darken color on hover, fitted */\n",
       "#sk-container-id-3 div.sk-label.fitted:hover label.sk-toggleable__label.fitted {\n",
       "  color: var(--sklearn-color-text);\n",
       "  background-color: var(--sklearn-color-fitted-level-2);\n",
       "}\n",
       "\n",
       "/* Estimator label */\n",
       "\n",
       "#sk-container-id-3 div.sk-label label {\n",
       "  font-family: monospace;\n",
       "  font-weight: bold;\n",
       "  display: inline-block;\n",
       "  line-height: 1.2em;\n",
       "}\n",
       "\n",
       "#sk-container-id-3 div.sk-label-container {\n",
       "  text-align: center;\n",
       "}\n",
       "\n",
       "/* Estimator-specific */\n",
       "#sk-container-id-3 div.sk-estimator {\n",
       "  font-family: monospace;\n",
       "  border: 1px dotted var(--sklearn-color-border-box);\n",
       "  border-radius: 0.25em;\n",
       "  box-sizing: border-box;\n",
       "  margin-bottom: 0.5em;\n",
       "  /* unfitted */\n",
       "  background-color: var(--sklearn-color-unfitted-level-0);\n",
       "}\n",
       "\n",
       "#sk-container-id-3 div.sk-estimator.fitted {\n",
       "  /* fitted */\n",
       "  background-color: var(--sklearn-color-fitted-level-0);\n",
       "}\n",
       "\n",
       "/* on hover */\n",
       "#sk-container-id-3 div.sk-estimator:hover {\n",
       "  /* unfitted */\n",
       "  background-color: var(--sklearn-color-unfitted-level-2);\n",
       "}\n",
       "\n",
       "#sk-container-id-3 div.sk-estimator.fitted:hover {\n",
       "  /* fitted */\n",
       "  background-color: var(--sklearn-color-fitted-level-2);\n",
       "}\n",
       "\n",
       "/* Specification for estimator info (e.g. \"i\" and \"?\") */\n",
       "\n",
       "/* Common style for \"i\" and \"?\" */\n",
       "\n",
       ".sk-estimator-doc-link,\n",
       "a:link.sk-estimator-doc-link,\n",
       "a:visited.sk-estimator-doc-link {\n",
       "  float: right;\n",
       "  font-size: smaller;\n",
       "  line-height: 1em;\n",
       "  font-family: monospace;\n",
       "  background-color: var(--sklearn-color-background);\n",
       "  border-radius: 1em;\n",
       "  height: 1em;\n",
       "  width: 1em;\n",
       "  text-decoration: none !important;\n",
       "  margin-left: 1ex;\n",
       "  /* unfitted */\n",
       "  border: var(--sklearn-color-unfitted-level-1) 1pt solid;\n",
       "  color: var(--sklearn-color-unfitted-level-1);\n",
       "}\n",
       "\n",
       ".sk-estimator-doc-link.fitted,\n",
       "a:link.sk-estimator-doc-link.fitted,\n",
       "a:visited.sk-estimator-doc-link.fitted {\n",
       "  /* fitted */\n",
       "  border: var(--sklearn-color-fitted-level-1) 1pt solid;\n",
       "  color: var(--sklearn-color-fitted-level-1);\n",
       "}\n",
       "\n",
       "/* On hover */\n",
       "div.sk-estimator:hover .sk-estimator-doc-link:hover,\n",
       ".sk-estimator-doc-link:hover,\n",
       "div.sk-label-container:hover .sk-estimator-doc-link:hover,\n",
       ".sk-estimator-doc-link:hover {\n",
       "  /* unfitted */\n",
       "  background-color: var(--sklearn-color-unfitted-level-3);\n",
       "  color: var(--sklearn-color-background);\n",
       "  text-decoration: none;\n",
       "}\n",
       "\n",
       "div.sk-estimator.fitted:hover .sk-estimator-doc-link.fitted:hover,\n",
       ".sk-estimator-doc-link.fitted:hover,\n",
       "div.sk-label-container:hover .sk-estimator-doc-link.fitted:hover,\n",
       ".sk-estimator-doc-link.fitted:hover {\n",
       "  /* fitted */\n",
       "  background-color: var(--sklearn-color-fitted-level-3);\n",
       "  color: var(--sklearn-color-background);\n",
       "  text-decoration: none;\n",
       "}\n",
       "\n",
       "/* Span, style for the box shown on hovering the info icon */\n",
       ".sk-estimator-doc-link span {\n",
       "  display: none;\n",
       "  z-index: 9999;\n",
       "  position: relative;\n",
       "  font-weight: normal;\n",
       "  right: .2ex;\n",
       "  padding: .5ex;\n",
       "  margin: .5ex;\n",
       "  width: min-content;\n",
       "  min-width: 20ex;\n",
       "  max-width: 50ex;\n",
       "  color: var(--sklearn-color-text);\n",
       "  box-shadow: 2pt 2pt 4pt #999;\n",
       "  /* unfitted */\n",
       "  background: var(--sklearn-color-unfitted-level-0);\n",
       "  border: .5pt solid var(--sklearn-color-unfitted-level-3);\n",
       "}\n",
       "\n",
       ".sk-estimator-doc-link.fitted span {\n",
       "  /* fitted */\n",
       "  background: var(--sklearn-color-fitted-level-0);\n",
       "  border: var(--sklearn-color-fitted-level-3);\n",
       "}\n",
       "\n",
       ".sk-estimator-doc-link:hover span {\n",
       "  display: block;\n",
       "}\n",
       "\n",
       "/* \"?\"-specific style due to the `<a>` HTML tag */\n",
       "\n",
       "#sk-container-id-3 a.estimator_doc_link {\n",
       "  float: right;\n",
       "  font-size: 1rem;\n",
       "  line-height: 1em;\n",
       "  font-family: monospace;\n",
       "  background-color: var(--sklearn-color-background);\n",
       "  border-radius: 1rem;\n",
       "  height: 1rem;\n",
       "  width: 1rem;\n",
       "  text-decoration: none;\n",
       "  /* unfitted */\n",
       "  color: var(--sklearn-color-unfitted-level-1);\n",
       "  border: var(--sklearn-color-unfitted-level-1) 1pt solid;\n",
       "}\n",
       "\n",
       "#sk-container-id-3 a.estimator_doc_link.fitted {\n",
       "  /* fitted */\n",
       "  border: var(--sklearn-color-fitted-level-1) 1pt solid;\n",
       "  color: var(--sklearn-color-fitted-level-1);\n",
       "}\n",
       "\n",
       "/* On hover */\n",
       "#sk-container-id-3 a.estimator_doc_link:hover {\n",
       "  /* unfitted */\n",
       "  background-color: var(--sklearn-color-unfitted-level-3);\n",
       "  color: var(--sklearn-color-background);\n",
       "  text-decoration: none;\n",
       "}\n",
       "\n",
       "#sk-container-id-3 a.estimator_doc_link.fitted:hover {\n",
       "  /* fitted */\n",
       "  background-color: var(--sklearn-color-fitted-level-3);\n",
       "}\n",
       "</style><div id=\"sk-container-id-3\" class=\"sk-top-container\"><div class=\"sk-text-repr-fallback\"><pre>LogisticRegression(max_iter=237630)</pre><b>In a Jupyter environment, please rerun this cell to show the HTML representation or trust the notebook. <br />On GitHub, the HTML representation is unable to render, please try loading this page with nbviewer.org.</b></div><div class=\"sk-container\" hidden><div class=\"sk-item\"><div class=\"sk-estimator fitted sk-toggleable\"><input class=\"sk-toggleable__control sk-hidden--visually\" id=\"sk-estimator-id-3\" type=\"checkbox\" checked><label for=\"sk-estimator-id-3\" class=\"sk-toggleable__label fitted sk-toggleable__label-arrow fitted\">&nbsp;&nbsp;LogisticRegression<a class=\"sk-estimator-doc-link fitted\" rel=\"noreferrer\" target=\"_blank\" href=\"https://scikit-learn.org/1.4/modules/generated/sklearn.linear_model.LogisticRegression.html\">?<span>Documentation for LogisticRegression</span></a><span class=\"sk-estimator-doc-link fitted\">i<span>Fitted</span></span></label><div class=\"sk-toggleable__content fitted\"><pre>LogisticRegression(max_iter=237630)</pre></div> </div></div></div></div>"
      ],
      "text/plain": [
       "LogisticRegression(max_iter=237630)"
      ]
     },
     "execution_count": 223,
     "metadata": {},
     "output_type": "execute_result"
    }
   ],
   "source": [
    "model_small = LogisticRegression(solver='lbfgs', max_iter=237630)\n",
    "model_small.fit(X_train_small, y_train)"
   ]
  },
  {
   "cell_type": "code",
   "execution_count": 228,
   "id": "fe9b622d-692e-46d9-b7d2-b75f9f7c3613",
   "metadata": {},
   "outputs": [
    {
     "data": {
      "text/plain": [
       "-2.9181200402070044"
      ]
     },
     "execution_count": 228,
     "metadata": {},
     "output_type": "execute_result"
    }
   ],
   "source": [
    "w0 = model_small.intercept_[0]\n",
    "w0"
   ]
  },
  {
   "cell_type": "code",
   "execution_count": 230,
   "id": "0c5bde71-9f50-4469-ac3d-27d9744cd31a",
   "metadata": {},
   "outputs": [
    {
     "data": {
      "text/plain": [
       "array([-2.042, -1.796, -1.577, -1.29 , -1.051, -0.25 , -0.044,  0.299,\n",
       "        0.451,  0.783,  1.024,  1.24 ,  1.415, -0.053, -1.834,  0.136,\n",
       "       -0.602,  0.751, -1.29 ,  0.022])"
      ]
     },
     "execution_count": 230,
     "metadata": {},
     "output_type": "execute_result"
    }
   ],
   "source": [
    "w = model_small.coef_[0]\n",
    "w.round(3)"
   ]
  },
  {
   "cell_type": "code",
   "execution_count": 233,
   "id": "ee1aa247-10b3-4ce4-8e0f-c7c29d969b6f",
   "metadata": {},
   "outputs": [
    {
     "data": {
      "text/plain": [
       "{'agecategory=age_18_to_24': -2.042,\n",
       " 'agecategory=age_25_to_29': -1.796,\n",
       " 'agecategory=age_30_to_34': -1.577,\n",
       " 'agecategory=age_35_to_39': -1.29,\n",
       " 'agecategory=age_40_to_44': -1.051,\n",
       " 'agecategory=age_45_to_49': -0.25,\n",
       " 'agecategory=age_50_to_54': -0.044,\n",
       " 'agecategory=age_55_to_59': 0.299,\n",
       " 'agecategory=age_60_to_64': 0.451,\n",
       " 'agecategory=age_65_to_69': 0.783,\n",
       " 'agecategory=age_70_to_74': 1.024,\n",
       " 'agecategory=age_75_to_79': 1.24,\n",
       " 'agecategory=age_80_or_older': 1.415,\n",
       " 'bmi': -0.053,\n",
       " 'generalhealth=excellent': -1.834,\n",
       " 'generalhealth=fair': 0.136,\n",
       " 'generalhealth=good': -0.602,\n",
       " 'generalhealth=poor': 0.751,\n",
       " 'generalhealth=very_good': -1.29,\n",
       " 'weightinkilograms': 0.022}"
      ]
     },
     "execution_count": 233,
     "metadata": {},
     "output_type": "execute_result"
    }
   ],
   "source": [
    "dict(zip(dv_small.get_feature_names_out(), w.round(3)))"
   ]
  },
  {
   "cell_type": "code",
   "execution_count": 235,
   "id": "d2580633-ead5-4b3c-83d8-8a3ddd7948f4",
   "metadata": {},
   "outputs": [
    {
     "data": {
      "text/plain": [
       "0.05021127319026653"
      ]
     },
     "execution_count": 235,
     "metadata": {},
     "output_type": "execute_result"
    }
   ],
   "source": [
    "sigmoid(-2.94 )"
   ]
  },
  {
   "cell_type": "markdown",
   "id": "00c960cd-2217-4028-8da4-cf0e4f4a2404",
   "metadata": {},
   "source": [
    "## 3.12 Using the model\n",
    "WE USE ALL THE FEATURES"
   ]
  },
  {
   "cell_type": "code",
   "execution_count": 238,
   "id": "5eec6661-cf70-4d8a-abbd-c1a1dd2f2380",
   "metadata": {},
   "outputs": [
    {
     "data": {
      "text/html": [
       "<div>\n",
       "<style scoped>\n",
       "    .dataframe tbody tr th:only-of-type {\n",
       "        vertical-align: middle;\n",
       "    }\n",
       "\n",
       "    .dataframe tbody tr th {\n",
       "        vertical-align: top;\n",
       "    }\n",
       "\n",
       "    .dataframe thead th {\n",
       "        text-align: right;\n",
       "    }\n",
       "</style>\n",
       "<table border=\"1\" class=\"dataframe\">\n",
       "  <thead>\n",
       "    <tr style=\"text-align: right;\">\n",
       "      <th></th>\n",
       "      <th>patientid</th>\n",
       "      <th>state</th>\n",
       "      <th>sex</th>\n",
       "      <th>generalhealth</th>\n",
       "      <th>agecategory</th>\n",
       "      <th>heightinmeters</th>\n",
       "      <th>weightinkilograms</th>\n",
       "      <th>bmi</th>\n",
       "      <th>hadheartattack</th>\n",
       "      <th>hadangina</th>\n",
       "      <th>...</th>\n",
       "      <th>ecigaretteusage</th>\n",
       "      <th>chestscan</th>\n",
       "      <th>raceethnicitycategory</th>\n",
       "      <th>alcoholdrinkers</th>\n",
       "      <th>hivtesting</th>\n",
       "      <th>fluvaxlast12</th>\n",
       "      <th>pneumovaxever</th>\n",
       "      <th>tetanuslast10tdap</th>\n",
       "      <th>highrisklastyear</th>\n",
       "      <th>covidpos</th>\n",
       "    </tr>\n",
       "  </thead>\n",
       "  <tbody>\n",
       "    <tr>\n",
       "      <th>0</th>\n",
       "      <td>197268</td>\n",
       "      <td>utah</td>\n",
       "      <td>male</td>\n",
       "      <td>good</td>\n",
       "      <td>age_50_to_54</td>\n",
       "      <td>1.80</td>\n",
       "      <td>79.379997</td>\n",
       "      <td>24.410000</td>\n",
       "      <td>0</td>\n",
       "      <td>0</td>\n",
       "      <td>...</td>\n",
       "      <td>never_used_e-cigarettes_in_my_entire_life</td>\n",
       "      <td>0</td>\n",
       "      <td>multiracial,_non-hispanic</td>\n",
       "      <td>1</td>\n",
       "      <td>0</td>\n",
       "      <td>0</td>\n",
       "      <td>0</td>\n",
       "      <td>yes,_received_tetanus_shot_but_not_sure_what_type</td>\n",
       "      <td>0</td>\n",
       "      <td>0</td>\n",
       "    </tr>\n",
       "    <tr>\n",
       "      <th>1</th>\n",
       "      <td>65348</td>\n",
       "      <td>iowa</td>\n",
       "      <td>male</td>\n",
       "      <td>good</td>\n",
       "      <td>age_30_to_34</td>\n",
       "      <td>1.80</td>\n",
       "      <td>97.519997</td>\n",
       "      <td>29.990000</td>\n",
       "      <td>0</td>\n",
       "      <td>0</td>\n",
       "      <td>...</td>\n",
       "      <td>not_at_all_(right_now)</td>\n",
       "      <td>0</td>\n",
       "      <td>white_only,_non-hispanic</td>\n",
       "      <td>1</td>\n",
       "      <td>0</td>\n",
       "      <td>1</td>\n",
       "      <td>0</td>\n",
       "      <td>yes,_received_tdap</td>\n",
       "      <td>0</td>\n",
       "      <td>0</td>\n",
       "    </tr>\n",
       "    <tr>\n",
       "      <th>2</th>\n",
       "      <td>151392</td>\n",
       "      <td>north_dakota</td>\n",
       "      <td>female</td>\n",
       "      <td>excellent</td>\n",
       "      <td>age_30_to_34</td>\n",
       "      <td>1.68</td>\n",
       "      <td>58.970001</td>\n",
       "      <td>20.980000</td>\n",
       "      <td>0</td>\n",
       "      <td>0</td>\n",
       "      <td>...</td>\n",
       "      <td>use_them_some_days</td>\n",
       "      <td>1</td>\n",
       "      <td>white_only,_non-hispanic</td>\n",
       "      <td>0</td>\n",
       "      <td>1</td>\n",
       "      <td>0</td>\n",
       "      <td>1</td>\n",
       "      <td>yes,_received_tdap</td>\n",
       "      <td>1</td>\n",
       "      <td>0</td>\n",
       "    </tr>\n",
       "    <tr>\n",
       "      <th>3</th>\n",
       "      <td>153527</td>\n",
       "      <td>ohio</td>\n",
       "      <td>female</td>\n",
       "      <td>good</td>\n",
       "      <td>age_55_to_59</td>\n",
       "      <td>1.68</td>\n",
       "      <td>127.459999</td>\n",
       "      <td>45.349998</td>\n",
       "      <td>0</td>\n",
       "      <td>0</td>\n",
       "      <td>...</td>\n",
       "      <td>never_used_e-cigarettes_in_my_entire_life</td>\n",
       "      <td>0</td>\n",
       "      <td>white_only,_non-hispanic</td>\n",
       "      <td>0</td>\n",
       "      <td>0</td>\n",
       "      <td>0</td>\n",
       "      <td>0</td>\n",
       "      <td>no,_did_not_receive_any_tetanus_shot_in_the_pa...</td>\n",
       "      <td>0</td>\n",
       "      <td>0</td>\n",
       "    </tr>\n",
       "    <tr>\n",
       "      <th>4</th>\n",
       "      <td>169328</td>\n",
       "      <td>rhode_island</td>\n",
       "      <td>male</td>\n",
       "      <td>excellent</td>\n",
       "      <td>age_50_to_54</td>\n",
       "      <td>1.75</td>\n",
       "      <td>80.739998</td>\n",
       "      <td>26.290001</td>\n",
       "      <td>0</td>\n",
       "      <td>0</td>\n",
       "      <td>...</td>\n",
       "      <td>never_used_e-cigarettes_in_my_entire_life</td>\n",
       "      <td>0</td>\n",
       "      <td>white_only,_non-hispanic</td>\n",
       "      <td>1</td>\n",
       "      <td>1</td>\n",
       "      <td>0</td>\n",
       "      <td>0</td>\n",
       "      <td>yes,_received_tetanus_shot_but_not_sure_what_type</td>\n",
       "      <td>0</td>\n",
       "      <td>0</td>\n",
       "    </tr>\n",
       "    <tr>\n",
       "      <th>...</th>\n",
       "      <td>...</td>\n",
       "      <td>...</td>\n",
       "      <td>...</td>\n",
       "      <td>...</td>\n",
       "      <td>...</td>\n",
       "      <td>...</td>\n",
       "      <td>...</td>\n",
       "      <td>...</td>\n",
       "      <td>...</td>\n",
       "      <td>...</td>\n",
       "      <td>...</td>\n",
       "      <td>...</td>\n",
       "      <td>...</td>\n",
       "      <td>...</td>\n",
       "      <td>...</td>\n",
       "      <td>...</td>\n",
       "      <td>...</td>\n",
       "      <td>...</td>\n",
       "      <td>...</td>\n",
       "      <td>...</td>\n",
       "      <td>...</td>\n",
       "    </tr>\n",
       "    <tr>\n",
       "      <th>190099</th>\n",
       "      <td>229120</td>\n",
       "      <td>wyoming</td>\n",
       "      <td>male</td>\n",
       "      <td>good</td>\n",
       "      <td>age_45_to_49</td>\n",
       "      <td>1.85</td>\n",
       "      <td>122.470001</td>\n",
       "      <td>35.619999</td>\n",
       "      <td>0</td>\n",
       "      <td>0</td>\n",
       "      <td>...</td>\n",
       "      <td>never_used_e-cigarettes_in_my_entire_life</td>\n",
       "      <td>1</td>\n",
       "      <td>white_only,_non-hispanic</td>\n",
       "      <td>0</td>\n",
       "      <td>0</td>\n",
       "      <td>1</td>\n",
       "      <td>0</td>\n",
       "      <td>yes,_received_tetanus_shot_but_not_sure_what_type</td>\n",
       "      <td>0</td>\n",
       "      <td>1</td>\n",
       "    </tr>\n",
       "    <tr>\n",
       "      <th>190100</th>\n",
       "      <td>5193</td>\n",
       "      <td>arizona</td>\n",
       "      <td>male</td>\n",
       "      <td>poor</td>\n",
       "      <td>age_55_to_59</td>\n",
       "      <td>1.73</td>\n",
       "      <td>74.389999</td>\n",
       "      <td>24.940001</td>\n",
       "      <td>1</td>\n",
       "      <td>0</td>\n",
       "      <td>...</td>\n",
       "      <td>never_used_e-cigarettes_in_my_entire_life</td>\n",
       "      <td>1</td>\n",
       "      <td>white_only,_non-hispanic</td>\n",
       "      <td>1</td>\n",
       "      <td>0</td>\n",
       "      <td>1</td>\n",
       "      <td>0</td>\n",
       "      <td>yes,_received_tetanus_shot_but_not_sure_what_type</td>\n",
       "      <td>0</td>\n",
       "      <td>0</td>\n",
       "    </tr>\n",
       "    <tr>\n",
       "      <th>190101</th>\n",
       "      <td>208781</td>\n",
       "      <td>washington</td>\n",
       "      <td>female</td>\n",
       "      <td>good</td>\n",
       "      <td>age_75_to_79</td>\n",
       "      <td>1.63</td>\n",
       "      <td>77.110001</td>\n",
       "      <td>29.180000</td>\n",
       "      <td>0</td>\n",
       "      <td>0</td>\n",
       "      <td>...</td>\n",
       "      <td>never_used_e-cigarettes_in_my_entire_life</td>\n",
       "      <td>1</td>\n",
       "      <td>white_only,_non-hispanic</td>\n",
       "      <td>1</td>\n",
       "      <td>0</td>\n",
       "      <td>1</td>\n",
       "      <td>1</td>\n",
       "      <td>yes,_received_tdap</td>\n",
       "      <td>0</td>\n",
       "      <td>1</td>\n",
       "    </tr>\n",
       "    <tr>\n",
       "      <th>190102</th>\n",
       "      <td>229612</td>\n",
       "      <td>wisconsin</td>\n",
       "      <td>male</td>\n",
       "      <td>very_good</td>\n",
       "      <td>age_45_to_49</td>\n",
       "      <td>1.78</td>\n",
       "      <td>86.180000</td>\n",
       "      <td>27.260000</td>\n",
       "      <td>0</td>\n",
       "      <td>0</td>\n",
       "      <td>...</td>\n",
       "      <td>never_used_e-cigarettes_in_my_entire_life</td>\n",
       "      <td>0</td>\n",
       "      <td>white_only,_non-hispanic</td>\n",
       "      <td>0</td>\n",
       "      <td>0</td>\n",
       "      <td>1</td>\n",
       "      <td>0</td>\n",
       "      <td>yes,_received_tetanus_shot_but_not_sure_what_type</td>\n",
       "      <td>0</td>\n",
       "      <td>0</td>\n",
       "    </tr>\n",
       "    <tr>\n",
       "      <th>190103</th>\n",
       "      <td>128038</td>\n",
       "      <td>new_hampshire</td>\n",
       "      <td>female</td>\n",
       "      <td>very_good</td>\n",
       "      <td>age_70_to_74</td>\n",
       "      <td>1.73</td>\n",
       "      <td>68.040001</td>\n",
       "      <td>22.809999</td>\n",
       "      <td>0</td>\n",
       "      <td>0</td>\n",
       "      <td>...</td>\n",
       "      <td>never_used_e-cigarettes_in_my_entire_life</td>\n",
       "      <td>0</td>\n",
       "      <td>white_only,_non-hispanic</td>\n",
       "      <td>1</td>\n",
       "      <td>0</td>\n",
       "      <td>1</td>\n",
       "      <td>1</td>\n",
       "      <td>yes,_received_tetanus_shot_but_not_sure_what_type</td>\n",
       "      <td>0</td>\n",
       "      <td>0</td>\n",
       "    </tr>\n",
       "  </tbody>\n",
       "</table>\n",
       "<p>190104 rows × 35 columns</p>\n",
       "</div>"
      ],
      "text/plain": [
       "        patientid          state     sex generalhealth   agecategory  \\\n",
       "0          197268           utah    male          good  age_50_to_54   \n",
       "1           65348           iowa    male          good  age_30_to_34   \n",
       "2          151392   north_dakota  female     excellent  age_30_to_34   \n",
       "3          153527           ohio  female          good  age_55_to_59   \n",
       "4          169328   rhode_island    male     excellent  age_50_to_54   \n",
       "...           ...            ...     ...           ...           ...   \n",
       "190099     229120        wyoming    male          good  age_45_to_49   \n",
       "190100       5193        arizona    male          poor  age_55_to_59   \n",
       "190101     208781     washington  female          good  age_75_to_79   \n",
       "190102     229612      wisconsin    male     very_good  age_45_to_49   \n",
       "190103     128038  new_hampshire  female     very_good  age_70_to_74   \n",
       "\n",
       "        heightinmeters  weightinkilograms        bmi  hadheartattack  \\\n",
       "0                 1.80          79.379997  24.410000               0   \n",
       "1                 1.80          97.519997  29.990000               0   \n",
       "2                 1.68          58.970001  20.980000               0   \n",
       "3                 1.68         127.459999  45.349998               0   \n",
       "4                 1.75          80.739998  26.290001               0   \n",
       "...                ...                ...        ...             ...   \n",
       "190099            1.85         122.470001  35.619999               0   \n",
       "190100            1.73          74.389999  24.940001               1   \n",
       "190101            1.63          77.110001  29.180000               0   \n",
       "190102            1.78          86.180000  27.260000               0   \n",
       "190103            1.73          68.040001  22.809999               0   \n",
       "\n",
       "        hadangina  ...                            ecigaretteusage  chestscan  \\\n",
       "0               0  ...  never_used_e-cigarettes_in_my_entire_life          0   \n",
       "1               0  ...                     not_at_all_(right_now)          0   \n",
       "2               0  ...                         use_them_some_days          1   \n",
       "3               0  ...  never_used_e-cigarettes_in_my_entire_life          0   \n",
       "4               0  ...  never_used_e-cigarettes_in_my_entire_life          0   \n",
       "...           ...  ...                                        ...        ...   \n",
       "190099          0  ...  never_used_e-cigarettes_in_my_entire_life          1   \n",
       "190100          0  ...  never_used_e-cigarettes_in_my_entire_life          1   \n",
       "190101          0  ...  never_used_e-cigarettes_in_my_entire_life          1   \n",
       "190102          0  ...  never_used_e-cigarettes_in_my_entire_life          0   \n",
       "190103          0  ...  never_used_e-cigarettes_in_my_entire_life          0   \n",
       "\n",
       "            raceethnicitycategory  alcoholdrinkers  hivtesting  fluvaxlast12  \\\n",
       "0       multiracial,_non-hispanic                1           0             0   \n",
       "1        white_only,_non-hispanic                1           0             1   \n",
       "2        white_only,_non-hispanic                0           1             0   \n",
       "3        white_only,_non-hispanic                0           0             0   \n",
       "4        white_only,_non-hispanic                1           1             0   \n",
       "...                           ...              ...         ...           ...   \n",
       "190099   white_only,_non-hispanic                0           0             1   \n",
       "190100   white_only,_non-hispanic                1           0             1   \n",
       "190101   white_only,_non-hispanic                1           0             1   \n",
       "190102   white_only,_non-hispanic                0           0             1   \n",
       "190103   white_only,_non-hispanic                1           0             1   \n",
       "\n",
       "        pneumovaxever                                  tetanuslast10tdap  \\\n",
       "0                   0  yes,_received_tetanus_shot_but_not_sure_what_type   \n",
       "1                   0                                 yes,_received_tdap   \n",
       "2                   1                                 yes,_received_tdap   \n",
       "3                   0  no,_did_not_receive_any_tetanus_shot_in_the_pa...   \n",
       "4                   0  yes,_received_tetanus_shot_but_not_sure_what_type   \n",
       "...               ...                                                ...   \n",
       "190099              0  yes,_received_tetanus_shot_but_not_sure_what_type   \n",
       "190100              0  yes,_received_tetanus_shot_but_not_sure_what_type   \n",
       "190101              1                                 yes,_received_tdap   \n",
       "190102              0  yes,_received_tetanus_shot_but_not_sure_what_type   \n",
       "190103              1  yes,_received_tetanus_shot_but_not_sure_what_type   \n",
       "\n",
       "        highrisklastyear  covidpos  \n",
       "0                      0         0  \n",
       "1                      0         0  \n",
       "2                      1         0  \n",
       "3                      0         0  \n",
       "4                      0         0  \n",
       "...                  ...       ...  \n",
       "190099                 0         1  \n",
       "190100                 0         0  \n",
       "190101                 0         1  \n",
       "190102                 0         0  \n",
       "190103                 0         0  \n",
       "\n",
       "[190104 rows x 35 columns]"
      ]
     },
     "execution_count": 238,
     "metadata": {},
     "output_type": "execute_result"
    }
   ],
   "source": [
    "df_full_train"
   ]
  },
  {
   "cell_type": "code",
   "execution_count": 240,
   "id": "46b70933-a7ed-4d5d-a348-5a107197dd7f",
   "metadata": {},
   "outputs": [],
   "source": [
    "dicts_full_train = df_full_train[categorical + numerical].to_dict(orient='records')"
   ]
  },
  {
   "cell_type": "code",
   "execution_count": 242,
   "id": "b5621905-be7d-443b-9865-9319e2676012",
   "metadata": {},
   "outputs": [],
   "source": [
    "dv = DictVectorizer(sparse=False)\n",
    "X_full_train = dv.fit_transform(dicts_full_train)"
   ]
  },
  {
   "cell_type": "code",
   "execution_count": 244,
   "id": "a5d2fc2b-0d22-49bd-92b0-02c9397ad758",
   "metadata": {},
   "outputs": [],
   "source": [
    "y_full_train = df_full_train.hadheartattack.values"
   ]
  },
  {
   "cell_type": "code",
   "execution_count": 246,
   "id": "20410ac6-5314-41b1-b498-810406af5677",
   "metadata": {},
   "outputs": [
    {
     "data": {
      "text/html": [
       "<style>#sk-container-id-4 {\n",
       "  /* Definition of color scheme common for light and dark mode */\n",
       "  --sklearn-color-text: black;\n",
       "  --sklearn-color-line: gray;\n",
       "  /* Definition of color scheme for unfitted estimators */\n",
       "  --sklearn-color-unfitted-level-0: #fff5e6;\n",
       "  --sklearn-color-unfitted-level-1: #f6e4d2;\n",
       "  --sklearn-color-unfitted-level-2: #ffe0b3;\n",
       "  --sklearn-color-unfitted-level-3: chocolate;\n",
       "  /* Definition of color scheme for fitted estimators */\n",
       "  --sklearn-color-fitted-level-0: #f0f8ff;\n",
       "  --sklearn-color-fitted-level-1: #d4ebff;\n",
       "  --sklearn-color-fitted-level-2: #b3dbfd;\n",
       "  --sklearn-color-fitted-level-3: cornflowerblue;\n",
       "\n",
       "  /* Specific color for light theme */\n",
       "  --sklearn-color-text-on-default-background: var(--sg-text-color, var(--theme-code-foreground, var(--jp-content-font-color1, black)));\n",
       "  --sklearn-color-background: var(--sg-background-color, var(--theme-background, var(--jp-layout-color0, white)));\n",
       "  --sklearn-color-border-box: var(--sg-text-color, var(--theme-code-foreground, var(--jp-content-font-color1, black)));\n",
       "  --sklearn-color-icon: #696969;\n",
       "\n",
       "  @media (prefers-color-scheme: dark) {\n",
       "    /* Redefinition of color scheme for dark theme */\n",
       "    --sklearn-color-text-on-default-background: var(--sg-text-color, var(--theme-code-foreground, var(--jp-content-font-color1, white)));\n",
       "    --sklearn-color-background: var(--sg-background-color, var(--theme-background, var(--jp-layout-color0, #111)));\n",
       "    --sklearn-color-border-box: var(--sg-text-color, var(--theme-code-foreground, var(--jp-content-font-color1, white)));\n",
       "    --sklearn-color-icon: #878787;\n",
       "  }\n",
       "}\n",
       "\n",
       "#sk-container-id-4 {\n",
       "  color: var(--sklearn-color-text);\n",
       "}\n",
       "\n",
       "#sk-container-id-4 pre {\n",
       "  padding: 0;\n",
       "}\n",
       "\n",
       "#sk-container-id-4 input.sk-hidden--visually {\n",
       "  border: 0;\n",
       "  clip: rect(1px 1px 1px 1px);\n",
       "  clip: rect(1px, 1px, 1px, 1px);\n",
       "  height: 1px;\n",
       "  margin: -1px;\n",
       "  overflow: hidden;\n",
       "  padding: 0;\n",
       "  position: absolute;\n",
       "  width: 1px;\n",
       "}\n",
       "\n",
       "#sk-container-id-4 div.sk-dashed-wrapped {\n",
       "  border: 1px dashed var(--sklearn-color-line);\n",
       "  margin: 0 0.4em 0.5em 0.4em;\n",
       "  box-sizing: border-box;\n",
       "  padding-bottom: 0.4em;\n",
       "  background-color: var(--sklearn-color-background);\n",
       "}\n",
       "\n",
       "#sk-container-id-4 div.sk-container {\n",
       "  /* jupyter's `normalize.less` sets `[hidden] { display: none; }`\n",
       "     but bootstrap.min.css set `[hidden] { display: none !important; }`\n",
       "     so we also need the `!important` here to be able to override the\n",
       "     default hidden behavior on the sphinx rendered scikit-learn.org.\n",
       "     See: https://github.com/scikit-learn/scikit-learn/issues/21755 */\n",
       "  display: inline-block !important;\n",
       "  position: relative;\n",
       "}\n",
       "\n",
       "#sk-container-id-4 div.sk-text-repr-fallback {\n",
       "  display: none;\n",
       "}\n",
       "\n",
       "div.sk-parallel-item,\n",
       "div.sk-serial,\n",
       "div.sk-item {\n",
       "  /* draw centered vertical line to link estimators */\n",
       "  background-image: linear-gradient(var(--sklearn-color-text-on-default-background), var(--sklearn-color-text-on-default-background));\n",
       "  background-size: 2px 100%;\n",
       "  background-repeat: no-repeat;\n",
       "  background-position: center center;\n",
       "}\n",
       "\n",
       "/* Parallel-specific style estimator block */\n",
       "\n",
       "#sk-container-id-4 div.sk-parallel-item::after {\n",
       "  content: \"\";\n",
       "  width: 100%;\n",
       "  border-bottom: 2px solid var(--sklearn-color-text-on-default-background);\n",
       "  flex-grow: 1;\n",
       "}\n",
       "\n",
       "#sk-container-id-4 div.sk-parallel {\n",
       "  display: flex;\n",
       "  align-items: stretch;\n",
       "  justify-content: center;\n",
       "  background-color: var(--sklearn-color-background);\n",
       "  position: relative;\n",
       "}\n",
       "\n",
       "#sk-container-id-4 div.sk-parallel-item {\n",
       "  display: flex;\n",
       "  flex-direction: column;\n",
       "}\n",
       "\n",
       "#sk-container-id-4 div.sk-parallel-item:first-child::after {\n",
       "  align-self: flex-end;\n",
       "  width: 50%;\n",
       "}\n",
       "\n",
       "#sk-container-id-4 div.sk-parallel-item:last-child::after {\n",
       "  align-self: flex-start;\n",
       "  width: 50%;\n",
       "}\n",
       "\n",
       "#sk-container-id-4 div.sk-parallel-item:only-child::after {\n",
       "  width: 0;\n",
       "}\n",
       "\n",
       "/* Serial-specific style estimator block */\n",
       "\n",
       "#sk-container-id-4 div.sk-serial {\n",
       "  display: flex;\n",
       "  flex-direction: column;\n",
       "  align-items: center;\n",
       "  background-color: var(--sklearn-color-background);\n",
       "  padding-right: 1em;\n",
       "  padding-left: 1em;\n",
       "}\n",
       "\n",
       "\n",
       "/* Toggleable style: style used for estimator/Pipeline/ColumnTransformer box that is\n",
       "clickable and can be expanded/collapsed.\n",
       "- Pipeline and ColumnTransformer use this feature and define the default style\n",
       "- Estimators will overwrite some part of the style using the `sk-estimator` class\n",
       "*/\n",
       "\n",
       "/* Pipeline and ColumnTransformer style (default) */\n",
       "\n",
       "#sk-container-id-4 div.sk-toggleable {\n",
       "  /* Default theme specific background. It is overwritten whether we have a\n",
       "  specific estimator or a Pipeline/ColumnTransformer */\n",
       "  background-color: var(--sklearn-color-background);\n",
       "}\n",
       "\n",
       "/* Toggleable label */\n",
       "#sk-container-id-4 label.sk-toggleable__label {\n",
       "  cursor: pointer;\n",
       "  display: block;\n",
       "  width: 100%;\n",
       "  margin-bottom: 0;\n",
       "  padding: 0.5em;\n",
       "  box-sizing: border-box;\n",
       "  text-align: center;\n",
       "}\n",
       "\n",
       "#sk-container-id-4 label.sk-toggleable__label-arrow:before {\n",
       "  /* Arrow on the left of the label */\n",
       "  content: \"▸\";\n",
       "  float: left;\n",
       "  margin-right: 0.25em;\n",
       "  color: var(--sklearn-color-icon);\n",
       "}\n",
       "\n",
       "#sk-container-id-4 label.sk-toggleable__label-arrow:hover:before {\n",
       "  color: var(--sklearn-color-text);\n",
       "}\n",
       "\n",
       "/* Toggleable content - dropdown */\n",
       "\n",
       "#sk-container-id-4 div.sk-toggleable__content {\n",
       "  max-height: 0;\n",
       "  max-width: 0;\n",
       "  overflow: hidden;\n",
       "  text-align: left;\n",
       "  /* unfitted */\n",
       "  background-color: var(--sklearn-color-unfitted-level-0);\n",
       "}\n",
       "\n",
       "#sk-container-id-4 div.sk-toggleable__content.fitted {\n",
       "  /* fitted */\n",
       "  background-color: var(--sklearn-color-fitted-level-0);\n",
       "}\n",
       "\n",
       "#sk-container-id-4 div.sk-toggleable__content pre {\n",
       "  margin: 0.2em;\n",
       "  border-radius: 0.25em;\n",
       "  color: var(--sklearn-color-text);\n",
       "  /* unfitted */\n",
       "  background-color: var(--sklearn-color-unfitted-level-0);\n",
       "}\n",
       "\n",
       "#sk-container-id-4 div.sk-toggleable__content.fitted pre {\n",
       "  /* unfitted */\n",
       "  background-color: var(--sklearn-color-fitted-level-0);\n",
       "}\n",
       "\n",
       "#sk-container-id-4 input.sk-toggleable__control:checked~div.sk-toggleable__content {\n",
       "  /* Expand drop-down */\n",
       "  max-height: 200px;\n",
       "  max-width: 100%;\n",
       "  overflow: auto;\n",
       "}\n",
       "\n",
       "#sk-container-id-4 input.sk-toggleable__control:checked~label.sk-toggleable__label-arrow:before {\n",
       "  content: \"▾\";\n",
       "}\n",
       "\n",
       "/* Pipeline/ColumnTransformer-specific style */\n",
       "\n",
       "#sk-container-id-4 div.sk-label input.sk-toggleable__control:checked~label.sk-toggleable__label {\n",
       "  color: var(--sklearn-color-text);\n",
       "  background-color: var(--sklearn-color-unfitted-level-2);\n",
       "}\n",
       "\n",
       "#sk-container-id-4 div.sk-label.fitted input.sk-toggleable__control:checked~label.sk-toggleable__label {\n",
       "  background-color: var(--sklearn-color-fitted-level-2);\n",
       "}\n",
       "\n",
       "/* Estimator-specific style */\n",
       "\n",
       "/* Colorize estimator box */\n",
       "#sk-container-id-4 div.sk-estimator input.sk-toggleable__control:checked~label.sk-toggleable__label {\n",
       "  /* unfitted */\n",
       "  background-color: var(--sklearn-color-unfitted-level-2);\n",
       "}\n",
       "\n",
       "#sk-container-id-4 div.sk-estimator.fitted input.sk-toggleable__control:checked~label.sk-toggleable__label {\n",
       "  /* fitted */\n",
       "  background-color: var(--sklearn-color-fitted-level-2);\n",
       "}\n",
       "\n",
       "#sk-container-id-4 div.sk-label label.sk-toggleable__label,\n",
       "#sk-container-id-4 div.sk-label label {\n",
       "  /* The background is the default theme color */\n",
       "  color: var(--sklearn-color-text-on-default-background);\n",
       "}\n",
       "\n",
       "/* On hover, darken the color of the background */\n",
       "#sk-container-id-4 div.sk-label:hover label.sk-toggleable__label {\n",
       "  color: var(--sklearn-color-text);\n",
       "  background-color: var(--sklearn-color-unfitted-level-2);\n",
       "}\n",
       "\n",
       "/* Label box, darken color on hover, fitted */\n",
       "#sk-container-id-4 div.sk-label.fitted:hover label.sk-toggleable__label.fitted {\n",
       "  color: var(--sklearn-color-text);\n",
       "  background-color: var(--sklearn-color-fitted-level-2);\n",
       "}\n",
       "\n",
       "/* Estimator label */\n",
       "\n",
       "#sk-container-id-4 div.sk-label label {\n",
       "  font-family: monospace;\n",
       "  font-weight: bold;\n",
       "  display: inline-block;\n",
       "  line-height: 1.2em;\n",
       "}\n",
       "\n",
       "#sk-container-id-4 div.sk-label-container {\n",
       "  text-align: center;\n",
       "}\n",
       "\n",
       "/* Estimator-specific */\n",
       "#sk-container-id-4 div.sk-estimator {\n",
       "  font-family: monospace;\n",
       "  border: 1px dotted var(--sklearn-color-border-box);\n",
       "  border-radius: 0.25em;\n",
       "  box-sizing: border-box;\n",
       "  margin-bottom: 0.5em;\n",
       "  /* unfitted */\n",
       "  background-color: var(--sklearn-color-unfitted-level-0);\n",
       "}\n",
       "\n",
       "#sk-container-id-4 div.sk-estimator.fitted {\n",
       "  /* fitted */\n",
       "  background-color: var(--sklearn-color-fitted-level-0);\n",
       "}\n",
       "\n",
       "/* on hover */\n",
       "#sk-container-id-4 div.sk-estimator:hover {\n",
       "  /* unfitted */\n",
       "  background-color: var(--sklearn-color-unfitted-level-2);\n",
       "}\n",
       "\n",
       "#sk-container-id-4 div.sk-estimator.fitted:hover {\n",
       "  /* fitted */\n",
       "  background-color: var(--sklearn-color-fitted-level-2);\n",
       "}\n",
       "\n",
       "/* Specification for estimator info (e.g. \"i\" and \"?\") */\n",
       "\n",
       "/* Common style for \"i\" and \"?\" */\n",
       "\n",
       ".sk-estimator-doc-link,\n",
       "a:link.sk-estimator-doc-link,\n",
       "a:visited.sk-estimator-doc-link {\n",
       "  float: right;\n",
       "  font-size: smaller;\n",
       "  line-height: 1em;\n",
       "  font-family: monospace;\n",
       "  background-color: var(--sklearn-color-background);\n",
       "  border-radius: 1em;\n",
       "  height: 1em;\n",
       "  width: 1em;\n",
       "  text-decoration: none !important;\n",
       "  margin-left: 1ex;\n",
       "  /* unfitted */\n",
       "  border: var(--sklearn-color-unfitted-level-1) 1pt solid;\n",
       "  color: var(--sklearn-color-unfitted-level-1);\n",
       "}\n",
       "\n",
       ".sk-estimator-doc-link.fitted,\n",
       "a:link.sk-estimator-doc-link.fitted,\n",
       "a:visited.sk-estimator-doc-link.fitted {\n",
       "  /* fitted */\n",
       "  border: var(--sklearn-color-fitted-level-1) 1pt solid;\n",
       "  color: var(--sklearn-color-fitted-level-1);\n",
       "}\n",
       "\n",
       "/* On hover */\n",
       "div.sk-estimator:hover .sk-estimator-doc-link:hover,\n",
       ".sk-estimator-doc-link:hover,\n",
       "div.sk-label-container:hover .sk-estimator-doc-link:hover,\n",
       ".sk-estimator-doc-link:hover {\n",
       "  /* unfitted */\n",
       "  background-color: var(--sklearn-color-unfitted-level-3);\n",
       "  color: var(--sklearn-color-background);\n",
       "  text-decoration: none;\n",
       "}\n",
       "\n",
       "div.sk-estimator.fitted:hover .sk-estimator-doc-link.fitted:hover,\n",
       ".sk-estimator-doc-link.fitted:hover,\n",
       "div.sk-label-container:hover .sk-estimator-doc-link.fitted:hover,\n",
       ".sk-estimator-doc-link.fitted:hover {\n",
       "  /* fitted */\n",
       "  background-color: var(--sklearn-color-fitted-level-3);\n",
       "  color: var(--sklearn-color-background);\n",
       "  text-decoration: none;\n",
       "}\n",
       "\n",
       "/* Span, style for the box shown on hovering the info icon */\n",
       ".sk-estimator-doc-link span {\n",
       "  display: none;\n",
       "  z-index: 9999;\n",
       "  position: relative;\n",
       "  font-weight: normal;\n",
       "  right: .2ex;\n",
       "  padding: .5ex;\n",
       "  margin: .5ex;\n",
       "  width: min-content;\n",
       "  min-width: 20ex;\n",
       "  max-width: 50ex;\n",
       "  color: var(--sklearn-color-text);\n",
       "  box-shadow: 2pt 2pt 4pt #999;\n",
       "  /* unfitted */\n",
       "  background: var(--sklearn-color-unfitted-level-0);\n",
       "  border: .5pt solid var(--sklearn-color-unfitted-level-3);\n",
       "}\n",
       "\n",
       ".sk-estimator-doc-link.fitted span {\n",
       "  /* fitted */\n",
       "  background: var(--sklearn-color-fitted-level-0);\n",
       "  border: var(--sklearn-color-fitted-level-3);\n",
       "}\n",
       "\n",
       ".sk-estimator-doc-link:hover span {\n",
       "  display: block;\n",
       "}\n",
       "\n",
       "/* \"?\"-specific style due to the `<a>` HTML tag */\n",
       "\n",
       "#sk-container-id-4 a.estimator_doc_link {\n",
       "  float: right;\n",
       "  font-size: 1rem;\n",
       "  line-height: 1em;\n",
       "  font-family: monospace;\n",
       "  background-color: var(--sklearn-color-background);\n",
       "  border-radius: 1rem;\n",
       "  height: 1rem;\n",
       "  width: 1rem;\n",
       "  text-decoration: none;\n",
       "  /* unfitted */\n",
       "  color: var(--sklearn-color-unfitted-level-1);\n",
       "  border: var(--sklearn-color-unfitted-level-1) 1pt solid;\n",
       "}\n",
       "\n",
       "#sk-container-id-4 a.estimator_doc_link.fitted {\n",
       "  /* fitted */\n",
       "  border: var(--sklearn-color-fitted-level-1) 1pt solid;\n",
       "  color: var(--sklearn-color-fitted-level-1);\n",
       "}\n",
       "\n",
       "/* On hover */\n",
       "#sk-container-id-4 a.estimator_doc_link:hover {\n",
       "  /* unfitted */\n",
       "  background-color: var(--sklearn-color-unfitted-level-3);\n",
       "  color: var(--sklearn-color-background);\n",
       "  text-decoration: none;\n",
       "}\n",
       "\n",
       "#sk-container-id-4 a.estimator_doc_link.fitted:hover {\n",
       "  /* fitted */\n",
       "  background-color: var(--sklearn-color-fitted-level-3);\n",
       "}\n",
       "</style><div id=\"sk-container-id-4\" class=\"sk-top-container\"><div class=\"sk-text-repr-fallback\"><pre>LogisticRegression(max_iter=237630)</pre><b>In a Jupyter environment, please rerun this cell to show the HTML representation or trust the notebook. <br />On GitHub, the HTML representation is unable to render, please try loading this page with nbviewer.org.</b></div><div class=\"sk-container\" hidden><div class=\"sk-item\"><div class=\"sk-estimator fitted sk-toggleable\"><input class=\"sk-toggleable__control sk-hidden--visually\" id=\"sk-estimator-id-4\" type=\"checkbox\" checked><label for=\"sk-estimator-id-4\" class=\"sk-toggleable__label fitted sk-toggleable__label-arrow fitted\">&nbsp;&nbsp;LogisticRegression<a class=\"sk-estimator-doc-link fitted\" rel=\"noreferrer\" target=\"_blank\" href=\"https://scikit-learn.org/1.4/modules/generated/sklearn.linear_model.LogisticRegression.html\">?<span>Documentation for LogisticRegression</span></a><span class=\"sk-estimator-doc-link fitted\">i<span>Fitted</span></span></label><div class=\"sk-toggleable__content fitted\"><pre>LogisticRegression(max_iter=237630)</pre></div> </div></div></div></div>"
      ],
      "text/plain": [
       "LogisticRegression(max_iter=237630)"
      ]
     },
     "execution_count": 246,
     "metadata": {},
     "output_type": "execute_result"
    }
   ],
   "source": [
    "model = LogisticRegression(solver='lbfgs', max_iter=237630)\n",
    "model.fit(X_full_train, y_full_train)"
   ]
  },
  {
   "cell_type": "code",
   "execution_count": 247,
   "id": "2729ce01-4a52-4bdd-a8bf-e4075c314b2e",
   "metadata": {},
   "outputs": [],
   "source": [
    "dicts_test = df_test[categorical + numerical].to_dict(orient='records')"
   ]
  },
  {
   "cell_type": "code",
   "execution_count": 250,
   "id": "75ab2168-0166-4772-a306-b7ecc275d85c",
   "metadata": {},
   "outputs": [],
   "source": [
    "X_test = dv.transform(dicts_test)"
   ]
  },
  {
   "cell_type": "code",
   "execution_count": 251,
   "id": "832adca2-326b-485b-a4e1-94cb15c09dcf",
   "metadata": {},
   "outputs": [],
   "source": [
    "y_pred = model.predict_proba(X_test)[:, 1]"
   ]
  },
  {
   "cell_type": "code",
   "execution_count": 254,
   "id": "d809f0a2-1824-4ab3-b59a-a399247382c0",
   "metadata": {},
   "outputs": [],
   "source": [
    "hadheartattack_decision = (y_pred >= 0.5) # For all  with score probability over 0.5, we check that they are going to have hadheartattack"
   ]
  },
  {
   "cell_type": "code",
   "execution_count": 256,
   "id": "2f47515f-aec1-46fe-b4aa-0bf4d8c83196",
   "metadata": {},
   "outputs": [
    {
     "data": {
      "text/plain": [
       "0.9480074064722468"
      ]
     },
     "execution_count": 256,
     "metadata": {},
     "output_type": "execute_result"
    }
   ],
   "source": [
    "(hadheartattack_decision == y_test).mean()"
   ]
  },
  {
   "cell_type": "code",
   "execution_count": 257,
   "id": "17e990a7-4c80-40e3-89fd-c6e19d0517f8",
   "metadata": {},
   "outputs": [
    {
     "data": {
      "text/plain": [
       "array([0, 0, 0, ..., 0, 0, 0], dtype=int64)"
      ]
     },
     "execution_count": 257,
     "metadata": {},
     "output_type": "execute_result"
    }
   ],
   "source": [
    "y_test"
   ]
  },
  {
   "cell_type": "code",
   "execution_count": 258,
   "id": "a0a397cd-e8fc-481c-a410-a3635cf55fa4",
   "metadata": {},
   "outputs": [
    {
     "data": {
      "text/plain": [
       "{'state': 'wyoming',\n",
       " 'sex': 'male',\n",
       " 'generalhealth': 'fair',\n",
       " 'agecategory': 'age_35_to_39',\n",
       " 'haddiabetes': 'no',\n",
       " 'smokerstatus': 'former_smoker',\n",
       " 'ecigaretteusage': 'not_at_all_(right_now)',\n",
       " 'raceethnicitycategory': 'white_only,_non-hispanic',\n",
       " 'tetanuslast10tdap': 'no,_did_not_receive_any_tetanus_shot_in_the_past_10_years',\n",
       " 'heightinmeters': 1.75,\n",
       " 'weightinkilograms': 133.809997558594,\n",
       " 'bmi': 43.560001373291,\n",
       " 'hadangina': 0,\n",
       " 'hadstroke': 0,\n",
       " 'hadasthma': 0,\n",
       " 'hadskincancer': 0,\n",
       " 'hadcopd': 0,\n",
       " 'haddepressivedisorder': 1,\n",
       " 'hadkidneydisease': 0,\n",
       " 'hadarthritis': 0,\n",
       " 'deaforhardofhearing': 0,\n",
       " 'blindorvisiondifficulty': 0,\n",
       " 'difficultyconcentrating': 0,\n",
       " 'difficultywalking': 0,\n",
       " 'difficultydressingbathing': 0,\n",
       " 'difficultyerrands': 0,\n",
       " 'chestscan': 0,\n",
       " 'alcoholdrinkers': 1,\n",
       " 'hivtesting': 0,\n",
       " 'fluvaxlast12': 0,\n",
       " 'pneumovaxever': 0,\n",
       " 'highrisklastyear': 1,\n",
       " 'covidpos': 1}"
      ]
     },
     "execution_count": 258,
     "metadata": {},
     "output_type": "execute_result"
    }
   ],
   "source": [
    "patient = dicts_test[-1] # Let's take any customer\n",
    "patient"
   ]
  },
  {
   "cell_type": "code",
   "execution_count": 262,
   "id": "b26b2476-3842-4f2a-94f0-0bc4a5efb419",
   "metadata": {},
   "outputs": [],
   "source": [
    "X_small = dv.transform([patient])"
   ]
  },
  {
   "cell_type": "code",
   "execution_count": 264,
   "id": "901e3a0d-7971-447a-893a-d375d14b31dd",
   "metadata": {},
   "outputs": [
    {
     "data": {
      "text/plain": [
       "0.012058472991070901"
      ]
     },
     "execution_count": 264,
     "metadata": {},
     "output_type": "execute_result"
    }
   ],
   "source": [
    "model.predict_proba(X_small)[0, 1]"
   ]
  },
  {
   "cell_type": "code",
   "execution_count": 265,
   "id": "a02a23d3-b55e-4074-a6a2-9d7bd55d790c",
   "metadata": {},
   "outputs": [
    {
     "data": {
      "text/plain": [
       "0"
      ]
     },
     "execution_count": 265,
     "metadata": {},
     "output_type": "execute_result"
    }
   ],
   "source": [
    "y_test[-1]"
   ]
  },
  {
   "cell_type": "markdown",
   "id": "0cd10366-925b-4229-9274-a2f02f9199bc",
   "metadata": {},
   "source": [
    "##  All the model"
   ]
  },
  {
   "cell_type": "code",
   "execution_count": 269,
   "id": "b3dfa0de-b3ae-404f-aca8-0dc1b0fbc75c",
   "metadata": {},
   "outputs": [
    {
     "data": {
      "text/html": [
       "<style>#sk-container-id-5 {\n",
       "  /* Definition of color scheme common for light and dark mode */\n",
       "  --sklearn-color-text: black;\n",
       "  --sklearn-color-line: gray;\n",
       "  /* Definition of color scheme for unfitted estimators */\n",
       "  --sklearn-color-unfitted-level-0: #fff5e6;\n",
       "  --sklearn-color-unfitted-level-1: #f6e4d2;\n",
       "  --sklearn-color-unfitted-level-2: #ffe0b3;\n",
       "  --sklearn-color-unfitted-level-3: chocolate;\n",
       "  /* Definition of color scheme for fitted estimators */\n",
       "  --sklearn-color-fitted-level-0: #f0f8ff;\n",
       "  --sklearn-color-fitted-level-1: #d4ebff;\n",
       "  --sklearn-color-fitted-level-2: #b3dbfd;\n",
       "  --sklearn-color-fitted-level-3: cornflowerblue;\n",
       "\n",
       "  /* Specific color for light theme */\n",
       "  --sklearn-color-text-on-default-background: var(--sg-text-color, var(--theme-code-foreground, var(--jp-content-font-color1, black)));\n",
       "  --sklearn-color-background: var(--sg-background-color, var(--theme-background, var(--jp-layout-color0, white)));\n",
       "  --sklearn-color-border-box: var(--sg-text-color, var(--theme-code-foreground, var(--jp-content-font-color1, black)));\n",
       "  --sklearn-color-icon: #696969;\n",
       "\n",
       "  @media (prefers-color-scheme: dark) {\n",
       "    /* Redefinition of color scheme for dark theme */\n",
       "    --sklearn-color-text-on-default-background: var(--sg-text-color, var(--theme-code-foreground, var(--jp-content-font-color1, white)));\n",
       "    --sklearn-color-background: var(--sg-background-color, var(--theme-background, var(--jp-layout-color0, #111)));\n",
       "    --sklearn-color-border-box: var(--sg-text-color, var(--theme-code-foreground, var(--jp-content-font-color1, white)));\n",
       "    --sklearn-color-icon: #878787;\n",
       "  }\n",
       "}\n",
       "\n",
       "#sk-container-id-5 {\n",
       "  color: var(--sklearn-color-text);\n",
       "}\n",
       "\n",
       "#sk-container-id-5 pre {\n",
       "  padding: 0;\n",
       "}\n",
       "\n",
       "#sk-container-id-5 input.sk-hidden--visually {\n",
       "  border: 0;\n",
       "  clip: rect(1px 1px 1px 1px);\n",
       "  clip: rect(1px, 1px, 1px, 1px);\n",
       "  height: 1px;\n",
       "  margin: -1px;\n",
       "  overflow: hidden;\n",
       "  padding: 0;\n",
       "  position: absolute;\n",
       "  width: 1px;\n",
       "}\n",
       "\n",
       "#sk-container-id-5 div.sk-dashed-wrapped {\n",
       "  border: 1px dashed var(--sklearn-color-line);\n",
       "  margin: 0 0.4em 0.5em 0.4em;\n",
       "  box-sizing: border-box;\n",
       "  padding-bottom: 0.4em;\n",
       "  background-color: var(--sklearn-color-background);\n",
       "}\n",
       "\n",
       "#sk-container-id-5 div.sk-container {\n",
       "  /* jupyter's `normalize.less` sets `[hidden] { display: none; }`\n",
       "     but bootstrap.min.css set `[hidden] { display: none !important; }`\n",
       "     so we also need the `!important` here to be able to override the\n",
       "     default hidden behavior on the sphinx rendered scikit-learn.org.\n",
       "     See: https://github.com/scikit-learn/scikit-learn/issues/21755 */\n",
       "  display: inline-block !important;\n",
       "  position: relative;\n",
       "}\n",
       "\n",
       "#sk-container-id-5 div.sk-text-repr-fallback {\n",
       "  display: none;\n",
       "}\n",
       "\n",
       "div.sk-parallel-item,\n",
       "div.sk-serial,\n",
       "div.sk-item {\n",
       "  /* draw centered vertical line to link estimators */\n",
       "  background-image: linear-gradient(var(--sklearn-color-text-on-default-background), var(--sklearn-color-text-on-default-background));\n",
       "  background-size: 2px 100%;\n",
       "  background-repeat: no-repeat;\n",
       "  background-position: center center;\n",
       "}\n",
       "\n",
       "/* Parallel-specific style estimator block */\n",
       "\n",
       "#sk-container-id-5 div.sk-parallel-item::after {\n",
       "  content: \"\";\n",
       "  width: 100%;\n",
       "  border-bottom: 2px solid var(--sklearn-color-text-on-default-background);\n",
       "  flex-grow: 1;\n",
       "}\n",
       "\n",
       "#sk-container-id-5 div.sk-parallel {\n",
       "  display: flex;\n",
       "  align-items: stretch;\n",
       "  justify-content: center;\n",
       "  background-color: var(--sklearn-color-background);\n",
       "  position: relative;\n",
       "}\n",
       "\n",
       "#sk-container-id-5 div.sk-parallel-item {\n",
       "  display: flex;\n",
       "  flex-direction: column;\n",
       "}\n",
       "\n",
       "#sk-container-id-5 div.sk-parallel-item:first-child::after {\n",
       "  align-self: flex-end;\n",
       "  width: 50%;\n",
       "}\n",
       "\n",
       "#sk-container-id-5 div.sk-parallel-item:last-child::after {\n",
       "  align-self: flex-start;\n",
       "  width: 50%;\n",
       "}\n",
       "\n",
       "#sk-container-id-5 div.sk-parallel-item:only-child::after {\n",
       "  width: 0;\n",
       "}\n",
       "\n",
       "/* Serial-specific style estimator block */\n",
       "\n",
       "#sk-container-id-5 div.sk-serial {\n",
       "  display: flex;\n",
       "  flex-direction: column;\n",
       "  align-items: center;\n",
       "  background-color: var(--sklearn-color-background);\n",
       "  padding-right: 1em;\n",
       "  padding-left: 1em;\n",
       "}\n",
       "\n",
       "\n",
       "/* Toggleable style: style used for estimator/Pipeline/ColumnTransformer box that is\n",
       "clickable and can be expanded/collapsed.\n",
       "- Pipeline and ColumnTransformer use this feature and define the default style\n",
       "- Estimators will overwrite some part of the style using the `sk-estimator` class\n",
       "*/\n",
       "\n",
       "/* Pipeline and ColumnTransformer style (default) */\n",
       "\n",
       "#sk-container-id-5 div.sk-toggleable {\n",
       "  /* Default theme specific background. It is overwritten whether we have a\n",
       "  specific estimator or a Pipeline/ColumnTransformer */\n",
       "  background-color: var(--sklearn-color-background);\n",
       "}\n",
       "\n",
       "/* Toggleable label */\n",
       "#sk-container-id-5 label.sk-toggleable__label {\n",
       "  cursor: pointer;\n",
       "  display: block;\n",
       "  width: 100%;\n",
       "  margin-bottom: 0;\n",
       "  padding: 0.5em;\n",
       "  box-sizing: border-box;\n",
       "  text-align: center;\n",
       "}\n",
       "\n",
       "#sk-container-id-5 label.sk-toggleable__label-arrow:before {\n",
       "  /* Arrow on the left of the label */\n",
       "  content: \"▸\";\n",
       "  float: left;\n",
       "  margin-right: 0.25em;\n",
       "  color: var(--sklearn-color-icon);\n",
       "}\n",
       "\n",
       "#sk-container-id-5 label.sk-toggleable__label-arrow:hover:before {\n",
       "  color: var(--sklearn-color-text);\n",
       "}\n",
       "\n",
       "/* Toggleable content - dropdown */\n",
       "\n",
       "#sk-container-id-5 div.sk-toggleable__content {\n",
       "  max-height: 0;\n",
       "  max-width: 0;\n",
       "  overflow: hidden;\n",
       "  text-align: left;\n",
       "  /* unfitted */\n",
       "  background-color: var(--sklearn-color-unfitted-level-0);\n",
       "}\n",
       "\n",
       "#sk-container-id-5 div.sk-toggleable__content.fitted {\n",
       "  /* fitted */\n",
       "  background-color: var(--sklearn-color-fitted-level-0);\n",
       "}\n",
       "\n",
       "#sk-container-id-5 div.sk-toggleable__content pre {\n",
       "  margin: 0.2em;\n",
       "  border-radius: 0.25em;\n",
       "  color: var(--sklearn-color-text);\n",
       "  /* unfitted */\n",
       "  background-color: var(--sklearn-color-unfitted-level-0);\n",
       "}\n",
       "\n",
       "#sk-container-id-5 div.sk-toggleable__content.fitted pre {\n",
       "  /* unfitted */\n",
       "  background-color: var(--sklearn-color-fitted-level-0);\n",
       "}\n",
       "\n",
       "#sk-container-id-5 input.sk-toggleable__control:checked~div.sk-toggleable__content {\n",
       "  /* Expand drop-down */\n",
       "  max-height: 200px;\n",
       "  max-width: 100%;\n",
       "  overflow: auto;\n",
       "}\n",
       "\n",
       "#sk-container-id-5 input.sk-toggleable__control:checked~label.sk-toggleable__label-arrow:before {\n",
       "  content: \"▾\";\n",
       "}\n",
       "\n",
       "/* Pipeline/ColumnTransformer-specific style */\n",
       "\n",
       "#sk-container-id-5 div.sk-label input.sk-toggleable__control:checked~label.sk-toggleable__label {\n",
       "  color: var(--sklearn-color-text);\n",
       "  background-color: var(--sklearn-color-unfitted-level-2);\n",
       "}\n",
       "\n",
       "#sk-container-id-5 div.sk-label.fitted input.sk-toggleable__control:checked~label.sk-toggleable__label {\n",
       "  background-color: var(--sklearn-color-fitted-level-2);\n",
       "}\n",
       "\n",
       "/* Estimator-specific style */\n",
       "\n",
       "/* Colorize estimator box */\n",
       "#sk-container-id-5 div.sk-estimator input.sk-toggleable__control:checked~label.sk-toggleable__label {\n",
       "  /* unfitted */\n",
       "  background-color: var(--sklearn-color-unfitted-level-2);\n",
       "}\n",
       "\n",
       "#sk-container-id-5 div.sk-estimator.fitted input.sk-toggleable__control:checked~label.sk-toggleable__label {\n",
       "  /* fitted */\n",
       "  background-color: var(--sklearn-color-fitted-level-2);\n",
       "}\n",
       "\n",
       "#sk-container-id-5 div.sk-label label.sk-toggleable__label,\n",
       "#sk-container-id-5 div.sk-label label {\n",
       "  /* The background is the default theme color */\n",
       "  color: var(--sklearn-color-text-on-default-background);\n",
       "}\n",
       "\n",
       "/* On hover, darken the color of the background */\n",
       "#sk-container-id-5 div.sk-label:hover label.sk-toggleable__label {\n",
       "  color: var(--sklearn-color-text);\n",
       "  background-color: var(--sklearn-color-unfitted-level-2);\n",
       "}\n",
       "\n",
       "/* Label box, darken color on hover, fitted */\n",
       "#sk-container-id-5 div.sk-label.fitted:hover label.sk-toggleable__label.fitted {\n",
       "  color: var(--sklearn-color-text);\n",
       "  background-color: var(--sklearn-color-fitted-level-2);\n",
       "}\n",
       "\n",
       "/* Estimator label */\n",
       "\n",
       "#sk-container-id-5 div.sk-label label {\n",
       "  font-family: monospace;\n",
       "  font-weight: bold;\n",
       "  display: inline-block;\n",
       "  line-height: 1.2em;\n",
       "}\n",
       "\n",
       "#sk-container-id-5 div.sk-label-container {\n",
       "  text-align: center;\n",
       "}\n",
       "\n",
       "/* Estimator-specific */\n",
       "#sk-container-id-5 div.sk-estimator {\n",
       "  font-family: monospace;\n",
       "  border: 1px dotted var(--sklearn-color-border-box);\n",
       "  border-radius: 0.25em;\n",
       "  box-sizing: border-box;\n",
       "  margin-bottom: 0.5em;\n",
       "  /* unfitted */\n",
       "  background-color: var(--sklearn-color-unfitted-level-0);\n",
       "}\n",
       "\n",
       "#sk-container-id-5 div.sk-estimator.fitted {\n",
       "  /* fitted */\n",
       "  background-color: var(--sklearn-color-fitted-level-0);\n",
       "}\n",
       "\n",
       "/* on hover */\n",
       "#sk-container-id-5 div.sk-estimator:hover {\n",
       "  /* unfitted */\n",
       "  background-color: var(--sklearn-color-unfitted-level-2);\n",
       "}\n",
       "\n",
       "#sk-container-id-5 div.sk-estimator.fitted:hover {\n",
       "  /* fitted */\n",
       "  background-color: var(--sklearn-color-fitted-level-2);\n",
       "}\n",
       "\n",
       "/* Specification for estimator info (e.g. \"i\" and \"?\") */\n",
       "\n",
       "/* Common style for \"i\" and \"?\" */\n",
       "\n",
       ".sk-estimator-doc-link,\n",
       "a:link.sk-estimator-doc-link,\n",
       "a:visited.sk-estimator-doc-link {\n",
       "  float: right;\n",
       "  font-size: smaller;\n",
       "  line-height: 1em;\n",
       "  font-family: monospace;\n",
       "  background-color: var(--sklearn-color-background);\n",
       "  border-radius: 1em;\n",
       "  height: 1em;\n",
       "  width: 1em;\n",
       "  text-decoration: none !important;\n",
       "  margin-left: 1ex;\n",
       "  /* unfitted */\n",
       "  border: var(--sklearn-color-unfitted-level-1) 1pt solid;\n",
       "  color: var(--sklearn-color-unfitted-level-1);\n",
       "}\n",
       "\n",
       ".sk-estimator-doc-link.fitted,\n",
       "a:link.sk-estimator-doc-link.fitted,\n",
       "a:visited.sk-estimator-doc-link.fitted {\n",
       "  /* fitted */\n",
       "  border: var(--sklearn-color-fitted-level-1) 1pt solid;\n",
       "  color: var(--sklearn-color-fitted-level-1);\n",
       "}\n",
       "\n",
       "/* On hover */\n",
       "div.sk-estimator:hover .sk-estimator-doc-link:hover,\n",
       ".sk-estimator-doc-link:hover,\n",
       "div.sk-label-container:hover .sk-estimator-doc-link:hover,\n",
       ".sk-estimator-doc-link:hover {\n",
       "  /* unfitted */\n",
       "  background-color: var(--sklearn-color-unfitted-level-3);\n",
       "  color: var(--sklearn-color-background);\n",
       "  text-decoration: none;\n",
       "}\n",
       "\n",
       "div.sk-estimator.fitted:hover .sk-estimator-doc-link.fitted:hover,\n",
       ".sk-estimator-doc-link.fitted:hover,\n",
       "div.sk-label-container:hover .sk-estimator-doc-link.fitted:hover,\n",
       ".sk-estimator-doc-link.fitted:hover {\n",
       "  /* fitted */\n",
       "  background-color: var(--sklearn-color-fitted-level-3);\n",
       "  color: var(--sklearn-color-background);\n",
       "  text-decoration: none;\n",
       "}\n",
       "\n",
       "/* Span, style for the box shown on hovering the info icon */\n",
       ".sk-estimator-doc-link span {\n",
       "  display: none;\n",
       "  z-index: 9999;\n",
       "  position: relative;\n",
       "  font-weight: normal;\n",
       "  right: .2ex;\n",
       "  padding: .5ex;\n",
       "  margin: .5ex;\n",
       "  width: min-content;\n",
       "  min-width: 20ex;\n",
       "  max-width: 50ex;\n",
       "  color: var(--sklearn-color-text);\n",
       "  box-shadow: 2pt 2pt 4pt #999;\n",
       "  /* unfitted */\n",
       "  background: var(--sklearn-color-unfitted-level-0);\n",
       "  border: .5pt solid var(--sklearn-color-unfitted-level-3);\n",
       "}\n",
       "\n",
       ".sk-estimator-doc-link.fitted span {\n",
       "  /* fitted */\n",
       "  background: var(--sklearn-color-fitted-level-0);\n",
       "  border: var(--sklearn-color-fitted-level-3);\n",
       "}\n",
       "\n",
       ".sk-estimator-doc-link:hover span {\n",
       "  display: block;\n",
       "}\n",
       "\n",
       "/* \"?\"-specific style due to the `<a>` HTML tag */\n",
       "\n",
       "#sk-container-id-5 a.estimator_doc_link {\n",
       "  float: right;\n",
       "  font-size: 1rem;\n",
       "  line-height: 1em;\n",
       "  font-family: monospace;\n",
       "  background-color: var(--sklearn-color-background);\n",
       "  border-radius: 1rem;\n",
       "  height: 1rem;\n",
       "  width: 1rem;\n",
       "  text-decoration: none;\n",
       "  /* unfitted */\n",
       "  color: var(--sklearn-color-unfitted-level-1);\n",
       "  border: var(--sklearn-color-unfitted-level-1) 1pt solid;\n",
       "}\n",
       "\n",
       "#sk-container-id-5 a.estimator_doc_link.fitted {\n",
       "  /* fitted */\n",
       "  border: var(--sklearn-color-fitted-level-1) 1pt solid;\n",
       "  color: var(--sklearn-color-fitted-level-1);\n",
       "}\n",
       "\n",
       "/* On hover */\n",
       "#sk-container-id-5 a.estimator_doc_link:hover {\n",
       "  /* unfitted */\n",
       "  background-color: var(--sklearn-color-unfitted-level-3);\n",
       "  color: var(--sklearn-color-background);\n",
       "  text-decoration: none;\n",
       "}\n",
       "\n",
       "#sk-container-id-5 a.estimator_doc_link.fitted:hover {\n",
       "  /* fitted */\n",
       "  background-color: var(--sklearn-color-fitted-level-3);\n",
       "}\n",
       "</style><div id=\"sk-container-id-5\" class=\"sk-top-container\"><div class=\"sk-text-repr-fallback\"><pre>LogisticRegression(max_iter=237630)</pre><b>In a Jupyter environment, please rerun this cell to show the HTML representation or trust the notebook. <br />On GitHub, the HTML representation is unable to render, please try loading this page with nbviewer.org.</b></div><div class=\"sk-container\" hidden><div class=\"sk-item\"><div class=\"sk-estimator fitted sk-toggleable\"><input class=\"sk-toggleable__control sk-hidden--visually\" id=\"sk-estimator-id-5\" type=\"checkbox\" checked><label for=\"sk-estimator-id-5\" class=\"sk-toggleable__label fitted sk-toggleable__label-arrow fitted\">&nbsp;&nbsp;LogisticRegression<a class=\"sk-estimator-doc-link fitted\" rel=\"noreferrer\" target=\"_blank\" href=\"https://scikit-learn.org/1.4/modules/generated/sklearn.linear_model.LogisticRegression.html\">?<span>Documentation for LogisticRegression</span></a><span class=\"sk-estimator-doc-link fitted\">i<span>Fitted</span></span></label><div class=\"sk-toggleable__content fitted\"><pre>LogisticRegression(max_iter=237630)</pre></div> </div></div></div></div>"
      ],
      "text/plain": [
       "LogisticRegression(max_iter=237630)"
      ]
     },
     "execution_count": 269,
     "metadata": {},
     "output_type": "execute_result"
    }
   ],
   "source": [
    "dv = DictVectorizer(sparse=False)\n",
    "\n",
    "train_dict = df_train[categorical + numerical].to_dict(orient='records')\n",
    "X_train = dv.fit_transform(train_dict)\n",
    "\n",
    "model = LogisticRegression(solver='lbfgs', max_iter=237630) # solver='lbfgs', max_iter=500 (selon le shape)\n",
    "model.fit(X_train, y_train)"
   ]
  },
  {
   "cell_type": "code",
   "execution_count": 271,
   "id": "c4ba1324-50b8-42f1-87b0-2aed65fae88d",
   "metadata": {},
   "outputs": [
    {
     "data": {
      "text/plain": [
       "0.947207844127425"
      ]
     },
     "execution_count": 271,
     "metadata": {},
     "output_type": "execute_result"
    }
   ],
   "source": [
    "val_dict = df_val[categorical + numerical].to_dict(orient='records')\n",
    "X_val = dv.transform(val_dict)\n",
    "\n",
    "y_pred = model.predict_proba(X_val)[:, 1]\n",
    "hadheartattack_decision = (y_pred >= 0.5) # Treshold = 0.5\n",
    "(y_val == hadheartattack_decision).mean()"
   ]
  },
  {
   "cell_type": "markdown",
   "id": "84d9ea05-f236-4649-a9e5-35ba96409465",
   "metadata": {},
   "source": [
    "## 4.2 Accuracy and dummy model"
   ]
  },
  {
   "cell_type": "code",
   "execution_count": 274,
   "id": "3563c49a-11ea-4b54-a7e9-966cbc36d5d9",
   "metadata": {},
   "outputs": [
    {
     "data": {
      "text/plain": [
       "47526"
      ]
     },
     "execution_count": 274,
     "metadata": {},
     "output_type": "execute_result"
    }
   ],
   "source": [
    "len(y_val)"
   ]
  },
  {
   "cell_type": "code",
   "execution_count": 276,
   "id": "e23d0b4f-ac05-4153-9ba4-e2603c431f78",
   "metadata": {},
   "outputs": [
    {
     "data": {
      "text/plain": [
       "0.947207844127425"
      ]
     },
     "execution_count": 276,
     "metadata": {},
     "output_type": "execute_result"
    }
   ],
   "source": [
    "(y_val == hadheartattack_decision).mean()"
   ]
  },
  {
   "cell_type": "code",
   "execution_count": 278,
   "id": "be177e0d-3eae-4f94-b0c7-6e3dab52682c",
   "metadata": {},
   "outputs": [],
   "source": [
    "from sklearn.metrics import accuracy_score"
   ]
  },
  {
   "cell_type": "code",
   "execution_count": 280,
   "id": "ca128bc6-e9db-4877-827b-5bcc27f4b3d5",
   "metadata": {},
   "outputs": [
    {
     "data": {
      "text/plain": [
       "0.947207844127425"
      ]
     },
     "execution_count": 280,
     "metadata": {},
     "output_type": "execute_result"
    }
   ],
   "source": [
    "accuracy_score(y_val, y_pred >= 0.5)"
   ]
  },
  {
   "cell_type": "code",
   "execution_count": 282,
   "id": "2854887e-4b2a-4157-bd4c-e37344c91c49",
   "metadata": {},
   "outputs": [
    {
     "name": "stdout",
     "output_type": "stream",
     "text": [
      "0.00 0.056\n",
      "0.03 0.722\n",
      "0.07 0.864\n",
      "0.10 0.910\n",
      "0.14 0.927\n",
      "0.17 0.935\n",
      "0.21 0.939\n",
      "0.24 0.942\n",
      "0.28 0.943\n",
      "0.31 0.944\n",
      "0.34 0.945\n",
      "0.38 0.946\n",
      "0.41 0.947\n",
      "0.45 0.947\n",
      "0.48 0.947\n",
      "0.52 0.947\n",
      "0.55 0.947\n",
      "0.59 0.947\n",
      "0.62 0.947\n",
      "0.66 0.947\n",
      "0.69 0.947\n",
      "0.72 0.946\n",
      "0.76 0.945\n",
      "0.79 0.945\n",
      "0.83 0.944\n",
      "0.86 0.944\n",
      "0.90 0.944\n",
      "0.93 0.944\n",
      "0.97 0.944\n",
      "1.00 0.944\n"
     ]
    }
   ],
   "source": [
    "thresholds = np.linspace(0, 1, 30)\n",
    "\n",
    "scores = []\n",
    "\n",
    "for t in thresholds:\n",
    "    score = accuracy_score(y_val, y_pred >= t)\n",
    "    print('%.2f %.3f' % (t, score))\n",
    "    scores.append(score)"
   ]
  },
  {
   "cell_type": "code",
   "execution_count": 283,
   "id": "f116b6a7-f50d-4f1b-9c16-6fd5f310c3b3",
   "metadata": {},
   "outputs": [
    {
     "data": {
      "text/plain": [
       "[<matplotlib.lines.Line2D at 0x1c2607c1f70>]"
      ]
     },
     "execution_count": 283,
     "metadata": {},
     "output_type": "execute_result"
    },
    {
     "data": {
      "image/png": "[encoded data removed]",
      "text/plain": [
       "<Figure size 640x480 with 1 Axes>"
      ]
     },
     "metadata": {},
     "output_type": "display_data"
    }
   ],
   "source": [
    "plt.plot(thresholds, scores)"
   ]
  },
  {
   "cell_type": "code",
   "execution_count": 286,
   "id": "1c691769-5865-40a9-b0ca-23f1d78ddde2",
   "metadata": {},
   "outputs": [],
   "source": [
    "from collections import Counter"
   ]
  },
  {
   "cell_type": "code",
   "execution_count": 288,
   "id": "cb6acee2-4b06-4b4e-a6f3-135189623e2b",
   "metadata": {},
   "outputs": [
    {
     "data": {
      "text/plain": [
       "Counter({False: 47526})"
      ]
     },
     "execution_count": 288,
     "metadata": {},
     "output_type": "execute_result"
    }
   ],
   "source": [
    "Counter(y_pred >= 1.0)"
   ]
  },
  {
   "cell_type": "code",
   "execution_count": 290,
   "id": "b5ecb60b-a6e2-4c39-aeaf-def2317dde77",
   "metadata": {},
   "outputs": [
    {
     "data": {
      "text/plain": [
       "0.05620081639523629"
      ]
     },
     "execution_count": 290,
     "metadata": {},
     "output_type": "execute_result"
    }
   ],
   "source": [
    " y_val.mean() # 5,6% OF PATIENTS have heartattack from prediction"
   ]
  },
  {
   "cell_type": "code",
   "execution_count": 292,
   "id": "cc25ada7-e765-44af-93cb-9a25e279ec57",
   "metadata": {},
   "outputs": [
    {
     "data": {
      "text/plain": [
       "0.9437991836047637"
      ]
     },
     "execution_count": 292,
     "metadata": {},
     "output_type": "execute_result"
    }
   ],
   "source": [
    "1 - y_val.mean() # 94% OF PATIENTS  not having heart attack rom predicton"
   ]
  },
  {
   "cell_type": "markdown",
   "id": "1ab436c8-54e5-4de0-bb05-af1ea8e0d776",
   "metadata": {},
   "source": [
    "## 4.3 Confusion table\n",
    "\n",
    "* Different types of errors and correct decisions\n",
    "* Arranging them in a table"
   ]
  },
  {
   "cell_type": "code",
   "execution_count": 295,
   "id": "4f717ea2-fcfb-4a2f-bdb8-6791abcedff9",
   "metadata": {},
   "outputs": [],
   "source": [
    "actual_positive = (y_val == 1)\n",
    "actual_negative = (y_val == 0)"
   ]
  },
  {
   "cell_type": "code",
   "execution_count": 296,
   "id": "27428f85-29ac-466e-a4c5-3f7d4319c7db",
   "metadata": {},
   "outputs": [],
   "source": [
    "t = 0.5\n",
    "predict_positive = (y_pred >= t)\n",
    "predict_negative = (y_pred < t)"
   ]
  },
  {
   "cell_type": "code",
   "execution_count": 299,
   "id": "d8a1ba4c-d05f-42f8-894c-abb1ed8a119e",
   "metadata": {},
   "outputs": [],
   "source": [
    "tp = (predict_positive & actual_positive).sum()\n",
    "tn = (predict_negative & actual_negative).sum()\n",
    "\n",
    "fp = (predict_positive & actual_negative).sum()\n",
    "fn = (predict_negative & actual_positive).sum()"
   ]
  },
  {
   "cell_type": "code",
   "execution_count": 300,
   "id": "e07c27ac-1341-4d38-96ba-d8b140a39cdb",
   "metadata": {},
   "outputs": [
    {
     "data": {
      "text/plain": [
       "array([[44334,   521],\n",
       "       [ 1988,   683]])"
      ]
     },
     "execution_count": 300,
     "metadata": {},
     "output_type": "execute_result"
    }
   ],
   "source": [
    "confusion_matrix = np.array([\n",
    "    [tn, fp],\n",
    "    [fn, tp]\n",
    "])\n",
    "confusion_matrix"
   ]
  },
  {
   "cell_type": "code",
   "execution_count": 303,
   "id": "22182b07-2ebc-4ee2-872d-062f1948a946",
   "metadata": {},
   "outputs": [
    {
     "data": {
      "text/plain": [
       "array([[0.93, 0.01],\n",
       "       [0.04, 0.01]])"
      ]
     },
     "execution_count": 303,
     "metadata": {},
     "output_type": "execute_result"
    }
   ],
   "source": [
    "(confusion_matrix / confusion_matrix.sum()).round(2)"
   ]
  },
  {
   "cell_type": "markdown",
   "id": "83614199-8485-406b-8ce2-b56e5771b292",
   "metadata": {},
   "source": [
    "## 4.4 Precision "
   ]
  },
  {
   "cell_type": "code",
   "execution_count": 306,
   "id": "caf7a925-4b28-411c-ab3f-b3fb14de0430",
   "metadata": {},
   "outputs": [
    {
     "data": {
      "text/plain": [
       "0.5672757475083057"
      ]
     },
     "execution_count": 306,
     "metadata": {},
     "output_type": "execute_result"
    }
   ],
   "source": [
    "p = tp / (tp + fp)\n",
    "p  # % PATIENTS have heartattack from prediction"
   ]
  },
  {
   "cell_type": "markdown",
   "id": "8294d61e-9c01-4b07-9436-ad1a72e9eda3",
   "metadata": {},
   "source": [
    "##  Recall"
   ]
  },
  {
   "cell_type": "code",
   "execution_count": 309,
   "id": "d2ecc7f1-6c33-498a-94da-a16006b2beed",
   "metadata": {},
   "outputs": [
    {
     "data": {
      "text/plain": [
       "0.2557094721078248"
      ]
     },
     "execution_count": 309,
     "metadata": {},
     "output_type": "execute_result"
    }
   ],
   "source": [
    "r = tp / (tp + fn)\n",
    "r  # % PATIENTS who have not  heartattack from prediction"
   ]
  },
  {
   "cell_type": "markdown",
   "id": "6e06ac23-21ed-4076-8507-83a05ae0a590",
   "metadata": {},
   "source": [
    "## 4.5 ROC Curves\n",
    "\n",
    "### TPR and FRP"
   ]
  },
  {
   "cell_type": "code",
   "execution_count": 312,
   "id": "7e774995-81aa-4e5f-84b7-d61ded0b0175",
   "metadata": {},
   "outputs": [
    {
     "data": {
      "text/plain": [
       "0.2557094721078248"
      ]
     },
     "execution_count": 312,
     "metadata": {},
     "output_type": "execute_result"
    }
   ],
   "source": [
    "tpr = tp / (tp + fn)\n",
    "tpr"
   ]
  },
  {
   "cell_type": "code",
   "execution_count": 314,
   "id": "fe6392f1-c881-4ac1-906c-7b8c54ba75c5",
   "metadata": {},
   "outputs": [
    {
     "data": {
      "text/plain": [
       "0.011615204547987961"
      ]
     },
     "execution_count": 314,
     "metadata": {},
     "output_type": "execute_result"
    }
   ],
   "source": [
    "fpr = fp / (fp + tn)\n",
    "fpr"
   ]
  },
  {
   "cell_type": "code",
   "execution_count": 316,
   "id": "b0facf5b-cdb5-4780-9dc2-30bfff7c24e4",
   "metadata": {},
   "outputs": [],
   "source": [
    "scores = []\n",
    "\n",
    "thresholds = np.linspace(0, 1, 101)\n",
    "\n",
    "for t in thresholds:\n",
    "    actual_positive = (y_val == 1)\n",
    "    actual_negative = (y_val == 0)\n",
    "    \n",
    "    predict_positive = (y_pred >= t)\n",
    "    predict_negative = (y_pred < t)\n",
    "\n",
    "    tp = (predict_positive & actual_positive).sum()\n",
    "    tn = (predict_negative & actual_negative).sum()\n",
    "\n",
    "    fp = (predict_positive & actual_negative).sum()\n",
    "    fn = (predict_negative & actual_positive).sum()\n",
    "    \n",
    "    scores.append((t, tp, fp, fn, tn))"
   ]
  },
  {
   "cell_type": "code",
   "execution_count": 318,
   "id": "34eb2b30-317e-4263-b031-617e400f7c75",
   "metadata": {},
   "outputs": [],
   "source": [
    "columns = ['threshold', 'tp', 'fp', 'fn', 'tn']\n",
    "df_scores = pd.DataFrame(scores, columns=columns)\n",
    "\n",
    "df_scores['tpr'] = df_scores.tp / (df_scores.tp + df_scores.fn)\n",
    "df_scores['fpr'] = df_scores.fp / (df_scores.fp + df_scores.tn)"
   ]
  },
  {
   "cell_type": "code",
   "execution_count": 320,
   "id": "45c69af8-61be-489a-8617-640fd7603383",
   "metadata": {},
   "outputs": [
    {
     "data": {
      "text/plain": [
       "<matplotlib.legend.Legend at 0x1c2607df620>"
      ]
     },
     "execution_count": 320,
     "metadata": {},
     "output_type": "execute_result"
    },
    {
     "data": {
      "image/png": "[encoded data removed]",
      "text/plain": [
       "<Figure size 640x480 with 1 Axes>"
      ]
     },
     "metadata": {},
     "output_type": "display_data"
    }
   ],
   "source": [
    "plt.plot(df_scores.threshold, df_scores['tpr'], label='TPR')\n",
    "plt.plot(df_scores.threshold, df_scores['fpr'], label='FPR')\n",
    "plt.legend()"
   ]
  },
  {
   "cell_type": "markdown",
   "id": "617e8c8f-aba3-445d-a159-f8d2634f8a4d",
   "metadata": {},
   "source": [
    "### Random model"
   ]
  },
  {
   "cell_type": "code",
   "execution_count": 323,
   "id": "5fc9d7e7-9340-4098-bb48-a5ca84b07881",
   "metadata": {},
   "outputs": [],
   "source": [
    "np.random.seed(1)\n",
    "y_rand = np.random.uniform(0, 1, size=len(y_val))"
   ]
  },
  {
   "cell_type": "code",
   "execution_count": 325,
   "id": "b6c3d349-3edd-45a8-af5c-4d81acfa6b88",
   "metadata": {},
   "outputs": [
    {
     "data": {
      "text/plain": [
       "0.49785380633758364"
      ]
     },
     "execution_count": 325,
     "metadata": {},
     "output_type": "execute_result"
    }
   ],
   "source": [
    "((y_rand >= 0.5) == y_val).mean()"
   ]
  },
  {
   "cell_type": "code",
   "execution_count": 327,
   "id": "92ded817-e1c3-45d7-bfd6-e8de2157c142",
   "metadata": {},
   "outputs": [],
   "source": [
    "def tpr_fpr_dataframe(y_val, y_pred):\n",
    "    scores = []\n",
    "\n",
    "    thresholds = np.linspace(0, 1, 101)\n",
    "\n",
    "    for t in thresholds:\n",
    "        actual_positive = (y_val == 1)\n",
    "        actual_negative = (y_val == 0)\n",
    "\n",
    "        predict_positive = (y_pred >= t)\n",
    "        predict_negative = (y_pred < t)\n",
    "\n",
    "        tp = (predict_positive & actual_positive).sum()\n",
    "        tn = (predict_negative & actual_negative).sum()\n",
    "\n",
    "        fp = (predict_positive & actual_negative).sum()\n",
    "        fn = (predict_negative & actual_positive).sum()\n",
    "\n",
    "        scores.append((t, tp, fp, fn, tn))\n",
    "\n",
    "    columns = ['threshold', 'tp', 'fp', 'fn', 'tn']\n",
    "    df_scores = pd.DataFrame(scores, columns=columns)\n",
    "\n",
    "    df_scores['tpr'] = df_scores.tp / (df_scores.tp + df_scores.fn)\n",
    "    df_scores['fpr'] = df_scores.fp / (df_scores.fp + df_scores.tn)\n",
    "    \n",
    "    return df_scores"
   ]
  },
  {
   "cell_type": "code",
   "execution_count": 329,
   "id": "26135dcf-e05b-47c5-b1c6-a7895531bc31",
   "metadata": {},
   "outputs": [],
   "source": [
    "df_rand = tpr_fpr_dataframe(y_val, y_rand)"
   ]
  },
  {
   "cell_type": "code",
   "execution_count": 331,
   "id": "d75d7e02-5a41-495c-b664-bfbf6dd86407",
   "metadata": {},
   "outputs": [
    {
     "data": {
      "text/plain": [
       "<matplotlib.legend.Legend at 0x1c260a51be0>"
      ]
     },
     "execution_count": 331,
     "metadata": {},
     "output_type": "execute_result"
    },
    {
     "data": {
      "image/png": "[encoded data removed]",
      "text/plain": [
       "<Figure size 640x480 with 1 Axes>"
      ]
     },
     "metadata": {},
     "output_type": "display_data"
    }
   ],
   "source": [
    "plt.plot(df_rand.threshold, df_rand['tpr'], label='TPR')\n",
    "plt.plot(df_rand.threshold, df_rand['fpr'], label='FPR')\n",
    "plt.legend()"
   ]
  },
  {
   "cell_type": "markdown",
   "id": "cc733412-0295-40c8-bcf8-b33d10252531",
   "metadata": {},
   "source": [
    "### Ideal model"
   ]
  },
  {
   "cell_type": "code",
   "execution_count": 334,
   "id": "cfbadd3b-31cd-4478-b22c-25528ce15dda",
   "metadata": {},
   "outputs": [
    {
     "data": {
      "text/plain": [
       "(44855, 2671)"
      ]
     },
     "execution_count": 334,
     "metadata": {},
     "output_type": "execute_result"
    }
   ],
   "source": [
    "num_neg = (y_val == 0).sum()\n",
    "num_pos = (y_val == 1).sum()\n",
    "num_neg, num_pos"
   ]
  },
  {
   "cell_type": "code",
   "execution_count": 336,
   "id": "144567d0-d0af-4fc5-82c7-3c89a25a2db9",
   "metadata": {},
   "outputs": [],
   "source": [
    "y_ideal = np.repeat([0, 1], [num_neg, num_pos])\n",
    "y_ideal\n",
    "\n",
    "y_ideal_pred = np.linspace(0, 1, len(y_val))"
   ]
  },
  {
   "cell_type": "code",
   "execution_count": 338,
   "id": "0ca18c51-408a-4395-b5ae-b676d166d091",
   "metadata": {},
   "outputs": [
    {
     "data": {
      "text/plain": [
       "0.9437991836047637"
      ]
     },
     "execution_count": 338,
     "metadata": {},
     "output_type": "execute_result"
    }
   ],
   "source": [
    "1 - y_val.mean()"
   ]
  },
  {
   "cell_type": "code",
   "execution_count": 340,
   "id": "fc0247a4-0dfc-47bc-b764-21af85d59ada",
   "metadata": {},
   "outputs": [
    {
     "data": {
      "text/plain": [
       "0.7822034254934142"
      ]
     },
     "execution_count": 340,
     "metadata": {},
     "output_type": "execute_result"
    }
   ],
   "source": [
    "accuracy_score(y_ideal, y_ideal_pred >= 0.726)"
   ]
  },
  {
   "cell_type": "code",
   "execution_count": 342,
   "id": "c249e4f5-66b3-4e8f-ac71-01b68d282212",
   "metadata": {},
   "outputs": [
    {
     "data": {
      "text/html": [
       "<div>\n",
       "<style scoped>\n",
       "    .dataframe tbody tr th:only-of-type {\n",
       "        vertical-align: middle;\n",
       "    }\n",
       "\n",
       "    .dataframe tbody tr th {\n",
       "        vertical-align: top;\n",
       "    }\n",
       "\n",
       "    .dataframe thead th {\n",
       "        text-align: right;\n",
       "    }\n",
       "</style>\n",
       "<table border=\"1\" class=\"dataframe\">\n",
       "  <thead>\n",
       "    <tr style=\"text-align: right;\">\n",
       "      <th></th>\n",
       "      <th>threshold</th>\n",
       "      <th>tp</th>\n",
       "      <th>fp</th>\n",
       "      <th>fn</th>\n",
       "      <th>tn</th>\n",
       "      <th>tpr</th>\n",
       "      <th>fpr</th>\n",
       "    </tr>\n",
       "  </thead>\n",
       "  <tbody>\n",
       "    <tr>\n",
       "      <th>0</th>\n",
       "      <td>0.0</td>\n",
       "      <td>2671</td>\n",
       "      <td>44855</td>\n",
       "      <td>0</td>\n",
       "      <td>0</td>\n",
       "      <td>1.000000</td>\n",
       "      <td>1.000000</td>\n",
       "    </tr>\n",
       "    <tr>\n",
       "      <th>10</th>\n",
       "      <td>0.1</td>\n",
       "      <td>2671</td>\n",
       "      <td>40102</td>\n",
       "      <td>0</td>\n",
       "      <td>4753</td>\n",
       "      <td>1.000000</td>\n",
       "      <td>0.894036</td>\n",
       "    </tr>\n",
       "    <tr>\n",
       "      <th>20</th>\n",
       "      <td>0.2</td>\n",
       "      <td>2671</td>\n",
       "      <td>35350</td>\n",
       "      <td>0</td>\n",
       "      <td>9505</td>\n",
       "      <td>1.000000</td>\n",
       "      <td>0.788095</td>\n",
       "    </tr>\n",
       "    <tr>\n",
       "      <th>30</th>\n",
       "      <td>0.3</td>\n",
       "      <td>2671</td>\n",
       "      <td>30597</td>\n",
       "      <td>0</td>\n",
       "      <td>14258</td>\n",
       "      <td>1.000000</td>\n",
       "      <td>0.682131</td>\n",
       "    </tr>\n",
       "    <tr>\n",
       "      <th>40</th>\n",
       "      <td>0.4</td>\n",
       "      <td>2671</td>\n",
       "      <td>25845</td>\n",
       "      <td>0</td>\n",
       "      <td>19010</td>\n",
       "      <td>1.000000</td>\n",
       "      <td>0.576190</td>\n",
       "    </tr>\n",
       "    <tr>\n",
       "      <th>50</th>\n",
       "      <td>0.5</td>\n",
       "      <td>2671</td>\n",
       "      <td>21092</td>\n",
       "      <td>0</td>\n",
       "      <td>23763</td>\n",
       "      <td>1.000000</td>\n",
       "      <td>0.470226</td>\n",
       "    </tr>\n",
       "    <tr>\n",
       "      <th>60</th>\n",
       "      <td>0.6</td>\n",
       "      <td>2671</td>\n",
       "      <td>16340</td>\n",
       "      <td>0</td>\n",
       "      <td>28515</td>\n",
       "      <td>1.000000</td>\n",
       "      <td>0.364285</td>\n",
       "    </tr>\n",
       "    <tr>\n",
       "      <th>70</th>\n",
       "      <td>0.7</td>\n",
       "      <td>2671</td>\n",
       "      <td>11587</td>\n",
       "      <td>0</td>\n",
       "      <td>33268</td>\n",
       "      <td>1.000000</td>\n",
       "      <td>0.258321</td>\n",
       "    </tr>\n",
       "    <tr>\n",
       "      <th>80</th>\n",
       "      <td>0.8</td>\n",
       "      <td>2671</td>\n",
       "      <td>6835</td>\n",
       "      <td>0</td>\n",
       "      <td>38020</td>\n",
       "      <td>1.000000</td>\n",
       "      <td>0.152380</td>\n",
       "    </tr>\n",
       "    <tr>\n",
       "      <th>90</th>\n",
       "      <td>0.9</td>\n",
       "      <td>2671</td>\n",
       "      <td>2082</td>\n",
       "      <td>0</td>\n",
       "      <td>42773</td>\n",
       "      <td>1.000000</td>\n",
       "      <td>0.046416</td>\n",
       "    </tr>\n",
       "    <tr>\n",
       "      <th>100</th>\n",
       "      <td>1.0</td>\n",
       "      <td>1</td>\n",
       "      <td>0</td>\n",
       "      <td>2670</td>\n",
       "      <td>44855</td>\n",
       "      <td>0.000374</td>\n",
       "      <td>0.000000</td>\n",
       "    </tr>\n",
       "  </tbody>\n",
       "</table>\n",
       "</div>"
      ],
      "text/plain": [
       "     threshold    tp     fp    fn     tn       tpr       fpr\n",
       "0          0.0  2671  44855     0      0  1.000000  1.000000\n",
       "10         0.1  2671  40102     0   4753  1.000000  0.894036\n",
       "20         0.2  2671  35350     0   9505  1.000000  0.788095\n",
       "30         0.3  2671  30597     0  14258  1.000000  0.682131\n",
       "40         0.4  2671  25845     0  19010  1.000000  0.576190\n",
       "50         0.5  2671  21092     0  23763  1.000000  0.470226\n",
       "60         0.6  2671  16340     0  28515  1.000000  0.364285\n",
       "70         0.7  2671  11587     0  33268  1.000000  0.258321\n",
       "80         0.8  2671   6835     0  38020  1.000000  0.152380\n",
       "90         0.9  2671   2082     0  42773  1.000000  0.046416\n",
       "100        1.0     1      0  2670  44855  0.000374  0.000000"
      ]
     },
     "execution_count": 342,
     "metadata": {},
     "output_type": "execute_result"
    }
   ],
   "source": [
    "df_ideal = tpr_fpr_dataframe(y_ideal, y_ideal_pred)\n",
    "df_ideal[::10]"
   ]
  },
  {
   "cell_type": "code",
   "execution_count": 344,
   "id": "21e8b8d3-e3bb-43dd-8137-4743e2c6027e",
   "metadata": {},
   "outputs": [
    {
     "data": {
      "text/plain": [
       "<matplotlib.legend.Legend at 0x1c260a49880>"
      ]
     },
     "execution_count": 344,
     "metadata": {},
     "output_type": "execute_result"
    },
    {
     "data": {
      "image/png": "[encoded data removed]",
      "text/plain": [
       "<Figure size 640x480 with 1 Axes>"
      ]
     },
     "metadata": {},
     "output_type": "display_data"
    }
   ],
   "source": [
    "plt.plot(df_ideal.threshold, df_ideal['tpr'], label='TPR')\n",
    "plt.plot(df_ideal.threshold, df_ideal['fpr'], label='FPR')\n",
    "plt.legend()"
   ]
  },
  {
   "cell_type": "markdown",
   "id": "7ab2375c-e69e-411c-a754-bd39de555f4a",
   "metadata": {},
   "source": [
    "### Putting everything together"
   ]
  },
  {
   "cell_type": "code",
   "execution_count": 347,
   "id": "0db15a8f-3024-482e-87da-ebf95e681b85",
   "metadata": {},
   "outputs": [
    {
     "data": {
      "text/plain": [
       "<matplotlib.legend.Legend at 0x1c26a377620>"
      ]
     },
     "execution_count": 347,
     "metadata": {},
     "output_type": "execute_result"
    },
    {
     "data": {
      "image/png": "[encoded data removed]",
      "text/plain": [
       "<Figure size 640x480 with 1 Axes>"
      ]
     },
     "metadata": {},
     "output_type": "display_data"
    }
   ],
   "source": [
    "plt.plot(df_scores.threshold, df_scores['tpr'], label='TPR', color='black')\n",
    "plt.plot(df_scores.threshold, df_scores['fpr'], label='FPR', color='blue')\n",
    "\n",
    "plt.plot(df_ideal.threshold, df_ideal['tpr'], label='TPR ideal')\n",
    "plt.plot(df_ideal.threshold, df_ideal['fpr'], label='FPR ideal')\n",
    "\n",
    "# plt.plot(df_rand.threshold, df_rand['tpr'], label='TPR random', color='grey')\n",
    "# plt.plot(df_rand.threshold, df_rand['fpr'], label='FPR random', color='grey')\n",
    "\n",
    "plt.legend()"
   ]
  },
  {
   "cell_type": "code",
   "execution_count": 349,
   "id": "0f302f2e-d5a9-48ad-b167-db56177fc72e",
   "metadata": {},
   "outputs": [
    {
     "data": {
      "text/plain": [
       "<matplotlib.legend.Legend at 0x1c26a3cd1c0>"
      ]
     },
     "execution_count": 349,
     "metadata": {},
     "output_type": "execute_result"
    },
    {
     "data": {
      "image/png": "[encoded data removed]",
      "text/plain": [
       "<Figure size 500x500 with 1 Axes>"
      ]
     },
     "metadata": {},
     "output_type": "display_data"
    }
   ],
   "source": [
    "plt.figure(figsize=(5, 5))\n",
    "\n",
    "plt.plot(df_scores.fpr, df_scores.tpr, label='Model')\n",
    "plt.plot([0, 1], [0, 1], label='Random', linestyle='--')\n",
    "\n",
    "plt.xlabel('FPR')\n",
    "plt.ylabel('TPR')\n",
    "\n",
    "plt.legend()"
   ]
  },
  {
   "cell_type": "markdown",
   "id": "b6b5fc84-c5ad-4c7d-b8b0-f06532510aa1",
   "metadata": {},
   "source": [
    "### roc_curve with  Scikit lezrn"
   ]
  },
  {
   "cell_type": "code",
   "execution_count": 357,
   "id": "d5d04e39-10cc-4015-8c78-7808f85ddb93",
   "metadata": {},
   "outputs": [],
   "source": [
    "from sklearn.metrics import roc_curve"
   ]
  },
  {
   "cell_type": "code",
   "execution_count": 358,
   "id": "2f50a0b6-54aa-4bac-9afb-0e39dc79b182",
   "metadata": {},
   "outputs": [],
   "source": [
    "fpr, tpr, thresholds = roc_curve(y_val, y_pred)"
   ]
  },
  {
   "cell_type": "code",
   "execution_count": 361,
   "id": "a3202e36-6e48-4213-8b99-b1b7682762bc",
   "metadata": {},
   "outputs": [
    {
     "data": {
      "text/plain": [
       "<matplotlib.legend.Legend at 0x1c26a3352b0>"
      ]
     },
     "execution_count": 361,
     "metadata": {},
     "output_type": "execute_result"
    },
    {
     "data": {
      "image/png": "[encoded data removed]",
      "text/plain": [
       "<Figure size 500x500 with 1 Axes>"
      ]
     },
     "metadata": {},
     "output_type": "display_data"
    }
   ],
   "source": [
    "plt.figure(figsize=(5, 5))\n",
    "\n",
    "plt.plot(fpr, tpr, label='Model')\n",
    "plt.plot([0, 1], [0, 1], label='Random', linestyle='--')\n",
    "\n",
    "plt.xlabel('FPR')\n",
    "plt.ylabel('TPR')\n",
    "\n",
    "plt.legend()"
   ]
  },
  {
   "cell_type": "markdown",
   "id": "0c339e21-2f43-4193-8b8e-cdbf11954b37",
   "metadata": {},
   "source": [
    "## ROC AUC\n",
    "\n",
    "* Area under the ROC curve - useful metric\n",
    "* Interpretation of AUC"
   ]
  },
  {
   "cell_type": "code",
   "execution_count": 364,
   "id": "45bfd5c0-de0b-42c8-a27b-dd4ef916f067",
   "metadata": {},
   "outputs": [],
   "source": [
    "from sklearn.metrics import auc"
   ]
  },
  {
   "cell_type": "code",
   "execution_count": 366,
   "id": "261f5d96-1251-4817-99a3-5527b8637765",
   "metadata": {},
   "outputs": [
    {
     "data": {
      "text/plain": [
       "0.8860921006708208"
      ]
     },
     "execution_count": 366,
     "metadata": {},
     "output_type": "execute_result"
    }
   ],
   "source": [
    "auc(fpr, tpr)"
   ]
  },
  {
   "cell_type": "code",
   "execution_count": 368,
   "id": "22889e33-a65b-4131-8226-6df0fa61e5a5",
   "metadata": {},
   "outputs": [
    {
     "data": {
      "text/plain": [
       "0.8833135189427092"
      ]
     },
     "execution_count": 368,
     "metadata": {},
     "output_type": "execute_result"
    }
   ],
   "source": [
    "auc(df_scores.fpr, df_scores.tpr)"
   ]
  },
  {
   "cell_type": "code",
   "execution_count": 370,
   "id": "612bf4ed-b0fb-472e-a20c-5a759378a33b",
   "metadata": {},
   "outputs": [
    {
     "data": {
      "text/plain": [
       "0.9997779191246506"
      ]
     },
     "execution_count": 370,
     "metadata": {},
     "output_type": "execute_result"
    }
   ],
   "source": [
    "auc(df_ideal.fpr, df_ideal.tpr)"
   ]
  },
  {
   "cell_type": "code",
   "execution_count": 372,
   "id": "cfa6ea13-4170-49f1-974c-ff6341f3aba5",
   "metadata": {},
   "outputs": [
    {
     "data": {
      "text/plain": [
       "0.8860921006708208"
      ]
     },
     "execution_count": 372,
     "metadata": {},
     "output_type": "execute_result"
    }
   ],
   "source": [
    "fpr, tpr, thresholds = roc_curve(y_val, y_pred)\n",
    "auc(fpr, tpr)"
   ]
  },
  {
   "cell_type": "code",
   "execution_count": 374,
   "id": "02fe2cdb-de07-49f1-8b47-26a6ff07070e",
   "metadata": {},
   "outputs": [],
   "source": [
    "from sklearn.metrics import roc_auc_score"
   ]
  },
  {
   "cell_type": "code",
   "execution_count": 376,
   "id": "d19c554c-9819-4ff5-8b12-78ddebd8947e",
   "metadata": {},
   "outputs": [
    {
     "data": {
      "text/plain": [
       "0.8860921006708208"
      ]
     },
     "execution_count": 376,
     "metadata": {},
     "output_type": "execute_result"
    }
   ],
   "source": [
    "roc_auc_score(y_val, y_pred)"
   ]
  },
  {
   "cell_type": "code",
   "execution_count": 378,
   "id": "5a6afa0b-cb75-4a34-b3d0-11cadf897475",
   "metadata": {},
   "outputs": [],
   "source": [
    "neg = y_pred[y_val == 0]\n",
    "pos = y_pred[y_val == 1]"
   ]
  },
  {
   "cell_type": "code",
   "execution_count": 379,
   "id": "91a95579-5158-4a49-aaea-80fba16dbb97",
   "metadata": {},
   "outputs": [],
   "source": [
    "import random"
   ]
  },
  {
   "cell_type": "code",
   "execution_count": 382,
   "id": "a029439a-4e2e-47f8-893b-00a02689411c",
   "metadata": {},
   "outputs": [
    {
     "data": {
      "text/plain": [
       "0.88728"
      ]
     },
     "execution_count": 382,
     "metadata": {},
     "output_type": "execute_result"
    }
   ],
   "source": [
    "n = 50000\n",
    "\n",
    "np.random.seed(1)\n",
    "pos_ind = np.random.randint(0, len(pos), size=n)\n",
    "neg_ind = np.random.randint(0, len(neg), size=n)\n",
    "\n",
    "(pos[pos_ind] > neg[neg_ind]).mean()"
   ]
  },
  {
   "cell_type": "code",
   "execution_count": 384,
   "id": "06bb8ee5-02e3-43b8-8093-73e8f3378614",
   "metadata": {},
   "outputs": [
    {
     "data": {
      "text/plain": [
       "0.88639"
      ]
     },
     "execution_count": 384,
     "metadata": {},
     "output_type": "execute_result"
    }
   ],
   "source": [
    "n = 100000\n",
    "success = 0 \n",
    "\n",
    "for i in range(n):\n",
    "    pos_ind = random.randint(0, len(pos) - 1)\n",
    "    neg_ind = random.randint(0, len(neg) - 1)\n",
    "\n",
    "    if pos[pos_ind] > neg[neg_ind]:\n",
    "        success = success + 1\n",
    "\n",
    "success / n"
   ]
  },
  {
   "cell_type": "markdown",
   "id": "9b29e851-bafd-48ca-99bf-46153e16b537",
   "metadata": {},
   "source": [
    "## Cross-Validation\n",
    "\n",
    "* Evaluating the same model on different subsets of data\n",
    "* Getting the average prediction and the spread within predictions"
   ]
  },
  {
   "cell_type": "code",
   "execution_count": 387,
   "id": "4c97e96a-3d17-4cdd-8f5c-29ceceb775ea",
   "metadata": {},
   "outputs": [],
   "source": [
    "def train(df_train, y_train, C=1.0):\n",
    "    dicts = df_train[categorical + numerical].to_dict(orient='records')\n",
    "\n",
    "    dv = DictVectorizer(sparse=False)\n",
    "    X_train = dv.fit_transform(dicts)\n",
    "\n",
    "    model = LogisticRegression(C=C, max_iter=237630) \n",
    "    model.fit(X_train, y_train)\n",
    "    \n",
    "    return dv, model"
   ]
  },
  {
   "cell_type": "code",
   "execution_count": 389,
   "id": "e13be341-a8c1-4845-82cc-790fd12f2133",
   "metadata": {},
   "outputs": [],
   "source": [
    "dv, model = train(df_train, y_train, C=0.001)"
   ]
  },
  {
   "cell_type": "code",
   "execution_count": 390,
   "id": "5d0fe542-32b8-40dd-9a57-d476bc6dd4be",
   "metadata": {},
   "outputs": [],
   "source": [
    "def predict(df, dv, model):\n",
    "    dicts = df[categorical + numerical].to_dict(orient='records')\n",
    "\n",
    "    X = dv.transform(dicts)\n",
    "    y_pred = model.predict_proba(X)[:, 1]\n",
    "\n",
    "    return y_pred"
   ]
  },
  {
   "cell_type": "code",
   "execution_count": 393,
   "id": "969769e7-e0dd-4bf6-8a84-a3be54b458e7",
   "metadata": {},
   "outputs": [],
   "source": [
    "y_pred = predict(df_val, dv, model)"
   ]
  },
  {
   "cell_type": "code",
   "execution_count": 395,
   "id": "440b9de8-d9a8-4778-9b0c-ff3c9a48acb6",
   "metadata": {},
   "outputs": [],
   "source": [
    "from sklearn.model_selection import KFold"
   ]
  },
  {
   "cell_type": "code",
   "execution_count": 397,
   "id": "d344824e-d226-49e1-85b2-cb75287548bd",
   "metadata": {},
   "outputs": [],
   "source": [
    "from tqdm.auto import tqdm"
   ]
  },
  {
   "cell_type": "code",
   "execution_count": 399,
   "id": "ee7a9891-8997-4695-bb98-e38b99845be7",
   "metadata": {},
   "outputs": [
    {
     "data": {
      "application/vnd.jupyter.widget-view+json": {
       "model_id": "741a5ffff6aa47bfaea300a6cf9153cf",
       "version_major": 2,
       "version_minor": 0
      },
      "text/plain": [
       "  0%|          | 0/7 [00:00<?, ?it/s]"
      ]
     },
     "metadata": {},
     "output_type": "display_data"
    },
    {
     "name": "stdout",
     "output_type": "stream",
     "text": [
      "C=0.001 0.879 +- 0.002\n",
      "C=0.01 0.886 +- 0.002\n",
      "C=0.1 0.886 +- 0.002\n",
      "C=0.5 0.885 +- 0.002\n",
      "C=1 0.885 +- 0.002\n",
      "C=5 0.885 +- 0.002\n",
      "C=10 0.885 +- 0.002\n"
     ]
    }
   ],
   "source": [
    "n_splits = 3\n",
    "\n",
    "for C in tqdm([0.001, 0.01, 0.1, 0.5, 1, 5, 10]):\n",
    "    kfold = KFold(n_splits=n_splits, shuffle=True, random_state=1)\n",
    "\n",
    "    scores = []\n",
    "\n",
    "    for train_idx, val_idx in kfold.split(df_full_train):\n",
    "        df_train = df_full_train.iloc[train_idx]\n",
    "        df_val = df_full_train.iloc[val_idx]\n",
    "\n",
    "        y_train = df_train.hadheartattack.values\n",
    "        y_val = df_val.hadheartattack.values\n",
    "\n",
    "        dv, model = train(df_train, y_train, C=C)\n",
    "        y_pred = predict(df_val, dv, model)\n",
    "\n",
    "        auc = roc_auc_score(y_val, y_pred)\n",
    "        scores.append(auc)\n",
    "\n",
    "    print('C=%s %.3f +- %.3f' % (C, np.mean(scores), np.std(scores)))"
   ]
  },
  {
   "cell_type": "code",
   "execution_count": 400,
   "id": "30c3bec4-417e-472f-8686-03a021212b7a",
   "metadata": {},
   "outputs": [
    {
     "data": {
      "text/plain": [
       "[0.8853670490465516, 0.8872093482706633, 0.8830403067686006]"
      ]
     },
     "execution_count": 400,
     "metadata": {},
     "output_type": "execute_result"
    }
   ],
   "source": [
    "scores"
   ]
  },
  {
   "cell_type": "code",
   "execution_count": 403,
   "id": "7f844cce-5636-4777-babd-5a44964da6ab",
   "metadata": {},
   "outputs": [
    {
     "data": {
      "text/plain": [
       "(0.8852055680286052, 0.0017058299741080493)"
      ]
     },
     "execution_count": 403,
     "metadata": {},
     "output_type": "execute_result"
    }
   ],
   "source": [
    "np.mean(scores), np.std(scores)"
   ]
  },
  {
   "cell_type": "code",
   "execution_count": 405,
   "id": "4725a7cc-e278-4c65-b1e9-e5b0ef1bbdcb",
   "metadata": {},
   "outputs": [
    {
     "name": "stdout",
     "output_type": "stream",
     "text": [
      "0.885 +-  0.002\n"
     ]
    }
   ],
   "source": [
    "print( '%.3f +-  %.3f' % (np.mean(scores), np.std(scores)) )"
   ]
  },
  {
   "cell_type": "code",
   "execution_count": 409,
   "id": "ad6c3132-ec90-4bf8-bce5-4d2344d2f228",
   "metadata": {},
   "outputs": [
    {
     "data": {
      "text/plain": [
       "0.8866366399563267"
      ]
     },
     "execution_count": 409,
     "metadata": {},
     "output_type": "execute_result"
    }
   ],
   "source": [
    "dv, model = train(df_full_train, df_full_train.hadheartattack.values, C=1.0)\n",
    "y_pred = predict(df_test, dv, model)\n",
    "\n",
    "auc = roc_auc_score(y_test, y_pred)\n",
    "auc"
   ]
  },
  {
   "cell_type": "code",
   "execution_count": null,
   "id": "2eb3d058-4ab8-44c2-b0f4-746928575727",
   "metadata": {},
   "outputs": [],
   "source": []
  },
  {
   "cell_type": "code",
   "execution_count": null,
   "id": "c72a83b2-bed7-4442-b747-7f525c39cc36",
   "metadata": {},
   "outputs": [],
   "source": []
  },
  {
   "cell_type": "code",
   "execution_count": null,
   "id": "d3d22c60-1e0c-4bfc-beec-7d77c30a2499",
   "metadata": {},
   "outputs": [],
   "source": []
  },
  {
   "cell_type": "code",
   "execution_count": null,
   "id": "8bd4c910-efcb-43bd-a4e8-7dd655be887f",
   "metadata": {},
   "outputs": [],
   "source": []
  },
  {
   "cell_type": "code",
   "execution_count": null,
   "id": "85f4ac24-e15b-49a7-87a1-f239f0b25a13",
   "metadata": {},
   "outputs": [],
   "source": []
  }
 ],
 "metadata": {
  "kernelspec": {
   "display_name": "Python 3 (ipykernel)",
   "language": "python",
   "name": "python3"
  },
  "language_info": {
   "codemirror_mode": {
    "name": "ipython",
    "version": 3
   },
   "file_extension": ".py",
   "mimetype": "text/x-python",
   "name": "python",
   "nbconvert_exporter": "python",
   "pygments_lexer": "ipython3",
   "version": "3.12.4"
  }
 },
 "nbformat": 4,
 "nbformat_minor": 5
}
